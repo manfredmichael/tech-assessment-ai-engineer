{
  "cells": [
    {
      "cell_type": "code",
      "execution_count": 1,
      "metadata": {
        "colab": {
          "base_uri": "https://localhost:8080/"
        },
        "id": "hLUuW5pTJuPT",
        "outputId": "60f4f431-9168-45a7-ee13-b3fce8f370a5"
      },
      "outputs": [
        {
          "output_type": "stream",
          "name": "stdout",
          "text": [
            "Requirement already satisfied: roboflow in /usr/local/lib/python3.10/dist-packages (1.1.23)\n",
            "Requirement already satisfied: certifi==2023.7.22 in /usr/local/lib/python3.10/dist-packages (from roboflow) (2023.7.22)\n",
            "Requirement already satisfied: chardet==4.0.0 in /usr/local/lib/python3.10/dist-packages (from roboflow) (4.0.0)\n",
            "Requirement already satisfied: cycler==0.10.0 in /usr/local/lib/python3.10/dist-packages (from roboflow) (0.10.0)\n",
            "Requirement already satisfied: idna==2.10 in /usr/local/lib/python3.10/dist-packages (from roboflow) (2.10)\n",
            "Requirement already satisfied: kiwisolver>=1.3.1 in /usr/local/lib/python3.10/dist-packages (from roboflow) (1.4.5)\n",
            "Requirement already satisfied: matplotlib in /usr/local/lib/python3.10/dist-packages (from roboflow) (3.7.1)\n",
            "Requirement already satisfied: numpy>=1.18.5 in /usr/local/lib/python3.10/dist-packages (from roboflow) (1.25.2)\n",
            "Requirement already satisfied: opencv-python-headless==4.8.0.74 in /usr/local/lib/python3.10/dist-packages (from roboflow) (4.8.0.74)\n",
            "Requirement already satisfied: Pillow>=7.1.2 in /usr/local/lib/python3.10/dist-packages (from roboflow) (9.4.0)\n",
            "Requirement already satisfied: python-dateutil in /usr/local/lib/python3.10/dist-packages (from roboflow) (2.8.2)\n",
            "Requirement already satisfied: python-dotenv in /usr/local/lib/python3.10/dist-packages (from roboflow) (1.0.1)\n",
            "Requirement already satisfied: requests in /usr/local/lib/python3.10/dist-packages (from roboflow) (2.31.0)\n",
            "Requirement already satisfied: six in /usr/local/lib/python3.10/dist-packages (from roboflow) (1.16.0)\n",
            "Requirement already satisfied: urllib3>=1.26.6 in /usr/local/lib/python3.10/dist-packages (from roboflow) (2.0.7)\n",
            "Requirement already satisfied: tqdm>=4.41.0 in /usr/local/lib/python3.10/dist-packages (from roboflow) (4.66.2)\n",
            "Requirement already satisfied: PyYAML>=5.3.1 in /usr/local/lib/python3.10/dist-packages (from roboflow) (6.0.1)\n",
            "Requirement already satisfied: requests-toolbelt in /usr/local/lib/python3.10/dist-packages (from roboflow) (1.0.0)\n",
            "Requirement already satisfied: python-magic in /usr/local/lib/python3.10/dist-packages (from roboflow) (0.4.27)\n",
            "Requirement already satisfied: contourpy>=1.0.1 in /usr/local/lib/python3.10/dist-packages (from matplotlib->roboflow) (1.2.0)\n",
            "Requirement already satisfied: fonttools>=4.22.0 in /usr/local/lib/python3.10/dist-packages (from matplotlib->roboflow) (4.49.0)\n",
            "Requirement already satisfied: packaging>=20.0 in /usr/local/lib/python3.10/dist-packages (from matplotlib->roboflow) (23.2)\n",
            "Requirement already satisfied: pyparsing>=2.3.1 in /usr/local/lib/python3.10/dist-packages (from matplotlib->roboflow) (3.1.1)\n",
            "Requirement already satisfied: charset-normalizer<4,>=2 in /usr/local/lib/python3.10/dist-packages (from requests->roboflow) (3.3.2)\n",
            "Requirement already satisfied: wandb==0.15.12 in /usr/local/lib/python3.10/dist-packages (0.15.12)\n",
            "Requirement already satisfied: Click!=8.0.0,>=7.1 in /usr/local/lib/python3.10/dist-packages (from wandb==0.15.12) (8.1.7)\n",
            "Requirement already satisfied: GitPython!=3.1.29,>=1.0.0 in /usr/local/lib/python3.10/dist-packages (from wandb==0.15.12) (3.1.42)\n",
            "Requirement already satisfied: requests<3,>=2.0.0 in /usr/local/lib/python3.10/dist-packages (from wandb==0.15.12) (2.31.0)\n",
            "Requirement already satisfied: psutil>=5.0.0 in /usr/local/lib/python3.10/dist-packages (from wandb==0.15.12) (5.9.5)\n",
            "Requirement already satisfied: sentry-sdk>=1.0.0 in /usr/local/lib/python3.10/dist-packages (from wandb==0.15.12) (1.41.0)\n",
            "Requirement already satisfied: docker-pycreds>=0.4.0 in /usr/local/lib/python3.10/dist-packages (from wandb==0.15.12) (0.4.0)\n",
            "Requirement already satisfied: PyYAML in /usr/local/lib/python3.10/dist-packages (from wandb==0.15.12) (6.0.1)\n",
            "Requirement already satisfied: pathtools in /usr/local/lib/python3.10/dist-packages (from wandb==0.15.12) (0.1.2)\n",
            "Requirement already satisfied: setproctitle in /usr/local/lib/python3.10/dist-packages (from wandb==0.15.12) (1.3.3)\n",
            "Requirement already satisfied: setuptools in /usr/local/lib/python3.10/dist-packages (from wandb==0.15.12) (67.7.2)\n",
            "Requirement already satisfied: appdirs>=1.4.3 in /usr/local/lib/python3.10/dist-packages (from wandb==0.15.12) (1.4.4)\n",
            "Requirement already satisfied: protobuf!=4.21.0,<5,>=3.19.0 in /usr/local/lib/python3.10/dist-packages (from wandb==0.15.12) (3.20.3)\n",
            "Requirement already satisfied: six>=1.4.0 in /usr/local/lib/python3.10/dist-packages (from docker-pycreds>=0.4.0->wandb==0.15.12) (1.16.0)\n",
            "Requirement already satisfied: gitdb<5,>=4.0.1 in /usr/local/lib/python3.10/dist-packages (from GitPython!=3.1.29,>=1.0.0->wandb==0.15.12) (4.0.11)\n",
            "Requirement already satisfied: charset-normalizer<4,>=2 in /usr/local/lib/python3.10/dist-packages (from requests<3,>=2.0.0->wandb==0.15.12) (3.3.2)\n",
            "Requirement already satisfied: idna<4,>=2.5 in /usr/local/lib/python3.10/dist-packages (from requests<3,>=2.0.0->wandb==0.15.12) (2.10)\n",
            "Requirement already satisfied: urllib3<3,>=1.21.1 in /usr/local/lib/python3.10/dist-packages (from requests<3,>=2.0.0->wandb==0.15.12) (2.0.7)\n",
            "Requirement already satisfied: certifi>=2017.4.17 in /usr/local/lib/python3.10/dist-packages (from requests<3,>=2.0.0->wandb==0.15.12) (2023.7.22)\n",
            "Requirement already satisfied: smmap<6,>=3.0.1 in /usr/local/lib/python3.10/dist-packages (from gitdb<5,>=4.0.1->GitPython!=3.1.29,>=1.0.0->wandb==0.15.12) (5.0.1)\n",
            "Requirement already satisfied: ultralytics==8.0.186 in /usr/local/lib/python3.10/dist-packages (8.0.186)\n",
            "Requirement already satisfied: matplotlib>=3.3.0 in /usr/local/lib/python3.10/dist-packages (from ultralytics==8.0.186) (3.7.1)\n",
            "Requirement already satisfied: numpy>=1.22.2 in /usr/local/lib/python3.10/dist-packages (from ultralytics==8.0.186) (1.25.2)\n",
            "Requirement already satisfied: opencv-python>=4.6.0 in /usr/local/lib/python3.10/dist-packages (from ultralytics==8.0.186) (4.8.0.76)\n",
            "Requirement already satisfied: pillow>=7.1.2 in /usr/local/lib/python3.10/dist-packages (from ultralytics==8.0.186) (9.4.0)\n",
            "Requirement already satisfied: pyyaml>=5.3.1 in /usr/local/lib/python3.10/dist-packages (from ultralytics==8.0.186) (6.0.1)\n",
            "Requirement already satisfied: requests>=2.23.0 in /usr/local/lib/python3.10/dist-packages (from ultralytics==8.0.186) (2.31.0)\n",
            "Requirement already satisfied: scipy>=1.4.1 in /usr/local/lib/python3.10/dist-packages (from ultralytics==8.0.186) (1.11.4)\n",
            "Requirement already satisfied: torch>=1.8.0 in /usr/local/lib/python3.10/dist-packages (from ultralytics==8.0.186) (2.1.0+cu121)\n",
            "Requirement already satisfied: torchvision>=0.9.0 in /usr/local/lib/python3.10/dist-packages (from ultralytics==8.0.186) (0.16.0+cu121)\n",
            "Requirement already satisfied: tqdm>=4.64.0 in /usr/local/lib/python3.10/dist-packages (from ultralytics==8.0.186) (4.66.2)\n",
            "Requirement already satisfied: pandas>=1.1.4 in /usr/local/lib/python3.10/dist-packages (from ultralytics==8.0.186) (1.5.3)\n",
            "Requirement already satisfied: seaborn>=0.11.0 in /usr/local/lib/python3.10/dist-packages (from ultralytics==8.0.186) (0.13.1)\n",
            "Requirement already satisfied: psutil in /usr/local/lib/python3.10/dist-packages (from ultralytics==8.0.186) (5.9.5)\n",
            "Requirement already satisfied: py-cpuinfo in /usr/local/lib/python3.10/dist-packages (from ultralytics==8.0.186) (9.0.0)\n",
            "Requirement already satisfied: contourpy>=1.0.1 in /usr/local/lib/python3.10/dist-packages (from matplotlib>=3.3.0->ultralytics==8.0.186) (1.2.0)\n",
            "Requirement already satisfied: cycler>=0.10 in /usr/local/lib/python3.10/dist-packages (from matplotlib>=3.3.0->ultralytics==8.0.186) (0.10.0)\n",
            "Requirement already satisfied: fonttools>=4.22.0 in /usr/local/lib/python3.10/dist-packages (from matplotlib>=3.3.0->ultralytics==8.0.186) (4.49.0)\n",
            "Requirement already satisfied: kiwisolver>=1.0.1 in /usr/local/lib/python3.10/dist-packages (from matplotlib>=3.3.0->ultralytics==8.0.186) (1.4.5)\n",
            "Requirement already satisfied: packaging>=20.0 in /usr/local/lib/python3.10/dist-packages (from matplotlib>=3.3.0->ultralytics==8.0.186) (23.2)\n",
            "Requirement already satisfied: pyparsing>=2.3.1 in /usr/local/lib/python3.10/dist-packages (from matplotlib>=3.3.0->ultralytics==8.0.186) (3.1.1)\n",
            "Requirement already satisfied: python-dateutil>=2.7 in /usr/local/lib/python3.10/dist-packages (from matplotlib>=3.3.0->ultralytics==8.0.186) (2.8.2)\n",
            "Requirement already satisfied: pytz>=2020.1 in /usr/local/lib/python3.10/dist-packages (from pandas>=1.1.4->ultralytics==8.0.186) (2023.4)\n",
            "Requirement already satisfied: charset-normalizer<4,>=2 in /usr/local/lib/python3.10/dist-packages (from requests>=2.23.0->ultralytics==8.0.186) (3.3.2)\n",
            "Requirement already satisfied: idna<4,>=2.5 in /usr/local/lib/python3.10/dist-packages (from requests>=2.23.0->ultralytics==8.0.186) (2.10)\n",
            "Requirement already satisfied: urllib3<3,>=1.21.1 in /usr/local/lib/python3.10/dist-packages (from requests>=2.23.0->ultralytics==8.0.186) (2.0.7)\n",
            "Requirement already satisfied: certifi>=2017.4.17 in /usr/local/lib/python3.10/dist-packages (from requests>=2.23.0->ultralytics==8.0.186) (2023.7.22)\n",
            "Requirement already satisfied: filelock in /usr/local/lib/python3.10/dist-packages (from torch>=1.8.0->ultralytics==8.0.186) (3.13.1)\n",
            "Requirement already satisfied: typing-extensions in /usr/local/lib/python3.10/dist-packages (from torch>=1.8.0->ultralytics==8.0.186) (4.10.0)\n",
            "Requirement already satisfied: sympy in /usr/local/lib/python3.10/dist-packages (from torch>=1.8.0->ultralytics==8.0.186) (1.12)\n",
            "Requirement already satisfied: networkx in /usr/local/lib/python3.10/dist-packages (from torch>=1.8.0->ultralytics==8.0.186) (3.2.1)\n",
            "Requirement already satisfied: jinja2 in /usr/local/lib/python3.10/dist-packages (from torch>=1.8.0->ultralytics==8.0.186) (3.1.3)\n",
            "Requirement already satisfied: fsspec in /usr/local/lib/python3.10/dist-packages (from torch>=1.8.0->ultralytics==8.0.186) (2023.6.0)\n",
            "Requirement already satisfied: triton==2.1.0 in /usr/local/lib/python3.10/dist-packages (from torch>=1.8.0->ultralytics==8.0.186) (2.1.0)\n",
            "Requirement already satisfied: six in /usr/local/lib/python3.10/dist-packages (from cycler>=0.10->matplotlib>=3.3.0->ultralytics==8.0.186) (1.16.0)\n",
            "Requirement already satisfied: MarkupSafe>=2.0 in /usr/local/lib/python3.10/dist-packages (from jinja2->torch>=1.8.0->ultralytics==8.0.186) (2.1.5)\n",
            "Requirement already satisfied: mpmath>=0.19 in /usr/local/lib/python3.10/dist-packages (from sympy->torch>=1.8.0->ultralytics==8.0.186) (1.3.0)\n"
          ]
        }
      ],
      "source": [
        "!pip install roboflow\n",
        "!pip install wandb==0.15.12\n",
        "!pip install ultralytics==8.0.186"
      ]
    },
    {
      "cell_type": "markdown",
      "metadata": {
        "id": "W4bpYoXPdICN"
      },
      "source": [
        "# Download Dataset"
      ]
    },
    {
      "cell_type": "markdown",
      "metadata": {
        "id": "k2a4POcLdKPd"
      },
      "source": [
        "I found an object detection dataset on Roboflow Universe. This dataset contains 9989 images with 4 classes:\n",
        "* `ambulance`\n",
        "* `label`\n",
        "* `siren`\n",
        "* `misc` (other type of trucks).\n",
        "\n",
        "**Note**: You need to insert your Roboflow API key to run the cell below."
      ]
    },
    {
      "cell_type": "code",
      "execution_count": 2,
      "metadata": {
        "id": "hK2DcESMHFwD",
        "colab": {
          "base_uri": "https://localhost:8080/"
        },
        "outputId": "ab668dca-19ff-4213-81da-c41b0f90c27f"
      },
      "outputs": [
        {
          "output_type": "stream",
          "name": "stdout",
          "text": [
            "··········\n",
            "loading Roboflow workspace...\n",
            "loading Roboflow project...\n",
            "Dependency ultralytics==8.0.196 is required but found version=8.0.186, to fix: `pip install ultralytics==8.0.196`\n"
          ]
        },
        {
          "output_type": "stream",
          "name": "stderr",
          "text": [
            "Downloading Dataset Version Zip in PH-Ambulances-1 to yolov8:: 100%|██████████| 558873/558873 [00:12<00:00, 43413.13it/s]"
          ]
        },
        {
          "output_type": "stream",
          "name": "stdout",
          "text": [
            "\n"
          ]
        },
        {
          "output_type": "stream",
          "name": "stderr",
          "text": [
            "\n",
            "Extracting Dataset Version Zip to PH-Ambulances-1 in yolov8:: 100%|██████████| 19990/19990 [00:04<00:00, 4758.68it/s]\n"
          ]
        }
      ],
      "source": [
        "from getpass import getpass\n",
        "from roboflow import Roboflow\n",
        "\n",
        "rf = Roboflow(api_key=getpass())\n",
        "project = rf.workspace(\"ph-ambulance-dataset-with-augmentations\").project(\"ph-ambulances\")\n",
        "version = project.version(1)\n",
        "dataset = version.download(\"yolov8\")\n"
      ]
    },
    {
      "cell_type": "markdown",
      "metadata": {
        "id": "VAvLch8RecBl"
      },
      "source": [
        "The dataset would be splitted into 3 parts when we download it."
      ]
    },
    {
      "cell_type": "markdown",
      "metadata": {
        "id": "9j2UItKteX5Q"
      },
      "source": [
        "![image.png](data:image/png;base64,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)"
      ]
    },
    {
      "cell_type": "markdown",
      "metadata": {
        "id": "SofVDqFBw5Oq"
      },
      "source": [
        "All images in this dataset are already resized into 640x640 and it also includes augmented samples. So, I don't need to do any data preparation. However, I still need to modify the labels."
      ]
    },
    {
      "cell_type": "markdown",
      "metadata": {
        "id": "zO5bJpTMw5Oo"
      },
      "source": [
        "![image.png](data:image/png;base64,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)"
      ]
    },
    {
      "cell_type": "markdown",
      "metadata": {
        "id": "6fBlo3Uaw5Oq"
      },
      "source": [
        "# Data Preparation"
      ]
    },
    {
      "cell_type": "markdown",
      "metadata": {
        "id": "0TBz75Ybw5Oq"
      },
      "source": [
        "I need to convert the classes to only include 2 classes: `ambulance` and `truck`.\n",
        "\n",
        "To do that I will rename the label directories into original labels."
      ]
    },
    {
      "cell_type": "code",
      "execution_count": 3,
      "metadata": {
        "id": "jB36UdL5AS4y"
      },
      "outputs": [],
      "source": [
        "!mv /content/PH-Ambulances-1/train/labels /content/PH-Ambulances-1/train/labels-original\n",
        "!mv /content/PH-Ambulances-1/valid/labels /content/PH-Ambulances-1/valid/labels-original\n",
        "!mv /content/PH-Ambulances-1/test/labels /content/PH-Ambulances-1/test/labels-original"
      ]
    },
    {
      "cell_type": "code",
      "execution_count": 4,
      "metadata": {
        "id": "0s8Cpnf8IZcx"
      },
      "outputs": [],
      "source": [
        "# !rm -rf /content/PH-Ambulances-1/train/labels\n",
        "# !rm -rf /content/PH-Ambulances-1/valid/labels\n",
        "# !rm -rf /content/PH-Ambulances-1/test/labels"
      ]
    },
    {
      "cell_type": "code",
      "execution_count": 5,
      "metadata": {
        "id": "8XO7pI5zAimE"
      },
      "outputs": [],
      "source": [
        "!mkdir /content/PH-Ambulances-1/train/labels\n",
        "!mkdir /content/PH-Ambulances-1/valid/labels\n",
        "!mkdir /content/PH-Ambulances-1/test/labels"
      ]
    },
    {
      "cell_type": "markdown",
      "metadata": {
        "id": "WNOmtgBfw5Or"
      },
      "source": [
        "Then, I will iterate through all the labels and convert them to only include our desired classes. Here is the label annotations:\n",
        "\n",
        "* 0: Ambulance\n",
        "* 1: Label\n",
        "* 2: Truck\n",
        "* 3: Siren\n",
        "\n",
        "I will only use 0 and 2"
      ]
    },
    {
      "cell_type": "code",
      "execution_count": 6,
      "metadata": {
        "colab": {
          "base_uri": "https://localhost:8080/"
        },
        "id": "ZSrJhNewA-TW",
        "outputId": "e420593d-64a9-43a1-bdf2-6815230162a3"
      },
      "outputs": [
        {
          "output_type": "stream",
          "name": "stderr",
          "text": [
            "100%|██████████| 6992/6992 [00:00<00:00, 12840.75it/s]\n",
            "100%|██████████| 1998/1998 [00:00<00:00, 13441.58it/s]\n",
            "100%|██████████| 999/999 [00:00<00:00, 13681.32it/s]\n"
          ]
        }
      ],
      "source": [
        "import glob, os\n",
        "import tqdm\n",
        "\n",
        "usable_class = {\n",
        "    '0': '0',\n",
        "    '2': '1',\n",
        "    '4': '2'\n",
        "}\n",
        "\n",
        "def convert_object_labels(objects):\n",
        "    new_objects = []\n",
        "    for object_ in objects:\n",
        "        if len(object_)>0:\n",
        "            class_name = object_[0]\n",
        "            if class_name in usable_class:\n",
        "                new_objects.append(usable_class[class_name] + object_[1:])\n",
        "    return new_objects\n",
        "\n",
        "for split in ['train', 'valid', 'test']:\n",
        "    for filepath in tqdm.tqdm(glob.glob(f'/content/PH-Ambulances-1/{split}/labels-original/*.txt')):\n",
        "\n",
        "        # Read original annotion and convert it\n",
        "        with open(filepath, 'r') as f:\n",
        "            objects = f.read().split('\\n')\n",
        "            objects = convert_object_labels(objects)\n",
        "\n",
        "        # Write new annotation\n",
        "        new_path = filepath.replace('labels-original', 'labels')\n",
        "        with open(new_path, 'w') as f:\n",
        "            f.write('\\n'.join(objects))\n"
      ]
    },
    {
      "cell_type": "markdown",
      "metadata": {
        "id": "16SXeQGJw5Or"
      },
      "source": [
        "\n",
        "I need to modify the data.yaml that we will use in the training process."
      ]
    },
    {
      "cell_type": "code",
      "execution_count": 8,
      "metadata": {
        "colab": {
          "base_uri": "https://localhost:8080/"
        },
        "id": "Ut2Wo1QMG6lQ",
        "outputId": "fdf5d4dc-7488-4583-9831-0adc832ebbc7"
      },
      "outputs": [
        {
          "output_type": "stream",
          "name": "stdout",
          "text": [
            "Overwriting /content/PH-Ambulances-1/new_data.yaml\n"
          ]
        }
      ],
      "source": [
        "%%writefile /content/PH-Ambulances-1/new_data.yaml\n",
        "\n",
        "names:\n",
        "- Aambulance\n",
        "- truck\n",
        "- object\n",
        "nc: 3\n",
        "roboflow:\n",
        "  license: CC BY 4.0\n",
        "  project: ph-ambulances\n",
        "  url: https://universe.roboflow.com/ph-ambulance-dataset-with-augmentations/ph-ambulances/dataset/1\n",
        "  version: 1\n",
        "  workspace: ph-ambulance-dataset-with-augmentations\n",
        "test: /content/PH-Ambulances-1/test/images\n",
        "train: /content/PH-Ambulances-1/train/images\n",
        "val: /content/PH-Ambulances-1/valid/images\n"
      ]
    },
    {
      "cell_type": "markdown",
      "metadata": {
        "id": "JCYjNpydw5Os"
      },
      "source": [
        "# Model Training"
      ]
    },
    {
      "cell_type": "markdown",
      "metadata": {
        "id": "9eJha2Kyw5Os"
      },
      "source": [
        "I will use ultralytics to train YOLOv8, and WandB to monitor the training process. This wandb tracking implementation includes some advanced features that we will see shortly."
      ]
    },
    {
      "cell_type": "code",
      "execution_count": 9,
      "metadata": {
        "colab": {
          "base_uri": "https://localhost:8080/"
        },
        "id": "A79lfQaaQxY4",
        "outputId": "f701e283-02a2-45f1-df20-21779e8944ad"
      },
      "outputs": [
        {
          "output_type": "stream",
          "name": "stderr",
          "text": [
            "WARNING ⚠️ 'ultralytics.yolo.v8' is deprecated since '8.0.136' and will be removed in '8.1.0'. Please use 'ultralytics.models.yolo' instead.\n",
            "WARNING ⚠️ 'ultralytics.yolo.utils' is deprecated since '8.0.136' and will be removed in '8.1.0'. Please use 'ultralytics.utils' instead.\n",
            "Note this warning may be related to loading older models. You can update your model to current structure with:\n",
            "    import torch\n",
            "    ckpt = torch.load(\"model.pt\")  # applies to both official and custom models\n",
            "    torch.save(ckpt, \"updated-model.pt\")\n",
            "\n"
          ]
        }
      ],
      "source": [
        "import wandb\n",
        "from wandb.integration.ultralytics import add_wandb_callback\n",
        "from PIL import Image\n",
        "\n",
        "from ultralytics import YOLO"
      ]
    },
    {
      "cell_type": "code",
      "execution_count": null,
      "metadata": {
        "colab": {
          "base_uri": "https://localhost:8080/",
          "height": 884
        },
        "id": "mZzOItry66VU",
        "outputId": "21d8c511-5fb0-49b4-ddfb-97863678ddeb"
      },
      "outputs": [
        {
          "data": {
            "text/html": [
              "Finishing last run (ID:fcf4xfc6) before initializing another..."
            ],
            "text/plain": [
              "<IPython.core.display.HTML object>"
            ]
          },
          "metadata": {},
          "output_type": "display_data"
        },
        {
          "data": {
            "text/html": [
              "Waiting for W&B process to finish... <strong style=\"color:green\">(success).</strong>"
            ],
            "text/plain": [
              "<IPython.core.display.HTML object>"
            ]
          },
          "metadata": {},
          "output_type": "display_data"
        },
        {
          "data": {
            "text/html": [
              "<style>\n",
              "    table.wandb td:nth-child(1) { padding: 0 10px; text-align: left ; width: auto;} td:nth-child(2) {text-align: left ; width: 100%}\n",
              "    .wandb-row { display: flex; flex-direction: row; flex-wrap: wrap; justify-content: flex-start; width: 100% }\n",
              "    .wandb-col { display: flex; flex-direction: column; flex-basis: 100%; flex: 1; padding: 10px; }\n",
              "    </style>\n",
              "<div class=\"wandb-row\"><div class=\"wandb-col\"><h3>Run history:</h3><br/><table class=\"wandb\"><tr><td>lr/pg0</td><td>▁</td></tr><tr><td>lr/pg1</td><td>▁</td></tr><tr><td>lr/pg2</td><td>▁</td></tr><tr><td>train/box_loss</td><td>▁</td></tr><tr><td>train/cls_loss</td><td>▁</td></tr><tr><td>train/dfl_loss</td><td>▁</td></tr></table><br/></div><div class=\"wandb-col\"><h3>Run summary:</h3><br/><table class=\"wandb\"><tr><td>lr/pg0</td><td>0.00047</td></tr><tr><td>lr/pg1</td><td>0.00047</td></tr><tr><td>lr/pg2</td><td>0.00047</td></tr><tr><td>train/box_loss</td><td>0.0</td></tr><tr><td>train/cls_loss</td><td>107.27233</td></tr><tr><td>train/dfl_loss</td><td>0.0</td></tr></table><br/></div></div>"
            ],
            "text/plain": [
              "<IPython.core.display.HTML object>"
            ]
          },
          "metadata": {},
          "output_type": "display_data"
        },
        {
          "data": {
            "text/html": [
              " View run <strong style=\"color:#cdcd00\">stellar-moon-10</strong> at: <a href='https://wandb.ai/nodeflux-internship/kecilin-tech-assessment/runs/fcf4xfc6' target=\"_blank\">https://wandb.ai/nodeflux-internship/kecilin-tech-assessment/runs/fcf4xfc6</a><br/>Synced 5 W&B file(s), 0 media file(s), 0 artifact file(s) and 0 other file(s)"
            ],
            "text/plain": [
              "<IPython.core.display.HTML object>"
            ]
          },
          "metadata": {},
          "output_type": "display_data"
        },
        {
          "data": {
            "text/html": [
              "Find logs at: <code>./wandb/run-20240309_120555-fcf4xfc6/logs</code>"
            ],
            "text/plain": [
              "<IPython.core.display.HTML object>"
            ]
          },
          "metadata": {},
          "output_type": "display_data"
        },
        {
          "data": {
            "text/html": [
              "Successfully finished last run (ID:fcf4xfc6). Initializing new run:<br/>"
            ],
            "text/plain": [
              "<IPython.core.display.HTML object>"
            ]
          },
          "metadata": {},
          "output_type": "display_data"
        },
        {
          "data": {
            "text/html": [
              "wandb version 0.16.4 is available!  To upgrade, please run:\n",
              " $ pip install wandb --upgrade"
            ],
            "text/plain": [
              "<IPython.core.display.HTML object>"
            ]
          },
          "metadata": {},
          "output_type": "display_data"
        },
        {
          "data": {
            "text/html": [
              "Tracking run with wandb version 0.15.12"
            ],
            "text/plain": [
              "<IPython.core.display.HTML object>"
            ]
          },
          "metadata": {},
          "output_type": "display_data"
        },
        {
          "data": {
            "text/html": [
              "Run data is saved locally in <code>/content/wandb/run-20240309_121456-jeos7szf</code>"
            ],
            "text/plain": [
              "<IPython.core.display.HTML object>"
            ]
          },
          "metadata": {},
          "output_type": "display_data"
        },
        {
          "data": {
            "text/html": [
              "Syncing run <strong><a href='https://wandb.ai/nodeflux-internship/kecilin-tech-assessment/runs/jeos7szf' target=\"_blank\">ethereal-waterfall-11</a></strong> to <a href='https://wandb.ai/nodeflux-internship/kecilin-tech-assessment' target=\"_blank\">Weights & Biases</a> (<a href='https://wandb.me/run' target=\"_blank\">docs</a>)<br/>"
            ],
            "text/plain": [
              "<IPython.core.display.HTML object>"
            ]
          },
          "metadata": {},
          "output_type": "display_data"
        },
        {
          "data": {
            "text/html": [
              " View project at <a href='https://wandb.ai/nodeflux-internship/kecilin-tech-assessment' target=\"_blank\">https://wandb.ai/nodeflux-internship/kecilin-tech-assessment</a>"
            ],
            "text/plain": [
              "<IPython.core.display.HTML object>"
            ]
          },
          "metadata": {},
          "output_type": "display_data"
        },
        {
          "data": {
            "text/html": [
              " View run at <a href='https://wandb.ai/nodeflux-internship/kecilin-tech-assessment/runs/jeos7szf' target=\"_blank\">https://wandb.ai/nodeflux-internship/kecilin-tech-assessment/runs/jeos7szf</a>"
            ],
            "text/plain": [
              "<IPython.core.display.HTML object>"
            ]
          },
          "metadata": {},
          "output_type": "display_data"
        },
        {
          "data": {
            "text/html": [
              "<button onClick=\"this.nextSibling.style.display='block';this.style.display='none';\">Display W&B run</button><iframe src='https://wandb.ai/nodeflux-internship/kecilin-tech-assessment/runs/jeos7szf?jupyter=true' style='border:none;width:100%;height:420px;display:none;'></iframe>"
            ],
            "text/plain": [
              "<wandb.sdk.wandb_run.Run at 0x7bde8193c8b0>"
            ]
          },
          "execution_count": 38,
          "metadata": {},
          "output_type": "execute_result"
        }
      ],
      "source": [
        "wandb.init(project=\"kecilin-tech-assessment\", job_type=\"training\")"
      ]
    },
    {
      "cell_type": "code",
      "execution_count": null,
      "metadata": {
        "colab": {
          "base_uri": "https://localhost:8080/"
        },
        "id": "3QhRD12ABwT3",
        "outputId": "4848fb3b-deed-4cf0-d331-8204b89edf3c"
      },
      "outputs": [
        {
          "name": "stderr",
          "output_type": "stream",
          "text": [
            "Ultralytics YOLOv8.0.186 🚀 Python-3.10.12 torch-2.1.0+cu121 CUDA:0 (Tesla T4, 15102MiB)\n",
            "Setup complete ✅ (2 CPUs, 12.7 GB RAM, 26.6/78.2 GB disk)\n"
          ]
        }
      ],
      "source": [
        "import ultralytics\n",
        "ultralytics.checks()"
      ]
    },
    {
      "cell_type": "markdown",
      "metadata": {
        "id": "OjpabMQqw5Ot"
      },
      "source": [
        "I trained YOLOv8 for 10 epochs."
      ]
    },
    {
      "cell_type": "code",
      "execution_count": null,
      "metadata": {
        "colab": {
          "base_uri": "https://localhost:8080/",
          "height": 1000
        },
        "id": "2iFRJbtnQ6f8",
        "outputId": "b4571215-5cb5-4a29-8d4b-2b17e7975348"
      },
      "outputs": [
        {
          "name": "stderr",
          "output_type": "stream",
          "text": [
            "New https://pypi.org/project/ultralytics/8.1.24 available 😃 Update with 'pip install -U ultralytics'\n",
            "Ultralytics YOLOv8.0.186 🚀 Python-3.10.12 torch-2.1.0+cu121 CUDA:0 (Tesla T4, 15102MiB)\n",
            "\u001b[34m\u001b[1mengine/trainer: \u001b[0mtask=detect, mode=train, model=yolov8n.pt, data=/content/PH-Ambulances-1/new_data.yaml, epochs=10, patience=50, batch=16, imgsz=640, save=True, save_period=-1, cache=False, device=[0], workers=8, project=kecilin-tech-assessment, name=None, exist_ok=False, pretrained=True, optimizer=auto, verbose=True, seed=0, deterministic=True, single_cls=False, rect=False, cos_lr=False, close_mosaic=10, resume=False, amp=True, fraction=1.0, profile=False, freeze=None, overlap_mask=True, mask_ratio=4, dropout=0.0, val=True, split=val, save_json=False, save_hybrid=False, conf=None, iou=0.7, max_det=300, half=False, dnn=False, plots=True, source=None, show=False, save_txt=False, save_conf=False, save_crop=False, show_labels=True, show_conf=True, vid_stride=1, stream_buffer=False, line_width=None, visualize=False, augment=False, agnostic_nms=False, classes=None, retina_masks=False, boxes=True, format=torchscript, keras=False, optimize=False, int8=False, dynamic=False, simplify=False, opset=None, workspace=4, nms=False, lr0=0.01, lrf=0.01, momentum=0.937, weight_decay=0.0005, warmup_epochs=3.0, warmup_momentum=0.8, warmup_bias_lr=0.1, box=7.5, cls=0.5, dfl=1.5, pose=12.0, kobj=1.0, label_smoothing=0.0, nbs=64, hsv_h=0.015, hsv_s=0.7, hsv_v=0.4, degrees=0.0, translate=0.1, scale=0.5, shear=0.0, perspective=0.0, flipud=0.0, fliplr=0.5, mosaic=1.0, mixup=0.0, copy_paste=0.0, cfg=None, tracker=botsort.yaml, save_dir=kecilin-tech-assessment/train3\n",
            "Overriding model.yaml nc=80 with nc=3\n",
            "\n",
            "                   from  n    params  module                                       arguments                     \n",
            "  0                  -1  1       464  ultralytics.nn.modules.conv.Conv             [3, 16, 3, 2]                 \n",
            "  1                  -1  1      4672  ultralytics.nn.modules.conv.Conv             [16, 32, 3, 2]                \n",
            "  2                  -1  1      7360  ultralytics.nn.modules.block.C2f             [32, 32, 1, True]             \n",
            "  3                  -1  1     18560  ultralytics.nn.modules.conv.Conv             [32, 64, 3, 2]                \n",
            "  4                  -1  2     49664  ultralytics.nn.modules.block.C2f             [64, 64, 2, True]             \n",
            "  5                  -1  1     73984  ultralytics.nn.modules.conv.Conv             [64, 128, 3, 2]               \n",
            "  6                  -1  2    197632  ultralytics.nn.modules.block.C2f             [128, 128, 2, True]           \n",
            "  7                  -1  1    295424  ultralytics.nn.modules.conv.Conv             [128, 256, 3, 2]              \n",
            "  8                  -1  1    460288  ultralytics.nn.modules.block.C2f             [256, 256, 1, True]           \n",
            "  9                  -1  1    164608  ultralytics.nn.modules.block.SPPF            [256, 256, 5]                 \n",
            " 10                  -1  1         0  torch.nn.modules.upsampling.Upsample         [None, 2, 'nearest']          \n",
            " 11             [-1, 6]  1         0  ultralytics.nn.modules.conv.Concat           [1]                           \n",
            " 12                  -1  1    148224  ultralytics.nn.modules.block.C2f             [384, 128, 1]                 \n",
            " 13                  -1  1         0  torch.nn.modules.upsampling.Upsample         [None, 2, 'nearest']          \n",
            " 14             [-1, 4]  1         0  ultralytics.nn.modules.conv.Concat           [1]                           \n",
            " 15                  -1  1     37248  ultralytics.nn.modules.block.C2f             [192, 64, 1]                  \n",
            " 16                  -1  1     36992  ultralytics.nn.modules.conv.Conv             [64, 64, 3, 2]                \n",
            " 17            [-1, 12]  1         0  ultralytics.nn.modules.conv.Concat           [1]                           \n",
            " 18                  -1  1    123648  ultralytics.nn.modules.block.C2f             [192, 128, 1]                 \n",
            " 19                  -1  1    147712  ultralytics.nn.modules.conv.Conv             [128, 128, 3, 2]              \n",
            " 20             [-1, 9]  1         0  ultralytics.nn.modules.conv.Concat           [1]                           \n",
            " 21                  -1  1    493056  ultralytics.nn.modules.block.C2f             [384, 256, 1]                 \n",
            " 22        [15, 18, 21]  1    751897  ultralytics.nn.modules.head.Detect           [3, [64, 128, 256]]           \n",
            "Model summary: 225 layers, 3011433 parameters, 3011417 gradients\n",
            "\n",
            "Transferred 319/355 items from pretrained weights\n",
            "\u001b[34m\u001b[1mTensorBoard: \u001b[0mStart with 'tensorboard --logdir kecilin-tech-assessment/train3', view at http://localhost:6006/\n",
            "Freezing layer 'model.22.dfl.conv.weight'\n",
            "\u001b[34m\u001b[1mAMP: \u001b[0mrunning Automatic Mixed Precision (AMP) checks with YOLOv8n...\n",
            "\u001b[34m\u001b[1mAMP: \u001b[0mchecks passed ✅\n",
            "\u001b[34m\u001b[1mtrain: \u001b[0mScanning /content/PH-Ambulances-1/train/labels... 6992 images, 84 backgrounds, 0 corrupt: 100%|██████████| 6992/6992 [00:03<00:00, 2196.26it/s]\n",
            "\u001b[34m\u001b[1mtrain: \u001b[0mNew cache created: /content/PH-Ambulances-1/train/labels.cache\n",
            "WARNING ⚠️ Box and segment counts should be equal, but got len(segments) = 1, len(boxes) = 8032. To resolve this only boxes will be used and all segments will be removed. To avoid this please supply either a detect or segment dataset, not a detect-segment mixed dataset.\n",
            "\u001b[34m\u001b[1malbumentations: \u001b[0mBlur(p=0.01, blur_limit=(3, 7)), MedianBlur(p=0.01, blur_limit=(3, 7)), ToGray(p=0.01), CLAHE(p=0.01, clip_limit=(1, 4.0), tile_grid_size=(8, 8))\n",
            "\u001b[34m\u001b[1mval: \u001b[0mScanning /content/PH-Ambulances-1/valid/labels... 1998 images, 29 backgrounds, 0 corrupt: 100%|██████████| 1998/1998 [00:01<00:00, 1290.77it/s]\n",
            "\u001b[34m\u001b[1mval: \u001b[0mNew cache created: /content/PH-Ambulances-1/valid/labels.cache\n",
            "WARNING ⚠️ Box and segment counts should be equal, but got len(segments) = 1, len(boxes) = 2296. To resolve this only boxes will be used and all segments will be removed. To avoid this please supply either a detect or segment dataset, not a detect-segment mixed dataset.\n",
            "Plotting labels to kecilin-tech-assessment/train3/labels.jpg... \n",
            "\u001b[34m\u001b[1moptimizer:\u001b[0m 'optimizer=auto' found, ignoring 'lr0=0.01' and 'momentum=0.937' and determining best 'optimizer', 'lr0' and 'momentum' automatically... \n",
            "\u001b[34m\u001b[1moptimizer:\u001b[0m AdamW(lr=0.001429, momentum=0.9) with parameter groups 57 weight(decay=0.0), 64 weight(decay=0.0005), 63 bias(decay=0.0)\n",
            "Image sizes 640 train, 640 val\n",
            "Using 2 dataloader workers\n",
            "Logging results to \u001b[1mkecilin-tech-assessment/train3\u001b[0m\n",
            "Starting training for 10 epochs...\n",
            "Closing dataloader mosaic\n",
            "\u001b[34m\u001b[1malbumentations: \u001b[0mBlur(p=0.01, blur_limit=(3, 7)), MedianBlur(p=0.01, blur_limit=(3, 7)), ToGray(p=0.01), CLAHE(p=0.01, clip_limit=(1, 4.0), tile_grid_size=(8, 8))\n",
            "\n",
            "      Epoch    GPU_mem   box_loss   cls_loss   dfl_loss  Instances       Size\n",
            "       1/10      2.68G          1      1.941      1.723         17        640: 100%|██████████| 437/437 [02:24<00:00,  3.02it/s]\n",
            "                 Class     Images  Instances      Box(P          R      mAP50  mAP50-95): 100%|██████████| 63/63 [00:23<00:00,  2.67it/s]\n",
            "                   all       1998       2296      0.836      0.714      0.792      0.537\n",
            "\n",
            "image 1/1 /content/PH-Ambulances-1/valid/images/008CY5SRHBLM_jpg.rf.9d5200b85865cfb42ad09f8b476f326a.jpg: 640x640 1 Aambulance, 25.2ms\n",
            "Speed: 2.2ms preprocess, 25.2ms inference, 2.9ms postprocess per image at shape (1, 3, 640, 640)\n",
            "Results saved to \u001b[1mruns/detect/train2\u001b[0m\n",
            "\n",
            "image 1/1 /content/PH-Ambulances-1/valid/images/PhilippineAmbulance10_png_jpg.rf.0685a1c7285200a6905ef36d7d8ee3f4.jpg: 640x640 8 Aambulances, 18.7ms\n",
            "Speed: 2.0ms preprocess, 18.7ms inference, 2.6ms postprocess per image at shape (1, 3, 640, 640)\n",
            "Results saved to \u001b[1mruns/detect/train2\u001b[0m\n",
            "\n",
            "image 1/1 /content/PH-Ambulances-1/valid/images/PZW2GCU82CAU_jpg.rf.b4a7b0158c73d0c79291685bccd42030.jpg: 640x640 1 Aambulance, 8.0ms\n",
            "Speed: 1.4ms preprocess, 8.0ms inference, 1.8ms postprocess per image at shape (1, 3, 640, 640)\n",
            "Results saved to \u001b[1mruns/detect/train2\u001b[0m\n",
            "\n",
            "image 1/1 /content/PH-Ambulances-1/valid/images/PZG4QKP0MHGL_jpg.rf.3a710898c02bb36dd50149fb095f0d98.jpg: 640x640 1 Aambulance, 8.0ms\n",
            "Speed: 1.5ms preprocess, 8.0ms inference, 1.9ms postprocess per image at shape (1, 3, 640, 640)\n",
            "Results saved to \u001b[1mruns/detect/train2\u001b[0m\n",
            "\n",
            "image 1/1 /content/PH-Ambulances-1/valid/images/PWLTU7DWPA22_jpg.rf.5a3ba1c518bce62d53e02d5e2452e5f7.jpg: 640x640 1 Aambulance, 9.6ms\n",
            "Speed: 1.4ms preprocess, 9.6ms inference, 1.8ms postprocess per image at shape (1, 3, 640, 640)\n",
            "Results saved to \u001b[1mruns/detect/train2\u001b[0m\n",
            "\n",
            "image 1/1 /content/PH-Ambulances-1/valid/images/PVAMCAFA4O7J_jpg.rf.64dc28064bfefea903a1cd0eed1bc4e7.jpg: 640x640 2 Aambulances, 7.4ms\n",
            "Speed: 1.4ms preprocess, 7.4ms inference, 1.8ms postprocess per image at shape (1, 3, 640, 640)\n",
            "Results saved to \u001b[1mruns/detect/train2\u001b[0m\n",
            "\n",
            "image 1/1 /content/PH-Ambulances-1/valid/images/PTIORNH6UH09_jpg.rf.6331df8e05d0288662a57cc356fbcc40.jpg: 640x640 2 Aambulances, 7.7ms\n",
            "Speed: 1.6ms preprocess, 7.7ms inference, 1.8ms postprocess per image at shape (1, 3, 640, 640)\n",
            "Results saved to \u001b[1mruns/detect/train2\u001b[0m\n",
            "\n",
            "image 1/1 /content/PH-Ambulances-1/valid/images/PT1SVXQINQHO_jpg.rf.931ec739604f3ecbd54853c0909db352.jpg: 640x640 2 Aambulances, 7.9ms\n",
            "Speed: 1.6ms preprocess, 7.9ms inference, 2.0ms postprocess per image at shape (1, 3, 640, 640)\n",
            "Results saved to \u001b[1mruns/detect/train2\u001b[0m\n",
            "\n",
            "image 1/1 /content/PH-Ambulances-1/valid/images/PT1SVXQINQHO_jpg.rf.1565a8213c3d56c0c61dd755711a7a2b.jpg: 640x640 2 Aambulances, 7.7ms\n",
            "Speed: 1.4ms preprocess, 7.7ms inference, 1.8ms postprocess per image at shape (1, 3, 640, 640)\n",
            "Results saved to \u001b[1mruns/detect/train2\u001b[0m\n",
            "\n",
            "image 1/1 /content/PH-Ambulances-1/valid/images/PQH38B2J3YSE_jpg.rf.fc8a2733c72fec48b10ffe8c1bc4d41b.jpg: 640x640 1 Aambulance, 8.8ms\n",
            "Speed: 1.4ms preprocess, 8.8ms inference, 1.8ms postprocess per image at shape (1, 3, 640, 640)\n",
            "Results saved to \u001b[1mruns/detect/train2\u001b[0m\n",
            "\n",
            "image 1/1 /content/PH-Ambulances-1/valid/images/PONHEEF87VA9_jpg.rf.e870d87da9da5c54a34fbc03fc3d11e5.jpg: 640x640 3 Aambulances, 7.9ms\n",
            "Speed: 1.4ms preprocess, 7.9ms inference, 1.9ms postprocess per image at shape (1, 3, 640, 640)\n",
            "Results saved to \u001b[1mruns/detect/train2\u001b[0m\n",
            "\n",
            "image 1/1 /content/PH-Ambulances-1/valid/images/PONHEEF87VA9_jpg.rf.6970e9fdff11bbb52f360d6af1541ef9.jpg: 640x640 2 Aambulances, 7.4ms\n",
            "Speed: 1.4ms preprocess, 7.4ms inference, 1.8ms postprocess per image at shape (1, 3, 640, 640)\n",
            "Results saved to \u001b[1mruns/detect/train2\u001b[0m\n",
            "\n",
            "image 1/1 /content/PH-Ambulances-1/valid/images/POII3JUWKXYN_jpg.rf.da0bb0bdb281be6f73ea1daca1dd8ef5.jpg: 640x640 1 Aambulance, 8.2ms\n",
            "Speed: 1.5ms preprocess, 8.2ms inference, 1.9ms postprocess per image at shape (1, 3, 640, 640)\n",
            "Results saved to \u001b[1mruns/detect/train2\u001b[0m\n",
            "\n",
            "image 1/1 /content/PH-Ambulances-1/valid/images/POII3JUWKXYN_jpg.rf.d582f0a2f170fcdd1125e3decfaee639.jpg: 640x640 1 Aambulance, 7.4ms\n",
            "Speed: 1.4ms preprocess, 7.4ms inference, 1.7ms postprocess per image at shape (1, 3, 640, 640)\n",
            "Results saved to \u001b[1mruns/detect/train2\u001b[0m\n",
            "\n",
            "image 1/1 /content/PH-Ambulances-1/valid/images/PNMRPUN2EJN2_jpg.rf.bdc2a9ca7375320bf4011b9a5faf2ea3.jpg: 640x640 7 Aambulances, 7.8ms\n",
            "Speed: 1.4ms preprocess, 7.8ms inference, 1.9ms postprocess per image at shape (1, 3, 640, 640)\n",
            "Results saved to \u001b[1mruns/detect/train2\u001b[0m\n",
            "\n",
            "image 1/1 /content/PH-Ambulances-1/valid/images/PLSIX61WGCEM_jpg.rf.d97faab19bece732d2b48cba1d09b5c4.jpg: 640x640 4 Aambulances, 7.7ms\n",
            "Speed: 1.4ms preprocess, 7.7ms inference, 2.0ms postprocess per image at shape (1, 3, 640, 640)\n",
            "Results saved to \u001b[1mruns/detect/train2\u001b[0m\n",
            "\n",
            "image 1/1 /content/PH-Ambulances-1/valid/images/PLSIX61WGCEM_jpg.rf.b26df5f58669c3babbcb318997aca9cd.jpg: 640x640 1 Aambulance, 7.9ms\n",
            "Speed: 1.3ms preprocess, 7.9ms inference, 1.7ms postprocess per image at shape (1, 3, 640, 640)\n",
            "Results saved to \u001b[1mruns/detect/train2\u001b[0m\n",
            "\n",
            "image 1/1 /content/PH-Ambulances-1/valid/images/PKYULF2WVPNH_jpg.rf.5f58b69b3ce028c9c5c67329b17bdcc7.jpg: 640x640 1 Aambulance, 7.7ms\n",
            "Speed: 1.4ms preprocess, 7.7ms inference, 1.7ms postprocess per image at shape (1, 3, 640, 640)\n",
            "Results saved to \u001b[1mruns/detect/train2\u001b[0m\n",
            "\n",
            "image 1/1 /content/PH-Ambulances-1/valid/images/PJEPN2RARLTD_jpg.rf.7cc66da25dfb0d6bdfad4e797907c055.jpg: 640x640 8 Aambulances, 8.1ms\n",
            "Speed: 1.4ms preprocess, 8.1ms inference, 1.9ms postprocess per image at shape (1, 3, 640, 640)\n",
            "Results saved to \u001b[1mruns/detect/train2\u001b[0m\n",
            "\n",
            "image 1/1 /content/PH-Ambulances-1/valid/images/PJEPN2RARLTD_jpg.rf.0cebbe79f474dde8d16440b8ae0f21a5.jpg: 640x640 8 Aambulances, 7.9ms\n",
            "Speed: 1.4ms preprocess, 7.9ms inference, 1.8ms postprocess per image at shape (1, 3, 640, 640)\n",
            "Results saved to \u001b[1mruns/detect/train2\u001b[0m\n",
            "\n",
            "image 1/1 /content/PH-Ambulances-1/valid/images/PHTGEFWRXOEA_jpg.rf.c4feff57fd957811260b864e3228e420.jpg: 640x640 5 Aambulances, 8.0ms\n",
            "Speed: 1.5ms preprocess, 8.0ms inference, 1.9ms postprocess per image at shape (1, 3, 640, 640)\n",
            "Results saved to \u001b[1mruns/detect/train2\u001b[0m\n",
            "\n",
            "image 1/1 /content/PH-Ambulances-1/valid/images/PFQS6U8GZMG8_jpg.rf.05a126f875ebc3710d9f9656f9c74bcf.jpg: 640x640 2 Aambulances, 7.5ms\n",
            "Speed: 1.4ms preprocess, 7.5ms inference, 1.8ms postprocess per image at shape (1, 3, 640, 640)\n",
            "Results saved to \u001b[1mruns/detect/train2\u001b[0m\n",
            "\n",
            "image 1/1 /content/PH-Ambulances-1/valid/images/PFC7E93FFPOX_jpg.rf.a0bb3e16c07e69783e3159294e511982.jpg: 640x640 1 Aambulance, 7.7ms\n",
            "Speed: 1.4ms preprocess, 7.7ms inference, 1.8ms postprocess per image at shape (1, 3, 640, 640)\n",
            "Results saved to \u001b[1mruns/detect/train2\u001b[0m\n",
            "\n",
            "image 1/1 /content/PH-Ambulances-1/valid/images/PE15OCTY8LAP_jpg.rf.d0e4c249bcbbc4383927f39ccce38073.jpg: 640x640 2 Aambulances, 8.3ms\n",
            "Speed: 1.7ms preprocess, 8.3ms inference, 1.9ms postprocess per image at shape (1, 3, 640, 640)\n",
            "Results saved to \u001b[1mruns/detect/train2\u001b[0m\n",
            "\n",
            "image 1/1 /content/PH-Ambulances-1/valid/images/PE15OCTY8LAP_jpg.rf.6344a3f0a2d8c6ce24a0d664b58c5f03.jpg: 640x640 1 Aambulance, 8.3ms\n",
            "Speed: 1.7ms preprocess, 8.3ms inference, 1.9ms postprocess per image at shape (1, 3, 640, 640)\n",
            "Results saved to \u001b[1mruns/detect/train2\u001b[0m\n",
            "\n",
            "image 1/1 /content/PH-Ambulances-1/valid/images/PDHDJVHO6KRF_jpg.rf.c953ec2d20d555f05008650dbf5e357a.jpg: 640x640 2 Aambulances, 7.7ms\n",
            "Speed: 1.6ms preprocess, 7.7ms inference, 1.8ms postprocess per image at shape (1, 3, 640, 640)\n",
            "Results saved to \u001b[1mruns/detect/train2\u001b[0m\n",
            "\n",
            "image 1/1 /content/PH-Ambulances-1/valid/images/PBKS3Z8FBZQC_jpg.rf.364cf4da6f12fd181befa3dd5cb9557d.jpg: 640x640 2 Aambulances, 7.5ms\n",
            "Speed: 1.3ms preprocess, 7.5ms inference, 1.8ms postprocess per image at shape (1, 3, 640, 640)\n",
            "Results saved to \u001b[1mruns/detect/train2\u001b[0m\n",
            "\n",
            "image 1/1 /content/PH-Ambulances-1/valid/images/PB7RFEW6N792_jpg.rf.b7a7f029f332b1e993623d3cfa217c3e.jpg: 640x640 2 Aambulances, 8.2ms\n",
            "Speed: 1.5ms preprocess, 8.2ms inference, 2.3ms postprocess per image at shape (1, 3, 640, 640)\n",
            "Results saved to \u001b[1mruns/detect/train2\u001b[0m\n",
            "\n",
            "image 1/1 /content/PH-Ambulances-1/valid/images/PhilippineAmbulance138_jpeg_jpg.rf.d474788d6556b13e0775d85cd7902fe1.jpg: 640x640 4 Aambulances, 15.6ms\n",
            "Speed: 1.4ms preprocess, 15.6ms inference, 2.9ms postprocess per image at shape (1, 3, 640, 640)\n",
            "Results saved to \u001b[1mruns/detect/train2\u001b[0m\n",
            "\n",
            "image 1/1 /content/PH-Ambulances-1/valid/images/PAX4Y3F8AODV_jpg.rf.96e7535cca05014a7893a4093c246494.jpg: 640x640 3 Aambulances, 8.2ms\n",
            "Speed: 1.5ms preprocess, 8.2ms inference, 1.9ms postprocess per image at shape (1, 3, 640, 640)\n",
            "Results saved to \u001b[1mruns/detect/train2\u001b[0m\n",
            "\n",
            "image 1/1 /content/PH-Ambulances-1/valid/images/PhilippineAmbulance156_jpeg_jpg.rf.0b142edfc6672323005935e3bea58a2d.jpg: 640x640 1 Aambulance, 7.9ms\n",
            "Speed: 1.3ms preprocess, 7.9ms inference, 1.8ms postprocess per image at shape (1, 3, 640, 640)\n",
            "Results saved to \u001b[1mruns/detect/train2\u001b[0m\n",
            "\n",
            "image 1/1 /content/PH-Ambulances-1/valid/images/PhilippineAmbulance175_jpeg_jpg.rf.ca3302c9ac9e52203b09fe3b72c8af1a.jpg: 640x640 3 Aambulances, 7.8ms\n",
            "Speed: 1.4ms preprocess, 7.8ms inference, 2.0ms postprocess per image at shape (1, 3, 640, 640)\n",
            "Results saved to \u001b[1mruns/detect/train2\u001b[0m\n",
            "\n",
            "      Epoch    GPU_mem   box_loss   cls_loss   dfl_loss  Instances       Size\n",
            "       2/10      2.51G      1.003      1.084      1.734         22        640: 100%|██████████| 437/437 [02:20<00:00,  3.11it/s]\n",
            "                 Class     Images  Instances      Box(P          R      mAP50  mAP50-95): 100%|██████████| 63/63 [00:21<00:00,  2.99it/s]\n",
            "                   all       1998       2296      0.835      0.746      0.841      0.577\n",
            "\n",
            "image 1/1 /content/PH-Ambulances-1/valid/images/QJXP9N9T2GOC_jpg.rf.67f6075b3b18286538d527458690196f.jpg: 640x640 2 Aambulances, 49.2ms\n",
            "Speed: 10.8ms preprocess, 49.2ms inference, 11.5ms postprocess per image at shape (1, 3, 640, 640)\n",
            "Results saved to \u001b[1mruns/detect/train2\u001b[0m\n",
            "\n",
            "image 1/1 /content/PH-Ambulances-1/valid/images/QH3GKTDD2PKG_jpg.rf.20b2a94f3f76e692c8d2552402700bbb.jpg: 640x640 1 Aambulance, 11.3ms\n",
            "Speed: 1.7ms preprocess, 11.3ms inference, 2.3ms postprocess per image at shape (1, 3, 640, 640)\n",
            "Results saved to \u001b[1mruns/detect/train2\u001b[0m\n",
            "\n",
            "image 1/1 /content/PH-Ambulances-1/valid/images/QH3GKTDD2PKG_jpg.rf.0ab2f4c452f5669310130dce7d1a58b1.jpg: 640x640 1 Aambulance, 10.9ms\n",
            "Speed: 1.6ms preprocess, 10.9ms inference, 2.4ms postprocess per image at shape (1, 3, 640, 640)\n",
            "Results saved to \u001b[1mruns/detect/train2\u001b[0m\n",
            "\n",
            "image 1/1 /content/PH-Ambulances-1/valid/images/QF8CIJL425H1_jpg.rf.d09c4cce9ec9554f209c8d248720fa87.jpg: 640x640 3 Aambulances, 14.3ms\n",
            "Speed: 2.0ms preprocess, 14.3ms inference, 3.0ms postprocess per image at shape (1, 3, 640, 640)\n",
            "Results saved to \u001b[1mruns/detect/train2\u001b[0m\n",
            "\n",
            "image 1/1 /content/PH-Ambulances-1/valid/images/QCJTHDT9CIAA_jpg.rf.a5f6ea17c8cbdd24636190329a0012d3.jpg: 640x640 1 Aambulance, 13.8ms\n",
            "Speed: 1.7ms preprocess, 13.8ms inference, 2.1ms postprocess per image at shape (1, 3, 640, 640)\n",
            "Results saved to \u001b[1mruns/detect/train2\u001b[0m\n",
            "\n",
            "image 1/1 /content/PH-Ambulances-1/valid/images/QBXKDLJXPDHA_jpg.rf.eed77c345efa2c36244e467811cc3de1.jpg: 640x640 2 Aambulances, 14.4ms\n",
            "Speed: 1.9ms preprocess, 14.4ms inference, 2.8ms postprocess per image at shape (1, 3, 640, 640)\n",
            "Results saved to \u001b[1mruns/detect/train2\u001b[0m\n",
            "\n",
            "image 1/1 /content/PH-Ambulances-1/valid/images/QBXKDLJXPDHA_jpg.rf.c14d804351fe5e49f15cdaca9905910f.jpg: 640x640 1 Aambulance, 14.6ms\n",
            "Speed: 2.0ms preprocess, 14.6ms inference, 3.1ms postprocess per image at shape (1, 3, 640, 640)\n",
            "Results saved to \u001b[1mruns/detect/train2\u001b[0m\n",
            "\n",
            "image 1/1 /content/PH-Ambulances-1/valid/images/Q92YH3B0023R_jpg.rf.5e30f8fc33fb973d7607659e382bd377.jpg: 640x640 1 Aambulance, 8.8ms\n",
            "Speed: 1.5ms preprocess, 8.8ms inference, 1.8ms postprocess per image at shape (1, 3, 640, 640)\n",
            "Results saved to \u001b[1mruns/detect/train2\u001b[0m\n",
            "\n",
            "image 1/1 /content/PH-Ambulances-1/valid/images/Q656Z7I31MWD_jpg.rf.cee0b099bdfd03460801022f1e0a92b1.jpg: 640x640 1 Aambulance, 7.7ms\n",
            "Speed: 1.4ms preprocess, 7.7ms inference, 1.8ms postprocess per image at shape (1, 3, 640, 640)\n",
            "Results saved to \u001b[1mruns/detect/train2\u001b[0m\n",
            "\n",
            "image 1/1 /content/PH-Ambulances-1/valid/images/Q656Z7I31MWD_jpg.rf.9f162911c2e63acb14b60af00edd42fe.jpg: 640x640 1 Aambulance, 11.4ms\n",
            "Speed: 1.7ms preprocess, 11.4ms inference, 1.9ms postprocess per image at shape (1, 3, 640, 640)\n",
            "Results saved to \u001b[1mruns/detect/train2\u001b[0m\n",
            "\n",
            "image 1/1 /content/PH-Ambulances-1/valid/images/Q5DX0E3OJS91_jpg.rf.9eb671710152c9f4204f89a823b19a56.jpg: 640x640 1 Aambulance, 7.8ms\n",
            "Speed: 1.4ms preprocess, 7.8ms inference, 1.8ms postprocess per image at shape (1, 3, 640, 640)\n",
            "Results saved to \u001b[1mruns/detect/train2\u001b[0m\n",
            "\n",
            "image 1/1 /content/PH-Ambulances-1/valid/images/Q5DX0E3OJS91_jpg.rf.4d131628a64e28c5a81a997386728c07.jpg: 640x640 1 Aambulance, 7.9ms\n",
            "Speed: 1.4ms preprocess, 7.9ms inference, 1.8ms postprocess per image at shape (1, 3, 640, 640)\n",
            "Results saved to \u001b[1mruns/detect/train2\u001b[0m\n",
            "\n",
            "image 1/1 /content/PH-Ambulances-1/valid/images/Q2CMQF6EPVNI_jpg.rf.53f75877aafe5b1193a6e289d2d3cdb8.jpg: 640x640 1 Aambulance, 7.7ms\n",
            "Speed: 1.5ms preprocess, 7.7ms inference, 1.8ms postprocess per image at shape (1, 3, 640, 640)\n",
            "Results saved to \u001b[1mruns/detect/train2\u001b[0m\n",
            "\n",
            "image 1/1 /content/PH-Ambulances-1/valid/images/Q137908RS7NL_jpg.rf.a7b8e69094a9c0f0203ef74918b41a99.jpg: 640x640 1 Aambulance, 1 truck, 7.9ms\n",
            "Speed: 1.3ms preprocess, 7.9ms inference, 1.8ms postprocess per image at shape (1, 3, 640, 640)\n",
            "Results saved to \u001b[1mruns/detect/train2\u001b[0m\n",
            "\n",
            "image 1/1 /content/PH-Ambulances-1/valid/images/Q0DU2SLAHBGK_jpg.rf.ea0e5ce12fe5964cc0a4531343ec7a63.jpg: 640x640 1 Aambulance, 7.8ms\n",
            "Speed: 1.6ms preprocess, 7.8ms inference, 1.8ms postprocess per image at shape (1, 3, 640, 640)\n",
            "Results saved to \u001b[1mruns/detect/train2\u001b[0m\n",
            "\n",
            "image 1/1 /content/PH-Ambulances-1/valid/images/Philippineambulancel30089_jpeg_jpg.rf.218fb82c85746cbf960711bfb13a6cfd.jpg: 640x640 6 Aambulances, 7.5ms\n",
            "Speed: 1.4ms preprocess, 7.5ms inference, 1.8ms postprocess per image at shape (1, 3, 640, 640)\n",
            "Results saved to \u001b[1mruns/detect/train2\u001b[0m\n",
            "\u001b[34m\u001b[1mwandb\u001b[0m: \u001b[33mWARNING\u001b[0m Image: /content/PH-Ambulances-1/valid/images/Philippineambulancel30089_jpeg_jpg.rf.218fb82c85746cbf960711bfb13a6cfd.jpg has no bounding boxes labels\n",
            "\n",
            "image 1/1 /content/PH-Ambulances-1/valid/images/Philippineambulancel30082_jpeg_jpg.rf.bf53f927ee0b5d7e8f6a263051a55ec3.jpg: 640x640 1 Aambulance, 1 truck, 8.2ms\n",
            "Speed: 1.4ms preprocess, 8.2ms inference, 1.8ms postprocess per image at shape (1, 3, 640, 640)\n",
            "Results saved to \u001b[1mruns/detect/train2\u001b[0m\n",
            "\u001b[34m\u001b[1mwandb\u001b[0m: \u001b[33mWARNING\u001b[0m Image: /content/PH-Ambulances-1/valid/images/Philippineambulancel30082_jpeg_jpg.rf.bf53f927ee0b5d7e8f6a263051a55ec3.jpg has no bounding boxes labels\n",
            "\n",
            "image 1/1 /content/PH-Ambulances-1/valid/images/Philippineambulancel30029_jpeg_jpg.rf.3a894a28806928e556f31b925ad897be.jpg: 640x640 2 trucks, 9.2ms\n",
            "Speed: 1.4ms preprocess, 9.2ms inference, 1.9ms postprocess per image at shape (1, 3, 640, 640)\n",
            "Results saved to \u001b[1mruns/detect/train2\u001b[0m\n",
            "\n",
            "image 1/1 /content/PH-Ambulances-1/valid/images/Philippineambulancel30029_jpeg_jpg.rf.13e5e7cb962666ca81312ad0604664aa.jpg: 640x640 1 Aambulance, 2 trucks, 8.1ms\n",
            "Speed: 1.4ms preprocess, 8.1ms inference, 1.8ms postprocess per image at shape (1, 3, 640, 640)\n",
            "Results saved to \u001b[1mruns/detect/train2\u001b[0m\n",
            "\n",
            "image 1/1 /content/PH-Ambulances-1/valid/images/PhilippineAmbulance9_png_jpg.rf.34b49e190648270ba812f1958264cdf1.jpg: 640x640 1 Aambulance, 8.0ms\n",
            "Speed: 1.4ms preprocess, 8.0ms inference, 1.7ms postprocess per image at shape (1, 3, 640, 640)\n",
            "Results saved to \u001b[1mruns/detect/train2\u001b[0m\n",
            "\n",
            "image 1/1 /content/PH-Ambulances-1/valid/images/PhilippineAmbulance80_jpeg_jpg.rf.cfa4dbcf9a8b651211014e1c6accd85f.jpg: 640x640 1 Aambulance, 7.7ms\n",
            "Speed: 1.6ms preprocess, 7.7ms inference, 1.8ms postprocess per image at shape (1, 3, 640, 640)\n",
            "Results saved to \u001b[1mruns/detect/train2\u001b[0m\n",
            "\n",
            "image 1/1 /content/PH-Ambulances-1/valid/images/PhilippineAmbulance78_jpeg_jpg.rf.6fddce7a31a91212356e1543100b9c9f.jpg: 640x640 1 Aambulance, 7.4ms\n",
            "Speed: 1.4ms preprocess, 7.4ms inference, 1.8ms postprocess per image at shape (1, 3, 640, 640)\n",
            "Results saved to \u001b[1mruns/detect/train2\u001b[0m\n",
            "\n",
            "image 1/1 /content/PH-Ambulances-1/valid/images/PhilippineAmbulance77_jpeg_jpg.rf.4b361232604ce285fb40971c3e8df389.jpg: 640x640 1 Aambulance, 8.2ms\n",
            "Speed: 1.4ms preprocess, 8.2ms inference, 1.8ms postprocess per image at shape (1, 3, 640, 640)\n",
            "Results saved to \u001b[1mruns/detect/train2\u001b[0m\n",
            "\n",
            "image 1/1 /content/PH-Ambulances-1/valid/images/PhilippineAmbulance52_jpeg_jpg.rf.2e97f0dca6d01ca3e3e0bb811999743a.jpg: 640x640 5 Aambulances, 8.6ms\n",
            "Speed: 1.4ms preprocess, 8.6ms inference, 1.8ms postprocess per image at shape (1, 3, 640, 640)\n",
            "Results saved to \u001b[1mruns/detect/train2\u001b[0m\n",
            "\n",
            "image 1/1 /content/PH-Ambulances-1/valid/images/PhilippineAmbulance229_jpeg_jpg.rf.aed2f4d3806453065e78a0d8bbc0eab9.jpg: 640x640 3 Aambulances, 1 truck, 10.8ms\n",
            "Speed: 1.4ms preprocess, 10.8ms inference, 1.9ms postprocess per image at shape (1, 3, 640, 640)\n",
            "Results saved to \u001b[1mruns/detect/train2\u001b[0m\n",
            "\n",
            "image 1/1 /content/PH-Ambulances-1/valid/images/PhilippineAmbulance220_jpeg_jpg.rf.ffed69d882fd6ff9b7843142f0552963.jpg: 640x640 1 Aambulance, 7.8ms\n",
            "Speed: 1.4ms preprocess, 7.8ms inference, 1.8ms postprocess per image at shape (1, 3, 640, 640)\n",
            "Results saved to \u001b[1mruns/detect/train2\u001b[0m\n",
            "\n",
            "image 1/1 /content/PH-Ambulances-1/valid/images/PhilippineAmbulance18_jpeg_jpg.rf.ad72244504bf760f5a30940e402ef072.jpg: 640x640 2 Aambulances, 3 trucks, 7.4ms\n",
            "Speed: 1.4ms preprocess, 7.4ms inference, 1.8ms postprocess per image at shape (1, 3, 640, 640)\n",
            "Results saved to \u001b[1mruns/detect/train2\u001b[0m\n",
            "\n",
            "image 1/1 /content/PH-Ambulances-1/valid/images/PhilippineAmbulance172_jpeg_jpg.rf.fb459d1c3912bd792c67a0f384e062a9.jpg: 640x640 1 Aambulance, 8.2ms\n",
            "Speed: 1.5ms preprocess, 8.2ms inference, 1.9ms postprocess per image at shape (1, 3, 640, 640)\n",
            "Results saved to \u001b[1mruns/detect/train2\u001b[0m\n",
            "\n",
            "image 1/1 /content/PH-Ambulances-1/valid/images/QKMXG6NZWIC1_jpg.rf.f5e6784d0dedd80f161d8e7f44767221.jpg: 640x640 1 Aambulance, 7.9ms\n",
            "Speed: 1.4ms preprocess, 7.9ms inference, 1.8ms postprocess per image at shape (1, 3, 640, 640)\n",
            "Results saved to \u001b[1mruns/detect/train2\u001b[0m\n",
            "\n",
            "image 1/1 /content/PH-Ambulances-1/valid/images/P8OCCIMWP5DI_jpg.rf.04f926e09bdbda9cd726e5b6ac751119.jpg: 640x640 1 Aambulance, 7.6ms\n",
            "Speed: 1.5ms preprocess, 7.6ms inference, 1.8ms postprocess per image at shape (1, 3, 640, 640)\n",
            "Results saved to \u001b[1mruns/detect/train2\u001b[0m\n",
            "\n",
            "image 1/1 /content/PH-Ambulances-1/valid/images/P6LLJNQ7Y6YM_jpg.rf.96c476ca31a9cda32be47b5648a82815.jpg: 640x640 1 Aambulance, 7.6ms\n",
            "Speed: 1.4ms preprocess, 7.6ms inference, 1.8ms postprocess per image at shape (1, 3, 640, 640)\n",
            "Results saved to \u001b[1mruns/detect/train2\u001b[0m\n",
            "\n",
            "image 1/1 /content/PH-Ambulances-1/valid/images/OBW5KPZ0ATMX_jpg.rf.4c70be6d69c2aa155ee8eced68d042b7.jpg: 640x640 1 Aambulance, 7.8ms\n",
            "Speed: 1.5ms preprocess, 7.8ms inference, 1.8ms postprocess per image at shape (1, 3, 640, 640)\n",
            "Results saved to \u001b[1mruns/detect/train2\u001b[0m\n",
            "\n",
            "      Epoch    GPU_mem   box_loss   cls_loss   dfl_loss  Instances       Size\n",
            "       3/10      2.46G     0.9809     0.8887      1.702         18        640: 100%|██████████| 437/437 [02:18<00:00,  3.15it/s]\n",
            "                 Class     Images  Instances      Box(P          R      mAP50  mAP50-95): 100%|██████████| 63/63 [00:21<00:00,  2.90it/s]\n",
            "                   all       1998       2296      0.732      0.684      0.747      0.504\n",
            "\n",
            "image 1/1 /content/PH-Ambulances-1/valid/images/OBVS0EPDB12R_jpg.rf.a346a285352c7a0c6f43cfb3124e9d1a.jpg: 640x640 1 Aambulance, 28.8ms\n",
            "Speed: 1.9ms preprocess, 28.8ms inference, 2.4ms postprocess per image at shape (1, 3, 640, 640)\n",
            "Results saved to \u001b[1mruns/detect/train2\u001b[0m\n",
            "\n",
            "image 1/1 /content/PH-Ambulances-1/valid/images/OB8NP76GBBQS_jpg.rf.191876645f3b834af0ff8e44edfb57bd.jpg: 640x640 1 Aambulance, 12.9ms\n",
            "Speed: 1.9ms preprocess, 12.9ms inference, 2.7ms postprocess per image at shape (1, 3, 640, 640)\n",
            "Results saved to \u001b[1mruns/detect/train2\u001b[0m\n",
            "\n",
            "image 1/1 /content/PH-Ambulances-1/valid/images/O88W2D6WZN8C_jpg.rf.8ec60b7976badaa308e1f87c74c63202.jpg: 640x640 1 Aambulance, 7.7ms\n",
            "Speed: 1.3ms preprocess, 7.7ms inference, 1.8ms postprocess per image at shape (1, 3, 640, 640)\n",
            "Results saved to \u001b[1mruns/detect/train2\u001b[0m\n",
            "\n",
            "image 1/1 /content/PH-Ambulances-1/valid/images/O7YH6VBBRLD3_jpg.rf.3d0712c9a138f2caa54fec461ac35651.jpg: 640x640 1 Aambulance, 7.7ms\n",
            "Speed: 1.4ms preprocess, 7.7ms inference, 1.7ms postprocess per image at shape (1, 3, 640, 640)\n",
            "Results saved to \u001b[1mruns/detect/train2\u001b[0m\n",
            "\n",
            "image 1/1 /content/PH-Ambulances-1/valid/images/O5Y0S90Z1HAI_jpg.rf.44f62f9e519aff986cb3760f02e1dc82.jpg: 640x640 1 Aambulance, 7.7ms\n",
            "Speed: 1.4ms preprocess, 7.7ms inference, 1.7ms postprocess per image at shape (1, 3, 640, 640)\n",
            "Results saved to \u001b[1mruns/detect/train2\u001b[0m\n",
            "\n",
            "image 1/1 /content/PH-Ambulances-1/valid/images/O48F57CKYZWJ_jpg.rf.cd19ec518b26971dceccf4882f004c88.jpg: 640x640 1 Aambulance, 7.7ms\n",
            "Speed: 1.3ms preprocess, 7.7ms inference, 1.7ms postprocess per image at shape (1, 3, 640, 640)\n",
            "Results saved to \u001b[1mruns/detect/train2\u001b[0m\n",
            "\n",
            "image 1/1 /content/PH-Ambulances-1/valid/images/O48F57CKYZWJ_jpg.rf.69226db3b73ef6c72737268c1cb23825.jpg: 640x640 1 Aambulance, 14.3ms\n",
            "Speed: 2.0ms preprocess, 14.3ms inference, 2.7ms postprocess per image at shape (1, 3, 640, 640)\n",
            "Results saved to \u001b[1mruns/detect/train2\u001b[0m\n",
            "\n",
            "image 1/1 /content/PH-Ambulances-1/valid/images/O474CUSSI6KS_jpg.rf.d83afce64ce8cbeca4f7915aa62b6452.jpg: 640x640 1 Aambulance, 10.0ms\n",
            "Speed: 1.6ms preprocess, 10.0ms inference, 2.3ms postprocess per image at shape (1, 3, 640, 640)\n",
            "Results saved to \u001b[1mruns/detect/train2\u001b[0m\n",
            "\n",
            "image 1/1 /content/PH-Ambulances-1/valid/images/O2UFXOVUQEWO_jpg.rf.49dafeda3c81f3de81dee2893f111689.jpg: 640x640 2 Aambulances, 10.2ms\n",
            "Speed: 1.8ms preprocess, 10.2ms inference, 2.4ms postprocess per image at shape (1, 3, 640, 640)\n",
            "Results saved to \u001b[1mruns/detect/train2\u001b[0m\n",
            "\n",
            "image 1/1 /content/PH-Ambulances-1/valid/images/O0NVXBEA8PXW_jpg.rf.c9213e5184c94e14b6dc474799ba07fd.jpg: 640x640 1 Aambulance, 12.9ms\n",
            "Speed: 1.6ms preprocess, 12.9ms inference, 2.3ms postprocess per image at shape (1, 3, 640, 640)\n",
            "Results saved to \u001b[1mruns/detect/train2\u001b[0m\n",
            "\n",
            "image 1/1 /content/PH-Ambulances-1/valid/images/O05JT5MH4CO0_jpg.rf.23e4d281a890eb2fb2ec868c0ada6ddd.jpg: 640x640 1 Aambulance, 14.2ms\n",
            "Speed: 1.7ms preprocess, 14.2ms inference, 3.8ms postprocess per image at shape (1, 3, 640, 640)\n",
            "Results saved to \u001b[1mruns/detect/train2\u001b[0m\n",
            "\n",
            "image 1/1 /content/PH-Ambulances-1/valid/images/NZTTJ1PKGT86_jpg.rf.2cd386a4902c90985e53df40ae09f26e.jpg: 640x640 1 Aambulance, 13.8ms\n",
            "Speed: 1.7ms preprocess, 13.8ms inference, 2.7ms postprocess per image at shape (1, 3, 640, 640)\n",
            "Results saved to \u001b[1mruns/detect/train2\u001b[0m\n",
            "\n",
            "image 1/1 /content/PH-Ambulances-1/valid/images/NZATJD6G1YLA_jpg.rf.86a8397e4d5d4c0b8d9da885345a509b.jpg: 640x640 1 Aambulance, 10.4ms\n",
            "Speed: 1.8ms preprocess, 10.4ms inference, 2.2ms postprocess per image at shape (1, 3, 640, 640)\n",
            "Results saved to \u001b[1mruns/detect/train2\u001b[0m\n",
            "\n",
            "image 1/1 /content/PH-Ambulances-1/valid/images/NZATJD6G1YLA_jpg.rf.2b3ebdadbe59c51236a0808bb3ff1755.jpg: 640x640 1 Aambulance, 11.8ms\n",
            "Speed: 1.7ms preprocess, 11.8ms inference, 2.4ms postprocess per image at shape (1, 3, 640, 640)\n",
            "Results saved to \u001b[1mruns/detect/train2\u001b[0m\n",
            "\n",
            "image 1/1 /content/PH-Ambulances-1/valid/images/NXGGAMFHZ2YV_jpg.rf.c048a4a528fc5c1415f86e93be7e24bb.jpg: 640x640 1 Aambulance, 13.8ms\n",
            "Speed: 1.8ms preprocess, 13.8ms inference, 2.7ms postprocess per image at shape (1, 3, 640, 640)\n",
            "Results saved to \u001b[1mruns/detect/train2\u001b[0m\n",
            "\n",
            "image 1/1 /content/PH-Ambulances-1/valid/images/NWRDHV1KFC5X_jpg.rf.14e14b5307f82d2642dca1eb80666e50.jpg: 640x640 7 Aambulances, 8.2ms\n",
            "Speed: 1.5ms preprocess, 8.2ms inference, 2.6ms postprocess per image at shape (1, 3, 640, 640)\n",
            "Results saved to \u001b[1mruns/detect/train2\u001b[0m\n",
            "\n",
            "image 1/1 /content/PH-Ambulances-1/valid/images/NT5ZD9D0JGII_jpg.rf.b9b424654631ae86c59cca6370ca3d7c.jpg: 640x640 1 Aambulance, 8.0ms\n",
            "Speed: 1.5ms preprocess, 8.0ms inference, 1.8ms postprocess per image at shape (1, 3, 640, 640)\n",
            "Results saved to \u001b[1mruns/detect/train2\u001b[0m\n",
            "\n",
            "image 1/1 /content/PH-Ambulances-1/valid/images/NSKSFRT0E3WC_jpg.rf.d231ddea08429bd2818f3dbed4a5a5f6.jpg: 640x640 2 Aambulances, 7.9ms\n",
            "Speed: 1.4ms preprocess, 7.9ms inference, 1.8ms postprocess per image at shape (1, 3, 640, 640)\n",
            "Results saved to \u001b[1mruns/detect/train2\u001b[0m\n",
            "\n",
            "image 1/1 /content/PH-Ambulances-1/valid/images/NSKSFRT0E3WC_jpg.rf.046a10a3ba0961b8bec5d66a6d20bf91.jpg: 640x640 2 Aambulances, 8.9ms\n",
            "Speed: 1.5ms preprocess, 8.9ms inference, 2.0ms postprocess per image at shape (1, 3, 640, 640)\n",
            "Results saved to \u001b[1mruns/detect/train2\u001b[0m\n",
            "\n",
            "image 1/1 /content/PH-Ambulances-1/valid/images/NORPY2K39BYF_jpg.rf.990be3a98bb78a4815a18bddc73e23ae.jpg: 640x640 1 Aambulance, 8.1ms\n",
            "Speed: 1.5ms preprocess, 8.1ms inference, 1.8ms postprocess per image at shape (1, 3, 640, 640)\n",
            "Results saved to \u001b[1mruns/detect/train2\u001b[0m\n",
            "\n",
            "image 1/1 /content/PH-Ambulances-1/valid/images/NNS7O3F11DIG_jpg.rf.c2a615f8a468384cf2ad255d9b49d24c.jpg: 640x640 1 Aambulance, 8.0ms\n",
            "Speed: 1.5ms preprocess, 8.0ms inference, 1.9ms postprocess per image at shape (1, 3, 640, 640)\n",
            "Results saved to \u001b[1mruns/detect/train2\u001b[0m\n",
            "\n",
            "image 1/1 /content/PH-Ambulances-1/valid/images/NKHEC984L6LT_jpg.rf.3817b3a340e40c4302b0af797fe059a1.jpg: 640x640 1 Aambulance, 7.6ms\n",
            "Speed: 1.4ms preprocess, 7.6ms inference, 1.9ms postprocess per image at shape (1, 3, 640, 640)\n",
            "Results saved to \u001b[1mruns/detect/train2\u001b[0m\n",
            "\n",
            "image 1/1 /content/PH-Ambulances-1/valid/images/NKCP4TH16RJ1_jpg.rf.e8eee41d35c1abd50f9d8cd4bc297a0a.jpg: 640x640 3 Aambulances, 7.6ms\n",
            "Speed: 1.4ms preprocess, 7.6ms inference, 1.9ms postprocess per image at shape (1, 3, 640, 640)\n",
            "Results saved to \u001b[1mruns/detect/train2\u001b[0m\n",
            "\n",
            "image 1/1 /content/PH-Ambulances-1/valid/images/NKCEB13WEO4H_jpg.rf.5eee7bd06023e6c96ee8887f4828ed85.jpg: 640x640 1 Aambulance, 8.1ms\n",
            "Speed: 1.4ms preprocess, 8.1ms inference, 1.8ms postprocess per image at shape (1, 3, 640, 640)\n",
            "Results saved to \u001b[1mruns/detect/train2\u001b[0m\n",
            "\n",
            "image 1/1 /content/PH-Ambulances-1/valid/images/NKCEB13WEO4H_jpg.rf.57986ed73d6aec98e4a9adac2ec7590e.jpg: 640x640 1 Aambulance, 7.7ms\n",
            "Speed: 1.4ms preprocess, 7.7ms inference, 1.8ms postprocess per image at shape (1, 3, 640, 640)\n",
            "Results saved to \u001b[1mruns/detect/train2\u001b[0m\n",
            "\n",
            "image 1/1 /content/PH-Ambulances-1/valid/images/NGIE3J2EBKQF_jpg.rf.952389aac4d12372138d9c687ba2c7a0.jpg: 640x640 2 Aambulances, 8.0ms\n",
            "Speed: 1.4ms preprocess, 8.0ms inference, 2.4ms postprocess per image at shape (1, 3, 640, 640)\n",
            "Results saved to \u001b[1mruns/detect/train2\u001b[0m\n",
            "\n",
            "image 1/1 /content/PH-Ambulances-1/valid/images/OEUTUTDCIL0C_jpg.rf.6999865781ccbf4f3a6007ee86974d3a.jpg: 640x640 5 Aambulances, 8.0ms\n",
            "Speed: 1.4ms preprocess, 8.0ms inference, 1.8ms postprocess per image at shape (1, 3, 640, 640)\n",
            "Results saved to \u001b[1mruns/detect/train2\u001b[0m\n",
            "\n",
            "image 1/1 /content/PH-Ambulances-1/valid/images/P8L8LTSRWUWA_jpg.rf.de97759276a178a7785b2b1676ce603d.jpg: 640x640 1 Aambulance, 7.8ms\n",
            "Speed: 1.4ms preprocess, 7.8ms inference, 1.9ms postprocess per image at shape (1, 3, 640, 640)\n",
            "Results saved to \u001b[1mruns/detect/train2\u001b[0m\n",
            "\n",
            "image 1/1 /content/PH-Ambulances-1/valid/images/OFUWYHNMLHU9_jpg.rf.a538bd6679b2bbb2898053e6e81331d8.jpg: 640x640 1 Aambulance, 8.3ms\n",
            "Speed: 1.4ms preprocess, 8.3ms inference, 1.8ms postprocess per image at shape (1, 3, 640, 640)\n",
            "Results saved to \u001b[1mruns/detect/train2\u001b[0m\n",
            "\n",
            "image 1/1 /content/PH-Ambulances-1/valid/images/OKECDPGMRJOK_jpg.rf.bae43a30ba872cc6da795575455df9a7.jpg: 640x640 1 Aambulance, 10.9ms\n",
            "Speed: 1.8ms preprocess, 10.9ms inference, 1.9ms postprocess per image at shape (1, 3, 640, 640)\n",
            "Results saved to \u001b[1mruns/detect/train2\u001b[0m\n",
            "\n",
            "image 1/1 /content/PH-Ambulances-1/valid/images/P6LLJNQ7Y6YM_jpg.rf.84b116604559e1bf180b493b8084c5f3.jpg: 640x640 1 Aambulance, 13.2ms\n",
            "Speed: 1.9ms preprocess, 13.2ms inference, 2.8ms postprocess per image at shape (1, 3, 640, 640)\n",
            "Results saved to \u001b[1mruns/detect/train2\u001b[0m\n",
            "\n",
            "image 1/1 /content/PH-Ambulances-1/valid/images/P6LLJNQ7Y6YM_jpg.rf.3a691321e88c578958e3bc8a28ab4efa.jpg: 640x640 1 Aambulance, 14.7ms\n",
            "Speed: 1.7ms preprocess, 14.7ms inference, 2.2ms postprocess per image at shape (1, 3, 640, 640)\n",
            "Results saved to \u001b[1mruns/detect/train2\u001b[0m\n",
            "\n",
            "      Epoch    GPU_mem   box_loss   cls_loss   dfl_loss  Instances       Size\n",
            "       4/10      2.47G     0.9336     0.7938      1.653         16        640: 100%|██████████| 437/437 [02:18<00:00,  3.15it/s]\n",
            "                 Class     Images  Instances      Box(P          R      mAP50  mAP50-95): 100%|██████████| 63/63 [00:22<00:00,  2.78it/s]\n",
            "                   all       1998       2296      0.855      0.809      0.877      0.648\n",
            "\n",
            "image 1/1 /content/PH-Ambulances-1/valid/images/P5TFFJ895I9I_jpg.rf.7ed23b647bc9e8e40cd41d5c746f79bc.jpg: 640x640 4 Aambulances, 26.9ms\n",
            "Speed: 2.0ms preprocess, 26.9ms inference, 2.3ms postprocess per image at shape (1, 3, 640, 640)\n",
            "Results saved to \u001b[1mruns/detect/train2\u001b[0m\n",
            "\n",
            "image 1/1 /content/PH-Ambulances-1/valid/images/P3SV9XNTICKN_jpg.rf.5de433b7b132a8c3181b4b75029fa2cb.jpg: 640x640 1 Aambulance, 15.4ms\n",
            "Speed: 1.9ms preprocess, 15.4ms inference, 2.9ms postprocess per image at shape (1, 3, 640, 640)\n",
            "Results saved to \u001b[1mruns/detect/train2\u001b[0m\n",
            "\n",
            "image 1/1 /content/PH-Ambulances-1/valid/images/P3JA1PCOMTBG_jpg.rf.7e3bfb1553d22ae188fc4bcf7d659388.jpg: 640x640 1 Aambulance, 8.5ms\n",
            "Speed: 1.5ms preprocess, 8.5ms inference, 2.4ms postprocess per image at shape (1, 3, 640, 640)\n",
            "Results saved to \u001b[1mruns/detect/train2\u001b[0m\n",
            "\n",
            "image 1/1 /content/PH-Ambulances-1/valid/images/P0ON7FOSK50O_jpg.rf.c31d59a6d00eca4ad35bd3d533000f79.jpg: 640x640 2 Aambulances, 8.2ms\n",
            "Speed: 1.3ms preprocess, 8.2ms inference, 1.9ms postprocess per image at shape (1, 3, 640, 640)\n",
            "Results saved to \u001b[1mruns/detect/train2\u001b[0m\n",
            "\n",
            "image 1/1 /content/PH-Ambulances-1/valid/images/OZPLJJX1QGOO_jpg.rf.eace0ca807322be52d0c0914ab5c81de.jpg: 640x640 1 Aambulance, 7.8ms\n",
            "Speed: 1.4ms preprocess, 7.8ms inference, 1.8ms postprocess per image at shape (1, 3, 640, 640)\n",
            "Results saved to \u001b[1mruns/detect/train2\u001b[0m\n",
            "\n",
            "image 1/1 /content/PH-Ambulances-1/valid/images/OU0E0R403DQM_jpg.rf.c30ce79fa6fd076c06b4d25b23e76d43.jpg: 640x640 1 Aambulance, 7.9ms\n",
            "Speed: 1.4ms preprocess, 7.9ms inference, 1.8ms postprocess per image at shape (1, 3, 640, 640)\n",
            "Results saved to \u001b[1mruns/detect/train2\u001b[0m\n",
            "\n",
            "image 1/1 /content/PH-Ambulances-1/valid/images/OU0E0R403DQM_jpg.rf.20b3163d57d8b4c1464ad85ba18f7901.jpg: 640x640 1 Aambulance, 12.1ms\n",
            "Speed: 1.5ms preprocess, 12.1ms inference, 2.6ms postprocess per image at shape (1, 3, 640, 640)\n",
            "Results saved to \u001b[1mruns/detect/train2\u001b[0m\n",
            "\n",
            "image 1/1 /content/PH-Ambulances-1/valid/images/OTJO4YQYGB48_jpg.rf.498828d339defbe8fc2818a060fd3571.jpg: 640x640 1 Aambulance, 8.3ms\n",
            "Speed: 1.5ms preprocess, 8.3ms inference, 1.8ms postprocess per image at shape (1, 3, 640, 640)\n",
            "Results saved to \u001b[1mruns/detect/train2\u001b[0m\n",
            "\n",
            "image 1/1 /content/PH-Ambulances-1/valid/images/OT5PMXKK241W_jpg.rf.5d7e45bcbb6dfdbd5a49eb9810010f09.jpg: 640x640 1 Aambulance, 8.1ms\n",
            "Speed: 1.4ms preprocess, 8.1ms inference, 1.9ms postprocess per image at shape (1, 3, 640, 640)\n",
            "Results saved to \u001b[1mruns/detect/train2\u001b[0m\n",
            "\n",
            "image 1/1 /content/PH-Ambulances-1/valid/images/OT3O3V3IZKN2_jpg.rf.f68cb78bdf62f26ef6f19d2c5d3d7d82.jpg: 640x640 3 Aambulances, 8.3ms\n",
            "Speed: 1.5ms preprocess, 8.3ms inference, 2.0ms postprocess per image at shape (1, 3, 640, 640)\n",
            "Results saved to \u001b[1mruns/detect/train2\u001b[0m\n",
            "\n",
            "image 1/1 /content/PH-Ambulances-1/valid/images/OT3O3V3IZKN2_jpg.rf.acbc8fc54f8b31b2291d12dba5235236.jpg: 640x640 1 Aambulance, 7.7ms\n",
            "Speed: 1.4ms preprocess, 7.7ms inference, 1.8ms postprocess per image at shape (1, 3, 640, 640)\n",
            "Results saved to \u001b[1mruns/detect/train2\u001b[0m\n",
            "\n",
            "image 1/1 /content/PH-Ambulances-1/valid/images/OT3O3V3IZKN2_jpg.rf.029badaa7727d919b235ed1e03ce8cf6.jpg: 640x640 2 Aambulances, 7.8ms\n",
            "Speed: 1.4ms preprocess, 7.8ms inference, 1.8ms postprocess per image at shape (1, 3, 640, 640)\n",
            "Results saved to \u001b[1mruns/detect/train2\u001b[0m\n",
            "\n",
            "image 1/1 /content/PH-Ambulances-1/valid/images/OSYXW82YKW9Z_jpg.rf.72461c9b2d854e686ecd393d5a783940.jpg: 640x640 1 Aambulance, 9.4ms\n",
            "Speed: 1.7ms preprocess, 9.4ms inference, 1.8ms postprocess per image at shape (1, 3, 640, 640)\n",
            "Results saved to \u001b[1mruns/detect/train2\u001b[0m\n",
            "\n",
            "image 1/1 /content/PH-Ambulances-1/valid/images/OR239OILMDJ7_jpg.rf.e3b7631801a259a3f97239a9dc9737d5.jpg: 640x640 1 Aambulance, 8.2ms\n",
            "Speed: 1.4ms preprocess, 8.2ms inference, 1.9ms postprocess per image at shape (1, 3, 640, 640)\n",
            "Results saved to \u001b[1mruns/detect/train2\u001b[0m\n",
            "\n",
            "image 1/1 /content/PH-Ambulances-1/valid/images/OQF1606WDSX5_jpg.rf.791137f376ece243b17057d4ce8f44a2.jpg: 640x640 1 Aambulance, 7.8ms\n",
            "Speed: 1.4ms preprocess, 7.8ms inference, 1.8ms postprocess per image at shape (1, 3, 640, 640)\n",
            "Results saved to \u001b[1mruns/detect/train2\u001b[0m\n",
            "\n",
            "image 1/1 /content/PH-Ambulances-1/valid/images/OQ024G1XX68Z_jpg.rf.232fcd3094595e3e67b59541adc846c2.jpg: 640x640 1 Aambulance, 8.0ms\n",
            "Speed: 1.5ms preprocess, 8.0ms inference, 1.8ms postprocess per image at shape (1, 3, 640, 640)\n",
            "Results saved to \u001b[1mruns/detect/train2\u001b[0m\n",
            "\n",
            "image 1/1 /content/PH-Ambulances-1/valid/images/OPLLA9YBBU7E_jpg.rf.db6cca12f139e3dd7e9f3e9e5aeb4d73.jpg: 640x640 4 Aambulances, 7.5ms\n",
            "Speed: 1.4ms preprocess, 7.5ms inference, 1.8ms postprocess per image at shape (1, 3, 640, 640)\n",
            "Results saved to \u001b[1mruns/detect/train2\u001b[0m\n",
            "\n",
            "image 1/1 /content/PH-Ambulances-1/valid/images/OPLLA9YBBU7E_jpg.rf.6c2e34f20ebb81b9df9f8da27d9c9c09.jpg: 640x640 6 Aambulances, 8.9ms\n",
            "Speed: 1.5ms preprocess, 8.9ms inference, 1.9ms postprocess per image at shape (1, 3, 640, 640)\n",
            "Results saved to \u001b[1mruns/detect/train2\u001b[0m\n",
            "\n",
            "image 1/1 /content/PH-Ambulances-1/valid/images/OOYQGP26NY6B_jpg.rf.aae7f6fe5c43329055d8c1462badfc91.jpg: 640x640 1 Aambulance, 8.5ms\n",
            "Speed: 1.5ms preprocess, 8.5ms inference, 1.9ms postprocess per image at shape (1, 3, 640, 640)\n",
            "Results saved to \u001b[1mruns/detect/train2\u001b[0m\n",
            "\n",
            "image 1/1 /content/PH-Ambulances-1/valid/images/OOYQGP26NY6B_jpg.rf.1b309a0b9f58fa55bc2a098e3fddf6cd.jpg: 640x640 1 Aambulance, 7.8ms\n",
            "Speed: 1.3ms preprocess, 7.8ms inference, 1.8ms postprocess per image at shape (1, 3, 640, 640)\n",
            "Results saved to \u001b[1mruns/detect/train2\u001b[0m\n",
            "\n",
            "image 1/1 /content/PH-Ambulances-1/valid/images/OMD6KRC94U2D_jpg.rf.1276bba4ecb32dfcca6cee9a02d0c1aa.jpg: 640x640 2 Aambulances, 8.2ms\n",
            "Speed: 1.5ms preprocess, 8.2ms inference, 2.0ms postprocess per image at shape (1, 3, 640, 640)\n",
            "Results saved to \u001b[1mruns/detect/train2\u001b[0m\n",
            "\n",
            "image 1/1 /content/PH-Ambulances-1/valid/images/OM2W7J1X1HI6_jpg.rf.14514504ba5040e82fc31d904befdb39.jpg: 640x640 1 Aambulance, 7.7ms\n",
            "Speed: 1.6ms preprocess, 7.7ms inference, 1.8ms postprocess per image at shape (1, 3, 640, 640)\n",
            "Results saved to \u001b[1mruns/detect/train2\u001b[0m\n",
            "\n",
            "image 1/1 /content/PH-Ambulances-1/valid/images/OKZK611KK7EW_jpg.rf.3e6bb27b8b8391aff37694c4b956279a.jpg: 640x640 2 Aambulances, 8.3ms\n",
            "Speed: 1.6ms preprocess, 8.3ms inference, 1.9ms postprocess per image at shape (1, 3, 640, 640)\n",
            "Results saved to \u001b[1mruns/detect/train2\u001b[0m\n",
            "\n",
            "image 1/1 /content/PH-Ambulances-1/valid/images/OKFYWWVC1O3S_jpg.rf.988d970877f7676007c9ed44d7b34cbb.jpg: 640x640 3 Aambulances, 16.3ms\n",
            "Speed: 1.6ms preprocess, 16.3ms inference, 2.9ms postprocess per image at shape (1, 3, 640, 640)\n",
            "Results saved to \u001b[1mruns/detect/train2\u001b[0m\n",
            "\n",
            "image 1/1 /content/PH-Ambulances-1/valid/images/OKFYWWVC1O3S_jpg.rf.8cdc8a55ec6ffc0b54c891c98b71ee2e.jpg: 640x640 3 Aambulances, 16.2ms\n",
            "Speed: 1.9ms preprocess, 16.2ms inference, 2.8ms postprocess per image at shape (1, 3, 640, 640)\n",
            "Results saved to \u001b[1mruns/detect/train2\u001b[0m\n",
            "\n",
            "image 1/1 /content/PH-Ambulances-1/valid/images/OJGQ5RV6XGTC_jpg.rf.b7989c3be7ff6bb9ea5664db7f7ddea2.jpg: 640x640 1 Aambulance, 10.4ms\n",
            "Speed: 1.6ms preprocess, 10.4ms inference, 2.4ms postprocess per image at shape (1, 3, 640, 640)\n",
            "Results saved to \u001b[1mruns/detect/train2\u001b[0m\n",
            "\n",
            "image 1/1 /content/PH-Ambulances-1/valid/images/QKMXG6NZWIC1_jpg.rf.fb94a70011c2d8a0a75b1e6c1873b76d.jpg: 640x640 4 Aambulances, 9.9ms\n",
            "Speed: 1.7ms preprocess, 9.9ms inference, 2.3ms postprocess per image at shape (1, 3, 640, 640)\n",
            "Results saved to \u001b[1mruns/detect/train2\u001b[0m\n",
            "\n",
            "image 1/1 /content/PH-Ambulances-1/valid/images/QKTUC69E6GSZ_jpg.rf.1d56a1093857bc84e46c7ec3594864cd.jpg: 640x640 1 Aambulance, 10.8ms\n",
            "Speed: 1.6ms preprocess, 10.8ms inference, 2.3ms postprocess per image at shape (1, 3, 640, 640)\n",
            "Results saved to \u001b[1mruns/detect/train2\u001b[0m\n",
            "\n",
            "image 1/1 /content/PH-Ambulances-1/valid/images/QKTUC69E6GSZ_jpg.rf.737823924a1c7a2f2f116bfef79edb69.jpg: 640x640 1 Aambulance, 11.7ms\n",
            "Speed: 1.7ms preprocess, 11.7ms inference, 2.9ms postprocess per image at shape (1, 3, 640, 640)\n",
            "Results saved to \u001b[1mruns/detect/train2\u001b[0m\n",
            "\n",
            "image 1/1 /content/PH-Ambulances-1/valid/images/T3437AOS25QQ_jpg.rf.2669db1d129494d51412b07fc369d98d.jpg: 640x640 2 Aambulances, 14.5ms\n",
            "Speed: 1.8ms preprocess, 14.5ms inference, 2.9ms postprocess per image at shape (1, 3, 640, 640)\n",
            "Results saved to \u001b[1mruns/detect/train2\u001b[0m\n",
            "\n",
            "image 1/1 /content/PH-Ambulances-1/valid/images/T3437AOS25QQ_jpg.rf.1e409f559e15e7779e788c46256e10d8.jpg: 640x640 1 Aambulance, 13.7ms\n",
            "Speed: 1.7ms preprocess, 13.7ms inference, 2.5ms postprocess per image at shape (1, 3, 640, 640)\n",
            "Results saved to \u001b[1mruns/detect/train2\u001b[0m\n",
            "\n",
            "image 1/1 /content/PH-Ambulances-1/valid/images/T3437AOS25QQ_jpg.rf.1ca67645da123a68caab60cd3f0938ed.jpg: 640x640 2 Aambulances, 14.6ms\n",
            "Speed: 1.8ms preprocess, 14.6ms inference, 2.8ms postprocess per image at shape (1, 3, 640, 640)\n",
            "Results saved to \u001b[1mruns/detect/train2\u001b[0m\n",
            "\n",
            "      Epoch    GPU_mem   box_loss   cls_loss   dfl_loss  Instances       Size\n",
            "       5/10      2.48G     0.8919     0.7336      1.609         16        640: 100%|██████████| 437/437 [02:19<00:00,  3.12it/s]\n",
            "                 Class     Images  Instances      Box(P          R      mAP50  mAP50-95): 100%|██████████| 63/63 [00:22<00:00,  2.80it/s]\n",
            "                   all       1998       2296      0.873      0.816      0.882      0.656\n",
            "\n",
            "image 1/1 /content/PH-Ambulances-1/valid/images/T0OWONRAKFZ1_jpg.rf.b41db5c07ad61eff64108f0f19c0d134.jpg: 640x640 2 Aambulances, 26.2ms\n",
            "Speed: 1.8ms preprocess, 26.2ms inference, 10.6ms postprocess per image at shape (1, 3, 640, 640)\n",
            "Results saved to \u001b[1mruns/detect/train2\u001b[0m\n",
            "\n",
            "image 1/1 /content/PH-Ambulances-1/valid/images/T099UG5TYH9X_jpg.rf.e66822b74624fb44b7e935b9bb525bf6.jpg: 640x640 1 Aambulance, 14.3ms\n",
            "Speed: 2.0ms preprocess, 14.3ms inference, 2.8ms postprocess per image at shape (1, 3, 640, 640)\n",
            "Results saved to \u001b[1mruns/detect/train2\u001b[0m\n",
            "\n",
            "image 1/1 /content/PH-Ambulances-1/valid/images/Suzuki-Bolan-Ambulance-01_jpg.rf.3ead6d4933be18650ea267f1b790ffde.jpg: 640x640 1 Aambulance, 8.4ms\n",
            "Speed: 1.5ms preprocess, 8.4ms inference, 1.9ms postprocess per image at shape (1, 3, 640, 640)\n",
            "Results saved to \u001b[1mruns/detect/train2\u001b[0m\n",
            "\n",
            "image 1/1 /content/PH-Ambulances-1/valid/images/SYWCDPK8QZ2V_jpg.rf.aea20520ff5e304beefeba0d65dcbcf7.jpg: 640x640 1 Aambulance, 7.8ms\n",
            "Speed: 1.5ms preprocess, 7.8ms inference, 1.8ms postprocess per image at shape (1, 3, 640, 640)\n",
            "Results saved to \u001b[1mruns/detect/train2\u001b[0m\n",
            "\n",
            "image 1/1 /content/PH-Ambulances-1/valid/images/SWG5P0HFQ4UB_jpg.rf.a74bbcfc176132e23233c5eef9629064.jpg: 640x640 1 Aambulance, 7.7ms\n",
            "Speed: 1.5ms preprocess, 7.7ms inference, 1.9ms postprocess per image at shape (1, 3, 640, 640)\n",
            "Results saved to \u001b[1mruns/detect/train2\u001b[0m\n",
            "\n",
            "image 1/1 /content/PH-Ambulances-1/valid/images/SWG5P0HFQ4UB_jpg.rf.8008321e9890857bc9cd9285d82aa044.jpg: 640x640 1 Aambulance, 8.5ms\n",
            "Speed: 1.5ms preprocess, 8.5ms inference, 1.8ms postprocess per image at shape (1, 3, 640, 640)\n",
            "Results saved to \u001b[1mruns/detect/train2\u001b[0m\n",
            "\n",
            "image 1/1 /content/PH-Ambulances-1/valid/images/SVACNIGNZPL3_jpg.rf.f30b6b8ed9497bb85fd936ed161a1e17.jpg: 640x640 4 Aambulances, 8.0ms\n",
            "Speed: 1.4ms preprocess, 8.0ms inference, 1.9ms postprocess per image at shape (1, 3, 640, 640)\n",
            "Results saved to \u001b[1mruns/detect/train2\u001b[0m\n",
            "\n",
            "image 1/1 /content/PH-Ambulances-1/valid/images/SV0INF1DKDED_jpg.rf.32518c1a9a2b8847095c40c12c1eaedf.jpg: 640x640 1 Aambulance, 8.3ms\n",
            "Speed: 1.5ms preprocess, 8.3ms inference, 1.9ms postprocess per image at shape (1, 3, 640, 640)\n",
            "Results saved to \u001b[1mruns/detect/train2\u001b[0m\n",
            "\n",
            "image 1/1 /content/PH-Ambulances-1/valid/images/SSVV7N6BRH5E_jpg.rf.ba1e1257944d297e79cc69eb0493af80.jpg: 640x640 2 Aambulances, 8.0ms\n",
            "Speed: 1.6ms preprocess, 8.0ms inference, 1.9ms postprocess per image at shape (1, 3, 640, 640)\n",
            "Results saved to \u001b[1mruns/detect/train2\u001b[0m\n",
            "\n",
            "image 1/1 /content/PH-Ambulances-1/valid/images/SSR7IKKPUR44_jpg.rf.9919522a3120a6d2b2b675d2dcd14ca8.jpg: 640x640 1 Aambulance, 9.4ms\n",
            "Speed: 1.5ms preprocess, 9.4ms inference, 1.8ms postprocess per image at shape (1, 3, 640, 640)\n",
            "Results saved to \u001b[1mruns/detect/train2\u001b[0m\n",
            "\n",
            "image 1/1 /content/PH-Ambulances-1/valid/images/SS2AYAKU7IVC_jpg.rf.2aeb152814ea8013e913bb21677a599c.jpg: 640x640 2 Aambulances, 7.7ms\n",
            "Speed: 1.4ms preprocess, 7.7ms inference, 1.8ms postprocess per image at shape (1, 3, 640, 640)\n",
            "Results saved to \u001b[1mruns/detect/train2\u001b[0m\n",
            "\n",
            "image 1/1 /content/PH-Ambulances-1/valid/images/SRXXTJQF688B_jpg.rf.290c82215dbfcadadaf345e37a663337.jpg: 640x640 3 Aambulances, 8.1ms\n",
            "Speed: 1.5ms preprocess, 8.1ms inference, 1.9ms postprocess per image at shape (1, 3, 640, 640)\n",
            "Results saved to \u001b[1mruns/detect/train2\u001b[0m\n",
            "\n",
            "image 1/1 /content/PH-Ambulances-1/valid/images/SRXFBD52SDVL_jpg.rf.b5972473ee1ec465bda78b5ad3e0d67d.jpg: 640x640 2 Aambulances, 7.9ms\n",
            "Speed: 1.5ms preprocess, 7.9ms inference, 1.9ms postprocess per image at shape (1, 3, 640, 640)\n",
            "Results saved to \u001b[1mruns/detect/train2\u001b[0m\n",
            "\n",
            "image 1/1 /content/PH-Ambulances-1/valid/images/SRGQ6HKWNOYM_jpg.rf.f13acd8ac7aaef6494204e338259d863.jpg: 640x640 1 Aambulance, 8.0ms\n",
            "Speed: 1.5ms preprocess, 8.0ms inference, 1.9ms postprocess per image at shape (1, 3, 640, 640)\n",
            "Results saved to \u001b[1mruns/detect/train2\u001b[0m\n",
            "\n",
            "image 1/1 /content/PH-Ambulances-1/valid/images/SQNLPSU3QQ4H_jpg.rf.d8c7b4a5451304cb010121a3fec72b16.jpg: 640x640 1 Aambulance, 7.9ms\n",
            "Speed: 1.5ms preprocess, 7.9ms inference, 1.8ms postprocess per image at shape (1, 3, 640, 640)\n",
            "Results saved to \u001b[1mruns/detect/train2\u001b[0m\n",
            "\n",
            "image 1/1 /content/PH-Ambulances-1/valid/images/SQNLPSU3QQ4H_jpg.rf.68cb7485257fe1b0a647b0f363c1917e.jpg: 640x640 1 Aambulance, 8.0ms\n",
            "Speed: 1.6ms preprocess, 8.0ms inference, 1.7ms postprocess per image at shape (1, 3, 640, 640)\n",
            "Results saved to \u001b[1mruns/detect/train2\u001b[0m\n",
            "\n",
            "image 1/1 /content/PH-Ambulances-1/valid/images/SOZ75RZYC1CG_jpg.rf.d3e570c078c8506096067e673fb2fb27.jpg: 640x640 5 Aambulances, 7.9ms\n",
            "Speed: 1.4ms preprocess, 7.9ms inference, 1.9ms postprocess per image at shape (1, 3, 640, 640)\n",
            "Results saved to \u001b[1mruns/detect/train2\u001b[0m\n",
            "\n",
            "image 1/1 /content/PH-Ambulances-1/valid/images/SMNNZRU2XJGS_jpg.rf.41a8cbee3e071768fb1be4bdbe90edd6.jpg: 640x640 2 Aambulances, 7.6ms\n",
            "Speed: 1.4ms preprocess, 7.6ms inference, 1.8ms postprocess per image at shape (1, 3, 640, 640)\n",
            "Results saved to \u001b[1mruns/detect/train2\u001b[0m\n",
            "\n",
            "image 1/1 /content/PH-Ambulances-1/valid/images/SMNNZRU2XJGS_jpg.rf.3a3b93e8c5f004cde199313e57111725.jpg: 640x640 5 Aambulances, 8.2ms\n",
            "Speed: 1.5ms preprocess, 8.2ms inference, 1.9ms postprocess per image at shape (1, 3, 640, 640)\n",
            "Results saved to \u001b[1mruns/detect/train2\u001b[0m\n",
            "\n",
            "image 1/1 /content/PH-Ambulances-1/valid/images/SMM5XUZR514P_jpg.rf.d37b984a7dfe3e50a2691bc552f2dd78.jpg: 640x640 1 Aambulance, 13.8ms\n",
            "Speed: 1.8ms preprocess, 13.8ms inference, 2.0ms postprocess per image at shape (1, 3, 640, 640)\n",
            "Results saved to \u001b[1mruns/detect/train2\u001b[0m\n",
            "\n",
            "image 1/1 /content/PH-Ambulances-1/valid/images/SMM5XUZR514P_jpg.rf.73123c46699755186bde455e86d4146d.jpg: 640x640 1 Aambulance, 11.6ms\n",
            "Speed: 1.7ms preprocess, 11.6ms inference, 2.3ms postprocess per image at shape (1, 3, 640, 640)\n",
            "Results saved to \u001b[1mruns/detect/train2\u001b[0m\n",
            "\n",
            "image 1/1 /content/PH-Ambulances-1/valid/images/SMM5XUZR514P_jpg.rf.0d440f673e2432736b5d964780ae031e.jpg: 640x640 1 Aambulance, 11.1ms\n",
            "Speed: 1.8ms preprocess, 11.1ms inference, 2.4ms postprocess per image at shape (1, 3, 640, 640)\n",
            "Results saved to \u001b[1mruns/detect/train2\u001b[0m\n",
            "\n",
            "image 1/1 /content/PH-Ambulances-1/valid/images/SJX86BZHXY8T_jpg.rf.733882deb561345b91027ddaacc82b29.jpg: 640x640 1 Aambulance, 10.6ms\n",
            "Speed: 1.7ms preprocess, 10.6ms inference, 2.3ms postprocess per image at shape (1, 3, 640, 640)\n",
            "Results saved to \u001b[1mruns/detect/train2\u001b[0m\n",
            "\n",
            "image 1/1 /content/PH-Ambulances-1/valid/images/SJ7LUWAI6A6M_jpg.rf.c1fde7ddd20527e1b1e9b570024e3069.jpg: 640x640 1 Aambulance, 9.7ms\n",
            "Speed: 1.7ms preprocess, 9.7ms inference, 2.4ms postprocess per image at shape (1, 3, 640, 640)\n",
            "Results saved to \u001b[1mruns/detect/train2\u001b[0m\n",
            "\n",
            "image 1/1 /content/PH-Ambulances-1/valid/images/T3MAZE72309Q_jpg.rf.ba20ab803f626fbad746a8042d23731d.jpg: 640x640 1 Aambulance, 18.2ms\n",
            "Speed: 1.8ms preprocess, 18.2ms inference, 2.7ms postprocess per image at shape (1, 3, 640, 640)\n",
            "Results saved to \u001b[1mruns/detect/train2\u001b[0m\n",
            "\n",
            "image 1/1 /content/PH-Ambulances-1/valid/images/SHXA7UUAGSZR_jpg.rf.85da8a925c616828374c5c0b27d62f05.jpg: 640x640 1 Aambulance, 17.5ms\n",
            "Speed: 1.7ms preprocess, 17.5ms inference, 2.4ms postprocess per image at shape (1, 3, 640, 640)\n",
            "Results saved to \u001b[1mruns/detect/train2\u001b[0m\n",
            "\n",
            "image 1/1 /content/PH-Ambulances-1/valid/images/T3MAZE72309Q_jpg.rf.f7f320b3a6eae21cf9dee4eb32112e11.jpg: 640x640 1 Aambulance, 21.9ms\n",
            "Speed: 1.9ms preprocess, 21.9ms inference, 2.9ms postprocess per image at shape (1, 3, 640, 640)\n",
            "Results saved to \u001b[1mruns/detect/train2\u001b[0m\n",
            "\n",
            "image 1/1 /content/PH-Ambulances-1/valid/images/T5S1PGFJM65F_jpg.rf.86e5df823aa0a818a3472980343676a9.jpg: 640x640 1 Aambulance, 14.1ms\n",
            "Speed: 1.8ms preprocess, 14.1ms inference, 2.7ms postprocess per image at shape (1, 3, 640, 640)\n",
            "Results saved to \u001b[1mruns/detect/train2\u001b[0m\n",
            "\n",
            "image 1/1 /content/PH-Ambulances-1/valid/images/TVFPIT4SG76D_jpg.rf.ac8ac57b616cd876a1b8c2915957d778.jpg: 640x640 1 Aambulance, 9.2ms\n",
            "Speed: 1.5ms preprocess, 9.2ms inference, 1.9ms postprocess per image at shape (1, 3, 640, 640)\n",
            "Results saved to \u001b[1mruns/detect/train2\u001b[0m\n",
            "\n",
            "image 1/1 /content/PH-Ambulances-1/valid/images/TVEBR5KJ5W0R_jpg.rf.aff95a0f6b80a6118fe46d464ddb4d06.jpg: 640x640 1 Aambulance, 8.0ms\n",
            "Speed: 1.5ms preprocess, 8.0ms inference, 1.8ms postprocess per image at shape (1, 3, 640, 640)\n",
            "Results saved to \u001b[1mruns/detect/train2\u001b[0m\n",
            "\n",
            "image 1/1 /content/PH-Ambulances-1/valid/images/TVEBR5KJ5W0R_jpg.rf.5d5fd4c6eeb17a4d7f1093c6069b79a3.jpg: 640x640 1 Aambulance, 7.7ms\n",
            "Speed: 1.5ms preprocess, 7.7ms inference, 1.8ms postprocess per image at shape (1, 3, 640, 640)\n",
            "Results saved to \u001b[1mruns/detect/train2\u001b[0m\n",
            "\n",
            "image 1/1 /content/PH-Ambulances-1/valid/images/TUSAIP44FWM2_jpg.rf.f77897d492f805988ddcb509c47181a1.jpg: 640x640 1 Aambulance, 17.6ms\n",
            "Speed: 1.7ms preprocess, 17.6ms inference, 2.8ms postprocess per image at shape (1, 3, 640, 640)\n",
            "Results saved to \u001b[1mruns/detect/train2\u001b[0m\n",
            "\n",
            "      Epoch    GPU_mem   box_loss   cls_loss   dfl_loss  Instances       Size\n",
            "       6/10      2.47G     0.8549     0.6567      1.573         16        640: 100%|██████████| 437/437 [02:18<00:00,  3.15it/s]\n",
            "                 Class     Images  Instances      Box(P          R      mAP50  mAP50-95): 100%|██████████| 63/63 [00:23<00:00,  2.69it/s]\n",
            "                   all       1998       2296        0.9      0.811       0.89      0.667\n",
            "\n",
            "image 1/1 /content/PH-Ambulances-1/valid/images/TUSAIP44FWM2_jpg.rf.c8dbe2f1bd86c61a0eb527324243d7c9.jpg: 640x640 1 Aambulance, 12.9ms\n",
            "Speed: 1.7ms preprocess, 12.9ms inference, 2.6ms postprocess per image at shape (1, 3, 640, 640)\n",
            "Results saved to \u001b[1mruns/detect/train2\u001b[0m\n",
            "\n",
            "image 1/1 /content/PH-Ambulances-1/valid/images/TTNI9462QN4R_jpg.rf.3744c30013ebc5b86340dfb5afe3b113.jpg: 640x640 1 Aambulance, 10.8ms\n",
            "Speed: 1.9ms preprocess, 10.8ms inference, 2.5ms postprocess per image at shape (1, 3, 640, 640)\n",
            "Results saved to \u001b[1mruns/detect/train2\u001b[0m\n",
            "\n",
            "image 1/1 /content/PH-Ambulances-1/valid/images/TTFJQL2LFBZS_jpg.rf.e7441a7eb40901d90aa946b7db75aff0.jpg: 640x640 1 Aambulance, 13.9ms\n",
            "Speed: 1.7ms preprocess, 13.9ms inference, 2.1ms postprocess per image at shape (1, 3, 640, 640)\n",
            "Results saved to \u001b[1mruns/detect/train2\u001b[0m\n",
            "\n",
            "image 1/1 /content/PH-Ambulances-1/valid/images/TTFJQL2LFBZS_jpg.rf.62a667172ef9895146ad61ab1aac0f50.jpg: 640x640 2 Aambulances, 8.0ms\n",
            "Speed: 1.4ms preprocess, 8.0ms inference, 1.9ms postprocess per image at shape (1, 3, 640, 640)\n",
            "Results saved to \u001b[1mruns/detect/train2\u001b[0m\n",
            "\n",
            "image 1/1 /content/PH-Ambulances-1/valid/images/TTFJQL2LFBZS_jpg.rf.3e6b094bb64daed6165bd65368cb3da3.jpg: 640x640 1 Aambulance, 7.9ms\n",
            "Speed: 1.4ms preprocess, 7.9ms inference, 1.8ms postprocess per image at shape (1, 3, 640, 640)\n",
            "Results saved to \u001b[1mruns/detect/train2\u001b[0m\n",
            "\n",
            "image 1/1 /content/PH-Ambulances-1/valid/images/TRNIKLBWA8I9_jpg.rf.b69229054234b2b8305297c3cf1330bd.jpg: 640x640 1 Aambulance, 8.3ms\n",
            "Speed: 1.3ms preprocess, 8.3ms inference, 1.8ms postprocess per image at shape (1, 3, 640, 640)\n",
            "Results saved to \u001b[1mruns/detect/train2\u001b[0m\n",
            "\n",
            "image 1/1 /content/PH-Ambulances-1/valid/images/TRNIKLBWA8I9_jpg.rf.a177d534961d110c854a7bce7bd1d9be.jpg: 640x640 1 Aambulance, 7.8ms\n",
            "Speed: 1.3ms preprocess, 7.8ms inference, 1.8ms postprocess per image at shape (1, 3, 640, 640)\n",
            "Results saved to \u001b[1mruns/detect/train2\u001b[0m\n",
            "\n",
            "image 1/1 /content/PH-Ambulances-1/valid/images/TR37XIP95B2A_jpg.rf.a5afae2d8066f833431c8b536711828f.jpg: 640x640 2 Aambulances, 8.1ms\n",
            "Speed: 1.3ms preprocess, 8.1ms inference, 1.8ms postprocess per image at shape (1, 3, 640, 640)\n",
            "Results saved to \u001b[1mruns/detect/train2\u001b[0m\n",
            "\n",
            "image 1/1 /content/PH-Ambulances-1/valid/images/TQVVLPSBO0P3_jpg.rf.1fec88aadd758735379d125a6f3058c9.jpg: 640x640 1 Aambulance, 8.3ms\n",
            "Speed: 1.4ms preprocess, 8.3ms inference, 1.8ms postprocess per image at shape (1, 3, 640, 640)\n",
            "Results saved to \u001b[1mruns/detect/train2\u001b[0m\n",
            "\n",
            "image 1/1 /content/PH-Ambulances-1/valid/images/TQGG6V9CSXY0_jpg.rf.f9dcb0d141adab38af7a36b22d8e9f65.jpg: 640x640 2 Aambulances, 9.9ms\n",
            "Speed: 1.6ms preprocess, 9.9ms inference, 2.0ms postprocess per image at shape (1, 3, 640, 640)\n",
            "Results saved to \u001b[1mruns/detect/train2\u001b[0m\n",
            "\n",
            "image 1/1 /content/PH-Ambulances-1/valid/images/TMV0CG9YC2XE_jpg.rf.caae495e6f564f21f29f5792395177ed.jpg: 640x640 1 Aambulance, 14.2ms\n",
            "Speed: 1.5ms preprocess, 14.2ms inference, 2.2ms postprocess per image at shape (1, 3, 640, 640)\n",
            "Results saved to \u001b[1mruns/detect/train2\u001b[0m\n",
            "\n",
            "image 1/1 /content/PH-Ambulances-1/valid/images/TMMNLZ8ABJHE_jpg.rf.ec4d5af18a4f2aff4088a21290c8165b.jpg: 640x640 1 Aambulance, 8.2ms\n",
            "Speed: 1.4ms preprocess, 8.2ms inference, 1.9ms postprocess per image at shape (1, 3, 640, 640)\n",
            "Results saved to \u001b[1mruns/detect/train2\u001b[0m\n",
            "\n",
            "image 1/1 /content/PH-Ambulances-1/valid/images/TKPF4X828VDQ_jpg.rf.bbb4e77ac59fea6267cb6a621effa4f7.jpg: 640x640 1 Aambulance, 8.6ms\n",
            "Speed: 1.7ms preprocess, 8.6ms inference, 1.9ms postprocess per image at shape (1, 3, 640, 640)\n",
            "Results saved to \u001b[1mruns/detect/train2\u001b[0m\n",
            "\n",
            "image 1/1 /content/PH-Ambulances-1/valid/images/TIRDSCMZVH4I_jpg.rf.02224dfe503b34ab8f1d3419a6dd0dbd.jpg: 640x640 1 Aambulance, 9.9ms\n",
            "Speed: 1.5ms preprocess, 9.9ms inference, 1.9ms postprocess per image at shape (1, 3, 640, 640)\n",
            "Results saved to \u001b[1mruns/detect/train2\u001b[0m\n",
            "\n",
            "image 1/1 /content/PH-Ambulances-1/valid/images/THWKO31COMLV_jpg.rf.f0218005322966b34af3f010d4aa049f.jpg: 640x640 2 Aambulances, 9.3ms\n",
            "Speed: 1.6ms preprocess, 9.3ms inference, 1.9ms postprocess per image at shape (1, 3, 640, 640)\n",
            "Results saved to \u001b[1mruns/detect/train2\u001b[0m\n",
            "\n",
            "image 1/1 /content/PH-Ambulances-1/valid/images/THWKO31COMLV_jpg.rf.b81986f7a76dc0a0570a021772270c96.jpg: 640x640 1 Aambulance, 12.6ms\n",
            "Speed: 1.4ms preprocess, 12.6ms inference, 2.2ms postprocess per image at shape (1, 3, 640, 640)\n",
            "Results saved to \u001b[1mruns/detect/train2\u001b[0m\n",
            "\n",
            "image 1/1 /content/PH-Ambulances-1/valid/images/THWKO31COMLV_jpg.rf.69dd8300ecc82abcf6aba116f0f835fa.jpg: 640x640 1 Aambulance, 9.1ms\n",
            "Speed: 1.5ms preprocess, 9.1ms inference, 2.0ms postprocess per image at shape (1, 3, 640, 640)\n",
            "Results saved to \u001b[1mruns/detect/train2\u001b[0m\n",
            "\n",
            "image 1/1 /content/PH-Ambulances-1/valid/images/THTDHYVFYPG0_jpg.rf.555bda2702347daad29f2a0f78a48d56.jpg: 640x640 2 Aambulances, 8.1ms\n",
            "Speed: 1.5ms preprocess, 8.1ms inference, 2.0ms postprocess per image at shape (1, 3, 640, 640)\n",
            "Results saved to \u001b[1mruns/detect/train2\u001b[0m\n",
            "\n",
            "image 1/1 /content/PH-Ambulances-1/valid/images/TFSHQOJFWIYA_jpg.rf.92efc971ce590003d9e2205577d45fdd.jpg: 640x640 1 Aambulance, 7.8ms\n",
            "Speed: 1.3ms preprocess, 7.8ms inference, 1.8ms postprocess per image at shape (1, 3, 640, 640)\n",
            "Results saved to \u001b[1mruns/detect/train2\u001b[0m\n",
            "\n",
            "image 1/1 /content/PH-Ambulances-1/valid/images/TEEPQXC1K8PO_jpg.rf.3dfbdb5694460516eb9b7aae0dde5100.jpg: 640x640 1 Aambulance, 12.1ms\n",
            "Speed: 1.7ms preprocess, 12.1ms inference, 1.9ms postprocess per image at shape (1, 3, 640, 640)\n",
            "Results saved to \u001b[1mruns/detect/train2\u001b[0m\n",
            "\n",
            "image 1/1 /content/PH-Ambulances-1/valid/images/TE7GPYIHFJ0F_jpg.rf.947b22c3bfeb3110c1178913b5077712.jpg: 640x640 2 Aambulances, 7.9ms\n",
            "Speed: 1.5ms preprocess, 7.9ms inference, 1.9ms postprocess per image at shape (1, 3, 640, 640)\n",
            "Results saved to \u001b[1mruns/detect/train2\u001b[0m\n",
            "\n",
            "image 1/1 /content/PH-Ambulances-1/valid/images/TCWJK9HDL8OI_jpg.rf.661507e2e05e586477c7b50766af1f0a.jpg: 640x640 1 Aambulance, 8.4ms\n",
            "Speed: 1.4ms preprocess, 8.4ms inference, 1.8ms postprocess per image at shape (1, 3, 640, 640)\n",
            "Results saved to \u001b[1mruns/detect/train2\u001b[0m\n",
            "\n",
            "image 1/1 /content/PH-Ambulances-1/valid/images/TBL5X1DICO2F_jpg.rf.764d8f4e435e7df227dc6013f62b9474.jpg: 640x640 1 Aambulance, 8.2ms\n",
            "Speed: 1.4ms preprocess, 8.2ms inference, 1.9ms postprocess per image at shape (1, 3, 640, 640)\n",
            "Results saved to \u001b[1mruns/detect/train2\u001b[0m\n",
            "\n",
            "image 1/1 /content/PH-Ambulances-1/valid/images/T4QMFYRPL0JL_jpg.rf.c1537767b46da9a5b0545511f3e3fd5f.jpg: 640x640 2 Aambulances, 8.1ms\n",
            "Speed: 1.3ms preprocess, 8.1ms inference, 1.9ms postprocess per image at shape (1, 3, 640, 640)\n",
            "Results saved to \u001b[1mruns/detect/train2\u001b[0m\n",
            "\n",
            "image 1/1 /content/PH-Ambulances-1/valid/images/SH006265DVYP_jpg.rf.7149a661d5f32cdcf3ee2baabb4a83f2.jpg: 640x640 1 Aambulance, 13.9ms\n",
            "Speed: 1.5ms preprocess, 13.9ms inference, 3.7ms postprocess per image at shape (1, 3, 640, 640)\n",
            "Results saved to \u001b[1mruns/detect/train2\u001b[0m\n",
            "\n",
            "image 1/1 /content/PH-Ambulances-1/valid/images/SG5H6DDA2THS_jpg.rf.3ceba10b48686b5a5566764d0f32b7b5.jpg: 640x640 1 Aambulance, 15.0ms\n",
            "Speed: 1.7ms preprocess, 15.0ms inference, 2.6ms postprocess per image at shape (1, 3, 640, 640)\n",
            "Results saved to \u001b[1mruns/detect/train2\u001b[0m\n",
            "\n",
            "image 1/1 /content/PH-Ambulances-1/valid/images/SDLCQ40Y4HFR_jpg.rf.7a959d4c9ede1036537349f8a9ade281.jpg: 640x640 1 Aambulance, 14.7ms\n",
            "Speed: 1.6ms preprocess, 14.7ms inference, 6.6ms postprocess per image at shape (1, 3, 640, 640)\n",
            "Results saved to \u001b[1mruns/detect/train2\u001b[0m\n",
            "\n",
            "image 1/1 /content/PH-Ambulances-1/valid/images/RJUQLYLC5W7P_jpg.rf.608dfa5b365c5c41774a2078ed3a21c1.jpg: 640x640 2 Aambulances, 13.5ms\n",
            "Speed: 1.6ms preprocess, 13.5ms inference, 2.3ms postprocess per image at shape (1, 3, 640, 640)\n",
            "Results saved to \u001b[1mruns/detect/train2\u001b[0m\n",
            "\n",
            "image 1/1 /content/PH-Ambulances-1/valid/images/RICNWC8H34KM_jpg.rf.b07c54d40d9a7daea89028b659a92d16.jpg: 640x640 1 Aambulance, 9.7ms\n",
            "Speed: 1.6ms preprocess, 9.7ms inference, 2.3ms postprocess per image at shape (1, 3, 640, 640)\n",
            "Results saved to \u001b[1mruns/detect/train2\u001b[0m\n",
            "\n",
            "image 1/1 /content/PH-Ambulances-1/valid/images/RI1H6A9MZVV3_jpg.rf.9d96dae34b9544f800a35fed424bc0f7.jpg: 640x640 1 Aambulance, 14.3ms\n",
            "Speed: 1.8ms preprocess, 14.3ms inference, 2.2ms postprocess per image at shape (1, 3, 640, 640)\n",
            "Results saved to \u001b[1mruns/detect/train2\u001b[0m\n",
            "\n",
            "image 1/1 /content/PH-Ambulances-1/valid/images/RDZNQK0UXTVS_jpg.rf.c6824cb8d47d583e17a8a29e936afac7.jpg: 640x640 2 Aambulances, 14.4ms\n",
            "Speed: 1.6ms preprocess, 14.4ms inference, 2.8ms postprocess per image at shape (1, 3, 640, 640)\n",
            "Results saved to \u001b[1mruns/detect/train2\u001b[0m\n",
            "\n",
            "image 1/1 /content/PH-Ambulances-1/valid/images/RCAYFPZFDUY4_jpg.rf.e1f80280e4dc1474201352017cd4a78c.jpg: 640x640 1 Aambulance, 12.0ms\n",
            "Speed: 2.1ms preprocess, 12.0ms inference, 2.4ms postprocess per image at shape (1, 3, 640, 640)\n",
            "Results saved to \u001b[1mruns/detect/train2\u001b[0m\n",
            "\n",
            "      Epoch    GPU_mem   box_loss   cls_loss   dfl_loss  Instances       Size\n",
            "       7/10      2.47G     0.8263     0.6245      1.542         17        640: 100%|██████████| 437/437 [02:20<00:00,  3.10it/s]\n",
            "                 Class     Images  Instances      Box(P          R      mAP50  mAP50-95): 100%|██████████| 63/63 [00:22<00:00,  2.79it/s]\n",
            "                   all       1998       2296      0.895      0.844      0.914      0.704\n",
            "\n",
            "image 1/1 /content/PH-Ambulances-1/valid/images/RA093PLG3VA7_jpg.rf.e51d134e08b2c2a0408c6c24860887cf.jpg: 640x640 2 Aambulances, 18.9ms\n",
            "Speed: 1.7ms preprocess, 18.9ms inference, 2.6ms postprocess per image at shape (1, 3, 640, 640)\n",
            "Results saved to \u001b[1mruns/detect/train2\u001b[0m\n",
            "\n",
            "image 1/1 /content/PH-Ambulances-1/valid/images/RA093PLG3VA7_jpg.rf.0de82bc2664f53708b95367f91b10470.jpg: 640x640 2 Aambulances, 10.5ms\n",
            "Speed: 2.6ms preprocess, 10.5ms inference, 2.2ms postprocess per image at shape (1, 3, 640, 640)\n",
            "Results saved to \u001b[1mruns/detect/train2\u001b[0m\n",
            "\n",
            "image 1/1 /content/PH-Ambulances-1/valid/images/R8J1I9FVI9P5_jpg.rf.7accd735ec66da3c631af5d4c839a1ad.jpg: 640x640 1 Aambulance, 8.1ms\n",
            "Speed: 1.4ms preprocess, 8.1ms inference, 1.8ms postprocess per image at shape (1, 3, 640, 640)\n",
            "Results saved to \u001b[1mruns/detect/train2\u001b[0m\n",
            "\n",
            "image 1/1 /content/PH-Ambulances-1/valid/images/R7QS0A4AQNXT_jpg.rf.0ab08929d9299e3d56eb5e3e1356c09b.jpg: 640x640 1 Aambulance, 8.2ms\n",
            "Speed: 1.4ms preprocess, 8.2ms inference, 1.8ms postprocess per image at shape (1, 3, 640, 640)\n",
            "Results saved to \u001b[1mruns/detect/train2\u001b[0m\n",
            "\n",
            "image 1/1 /content/PH-Ambulances-1/valid/images/R7QS0A4AQNXT_jpg.rf.086617a97a6a2deff04e0ff315700876.jpg: 640x640 1 Aambulance, 7.6ms\n",
            "Speed: 1.4ms preprocess, 7.6ms inference, 1.8ms postprocess per image at shape (1, 3, 640, 640)\n",
            "Results saved to \u001b[1mruns/detect/train2\u001b[0m\n",
            "\n",
            "image 1/1 /content/PH-Ambulances-1/valid/images/R707L47VMDOI_jpg.rf.0fd9ef4d534e415ac7414483a8aec5e2.jpg: 640x640 2 Aambulances, 7.8ms\n",
            "Speed: 1.3ms preprocess, 7.8ms inference, 1.8ms postprocess per image at shape (1, 3, 640, 640)\n",
            "Results saved to \u001b[1mruns/detect/train2\u001b[0m\n",
            "\n",
            "image 1/1 /content/PH-Ambulances-1/valid/images/R6ZE8KJXLA6G_jpg.rf.5e85e9e08926f6e8ce9a345b1a41cc87.jpg: 640x640 1 Aambulance, 9.9ms\n",
            "Speed: 1.5ms preprocess, 9.9ms inference, 2.1ms postprocess per image at shape (1, 3, 640, 640)\n",
            "Results saved to \u001b[1mruns/detect/train2\u001b[0m\n",
            "\n",
            "image 1/1 /content/PH-Ambulances-1/valid/images/R64N8I7ABXBP_jpg.rf.c7a877ced95e3ae7224d0d8c9ea67192.jpg: 640x640 1 Aambulance, 7.7ms\n",
            "Speed: 1.4ms preprocess, 7.7ms inference, 1.8ms postprocess per image at shape (1, 3, 640, 640)\n",
            "Results saved to \u001b[1mruns/detect/train2\u001b[0m\n",
            "\n",
            "image 1/1 /content/PH-Ambulances-1/valid/images/R64N8I7ABXBP_jpg.rf.aaed086807f2c96e38da555947cea498.jpg: 640x640 1 Aambulance, 7.6ms\n",
            "Speed: 1.5ms preprocess, 7.6ms inference, 3.7ms postprocess per image at shape (1, 3, 640, 640)\n",
            "Results saved to \u001b[1mruns/detect/train2\u001b[0m\n",
            "\n",
            "image 1/1 /content/PH-Ambulances-1/valid/images/R3TK1WGN38XL_jpg.rf.f5e01fe5ea004c70e5ef06b1a6d1f145.jpg: 640x640 1 Aambulance, 8.0ms\n",
            "Speed: 1.5ms preprocess, 8.0ms inference, 1.8ms postprocess per image at shape (1, 3, 640, 640)\n",
            "Results saved to \u001b[1mruns/detect/train2\u001b[0m\n",
            "\n",
            "image 1/1 /content/PH-Ambulances-1/valid/images/R2V8UC55CF0U_jpg.rf.bc318dc79d002a22c2fe50819c7ece1d.jpg: 640x640 1 Aambulance, 8.2ms\n",
            "Speed: 1.4ms preprocess, 8.2ms inference, 1.8ms postprocess per image at shape (1, 3, 640, 640)\n",
            "Results saved to \u001b[1mruns/detect/train2\u001b[0m\n",
            "\n",
            "image 1/1 /content/PH-Ambulances-1/valid/images/R2V8UC55CF0U_jpg.rf.ac887d26e2f11d9a445a9e1457175555.jpg: 640x640 1 Aambulance, 8.0ms\n",
            "Speed: 1.4ms preprocess, 8.0ms inference, 1.8ms postprocess per image at shape (1, 3, 640, 640)\n",
            "Results saved to \u001b[1mruns/detect/train2\u001b[0m\n",
            "\n",
            "image 1/1 /content/PH-Ambulances-1/valid/images/R2HC65IEX8PS_jpg.rf.769f2f023e05c6755eaca6f58643ba12.jpg: 640x640 1 Aambulance, 7.5ms\n",
            "Speed: 1.4ms preprocess, 7.5ms inference, 1.8ms postprocess per image at shape (1, 3, 640, 640)\n",
            "Results saved to \u001b[1mruns/detect/train2\u001b[0m\n",
            "\n",
            "image 1/1 /content/PH-Ambulances-1/valid/images/R047D3MV4UKO_jpg.rf.b624265b227a1aad72dd250293d3ceab.jpg: 640x640 3 Aambulances, 7.9ms\n",
            "Speed: 1.5ms preprocess, 7.9ms inference, 1.8ms postprocess per image at shape (1, 3, 640, 640)\n",
            "Results saved to \u001b[1mruns/detect/train2\u001b[0m\n",
            "\n",
            "image 1/1 /content/PH-Ambulances-1/valid/images/R047D3MV4UKO_jpg.rf.41e149fede5f588426500bbb9e506f88.jpg: 640x640 2 Aambulances, 7.7ms\n",
            "Speed: 1.4ms preprocess, 7.7ms inference, 2.0ms postprocess per image at shape (1, 3, 640, 640)\n",
            "Results saved to \u001b[1mruns/detect/train2\u001b[0m\n",
            "\n",
            "image 1/1 /content/PH-Ambulances-1/valid/images/QUBJ53YTK3U7_jpg.rf.496eec850f2d5cdbfe1cf49a28e0d2da.jpg: 640x640 1 Aambulance, 10.6ms\n",
            "Speed: 1.3ms preprocess, 10.6ms inference, 1.8ms postprocess per image at shape (1, 3, 640, 640)\n",
            "Results saved to \u001b[1mruns/detect/train2\u001b[0m\n",
            "\n",
            "image 1/1 /content/PH-Ambulances-1/valid/images/QU9JC807B60M_jpg.rf.6412e90d9a99899129d65dbbc570bb50.jpg: 640x640 1 Aambulance, 7.8ms\n",
            "Speed: 1.4ms preprocess, 7.8ms inference, 1.8ms postprocess per image at shape (1, 3, 640, 640)\n",
            "Results saved to \u001b[1mruns/detect/train2\u001b[0m\n",
            "\n",
            "image 1/1 /content/PH-Ambulances-1/valid/images/QU9JC807B60M_jpg.rf.4c6d5c4ea5048a5f594515b81b8929de.jpg: 640x640 1 Aambulance, 7.9ms\n",
            "Speed: 1.4ms preprocess, 7.9ms inference, 1.8ms postprocess per image at shape (1, 3, 640, 640)\n",
            "Results saved to \u001b[1mruns/detect/train2\u001b[0m\n",
            "\n",
            "image 1/1 /content/PH-Ambulances-1/valid/images/QOA35MLQK9OJ_jpg.rf.c6576f35181ad8a8aec0ba99f2c3a8a5.jpg: 640x640 1 Aambulance, 7.7ms\n",
            "Speed: 1.4ms preprocess, 7.7ms inference, 1.7ms postprocess per image at shape (1, 3, 640, 640)\n",
            "Results saved to \u001b[1mruns/detect/train2\u001b[0m\n",
            "\n",
            "image 1/1 /content/PH-Ambulances-1/valid/images/QOA35MLQK9OJ_jpg.rf.b540e532b230ad68c9b73901864bb6c0.jpg: 640x640 1 Aambulance, 8.1ms\n",
            "Speed: 1.4ms preprocess, 8.1ms inference, 1.9ms postprocess per image at shape (1, 3, 640, 640)\n",
            "Results saved to \u001b[1mruns/detect/train2\u001b[0m\n",
            "\n",
            "image 1/1 /content/PH-Ambulances-1/valid/images/QNVX8T7IDYAW_jpg.rf.11c1604e6fe8254365b4a639abeef155.jpg: 640x640 1 Aambulance, 8.2ms\n",
            "Speed: 1.4ms preprocess, 8.2ms inference, 1.8ms postprocess per image at shape (1, 3, 640, 640)\n",
            "Results saved to \u001b[1mruns/detect/train2\u001b[0m\n",
            "\n",
            "image 1/1 /content/PH-Ambulances-1/valid/images/QKTUC69E6GSZ_jpg.rf.bb378ac6d06da26eb052f8b0d8b47ba6.jpg: 640x640 1 Aambulance, 8.1ms\n",
            "Speed: 1.3ms preprocess, 8.1ms inference, 1.8ms postprocess per image at shape (1, 3, 640, 640)\n",
            "Results saved to \u001b[1mruns/detect/train2\u001b[0m\n",
            "\n",
            "image 1/1 /content/PH-Ambulances-1/valid/images/RL1Q66Y86H8Q_jpg.rf.13502df2154348538e86b52493501911.jpg: 640x640 1 Aambulance, 8.0ms\n",
            "Speed: 1.6ms preprocess, 8.0ms inference, 1.8ms postprocess per image at shape (1, 3, 640, 640)\n",
            "Results saved to \u001b[1mruns/detect/train2\u001b[0m\n",
            "\n",
            "image 1/1 /content/PH-Ambulances-1/valid/images/RL1Q66Y86H8Q_jpg.rf.4c0c2ceae5a72ad336948394b443aa73.jpg: 640x640 1 Aambulance, 7.6ms\n",
            "Speed: 1.3ms preprocess, 7.6ms inference, 1.7ms postprocess per image at shape (1, 3, 640, 640)\n",
            "Results saved to \u001b[1mruns/detect/train2\u001b[0m\n",
            "\n",
            "image 1/1 /content/PH-Ambulances-1/valid/images/RQF15OGDI9VS_jpg.rf.e4afa34592cd5367f0cc387e76f9bc55.jpg: 640x640 1 Aambulance, 8.3ms\n",
            "Speed: 1.4ms preprocess, 8.3ms inference, 1.9ms postprocess per image at shape (1, 3, 640, 640)\n",
            "Results saved to \u001b[1mruns/detect/train2\u001b[0m\n",
            "\n",
            "image 1/1 /content/PH-Ambulances-1/valid/images/RQY5OXV2SRU6_jpg.rf.153a749de4d9b91186543cd8edf46feb.jpg: 640x640 1 Aambulance, 8.1ms\n",
            "Speed: 1.3ms preprocess, 8.1ms inference, 1.7ms postprocess per image at shape (1, 3, 640, 640)\n",
            "Results saved to \u001b[1mruns/detect/train2\u001b[0m\n",
            "\n",
            "image 1/1 /content/PH-Ambulances-1/valid/images/SBBGTMKFQ377_jpg.rf.2c8a827ed17fa85968bd7d582ff1b168.jpg: 640x640 1 Aambulance, 8.2ms\n",
            "Speed: 1.5ms preprocess, 8.2ms inference, 1.8ms postprocess per image at shape (1, 3, 640, 640)\n",
            "Results saved to \u001b[1mruns/detect/train2\u001b[0m\n",
            "\n",
            "image 1/1 /content/PH-Ambulances-1/valid/images/SB3Z67V6YRC2_jpg.rf.8096e1dec9d288feec1afa25238500d7.jpg: 640x640 1 Aambulance, 7.7ms\n",
            "Speed: 1.4ms preprocess, 7.7ms inference, 1.9ms postprocess per image at shape (1, 3, 640, 640)\n",
            "Results saved to \u001b[1mruns/detect/train2\u001b[0m\n",
            "\n",
            "image 1/1 /content/PH-Ambulances-1/valid/images/SAGE9O8ALPDI_jpg.rf.c916034c7e1df78b411928b5b31ad296.jpg: 640x640 1 Aambulance, 8.0ms\n",
            "Speed: 1.4ms preprocess, 8.0ms inference, 1.7ms postprocess per image at shape (1, 3, 640, 640)\n",
            "Results saved to \u001b[1mruns/detect/train2\u001b[0m\n",
            "\n",
            "image 1/1 /content/PH-Ambulances-1/valid/images/S9KHPGKM7F1U_jpg.rf.401db8b0a962f1eabcf63b9a43d194fa.jpg: 640x640 2 Aambulances, 12.6ms\n",
            "Speed: 1.6ms preprocess, 12.6ms inference, 2.7ms postprocess per image at shape (1, 3, 640, 640)\n",
            "Results saved to \u001b[1mruns/detect/train2\u001b[0m\n",
            "\n",
            "image 1/1 /content/PH-Ambulances-1/valid/images/S8TPZEDJUSWT_jpg.rf.c5283e9bb29c5c9658a2f2965d0a0885.jpg: 640x640 1 Aambulance, 7.7ms\n",
            "Speed: 1.4ms preprocess, 7.7ms inference, 1.8ms postprocess per image at shape (1, 3, 640, 640)\n",
            "Results saved to \u001b[1mruns/detect/train2\u001b[0m\n",
            "\n",
            "image 1/1 /content/PH-Ambulances-1/valid/images/S8TPZEDJUSWT_jpg.rf.5d0363548fd2e31d2f4fc8157df32771.jpg: 640x640 1 Aambulance, 7.6ms\n",
            "Speed: 1.4ms preprocess, 7.6ms inference, 1.8ms postprocess per image at shape (1, 3, 640, 640)\n",
            "Results saved to \u001b[1mruns/detect/train2\u001b[0m\n",
            "\n",
            "      Epoch    GPU_mem   box_loss   cls_loss   dfl_loss  Instances       Size\n",
            "       8/10      2.47G     0.7811     0.5625      1.494         16        640: 100%|██████████| 437/437 [02:22<00:00,  3.07it/s]\n",
            "                 Class     Images  Instances      Box(P          R      mAP50  mAP50-95): 100%|██████████| 63/63 [00:21<00:00,  2.91it/s]\n",
            "                   all       1998       2296       0.92      0.873      0.928      0.721\n",
            "\n",
            "image 1/1 /content/PH-Ambulances-1/valid/images/S7NN2W84AL9F_jpg.rf.b617a7c6e8b1b32e98f3c2dfae7afd92.jpg: 640x640 1 Aambulance, 21.2ms\n",
            "Speed: 8.1ms preprocess, 21.2ms inference, 2.3ms postprocess per image at shape (1, 3, 640, 640)\n",
            "Results saved to \u001b[1mruns/detect/train2\u001b[0m\n",
            "\n",
            "image 1/1 /content/PH-Ambulances-1/valid/images/S7NN2W84AL9F_jpg.rf.a41ec2d5c5494d22418b4e63f38b67a3.jpg: 640x640 1 Aambulance, 29.3ms\n",
            "Speed: 1.8ms preprocess, 29.3ms inference, 2.3ms postprocess per image at shape (1, 3, 640, 640)\n",
            "Results saved to \u001b[1mruns/detect/train2\u001b[0m\n",
            "\n",
            "image 1/1 /content/PH-Ambulances-1/valid/images/S7NN2W84AL9F_jpg.rf.6d64d87689ccb8c8cc74634b834d9b94.jpg: 640x640 1 Aambulance, 12.5ms\n",
            "Speed: 1.9ms preprocess, 12.5ms inference, 2.6ms postprocess per image at shape (1, 3, 640, 640)\n",
            "Results saved to \u001b[1mruns/detect/train2\u001b[0m\n",
            "\n",
            "image 1/1 /content/PH-Ambulances-1/valid/images/S66XUD40FJAU_jpg.rf.f9261581a18ae9d91baf160016da0f98.jpg: 640x640 1 Aambulance, 10.1ms\n",
            "Speed: 1.8ms preprocess, 10.1ms inference, 2.3ms postprocess per image at shape (1, 3, 640, 640)\n",
            "Results saved to \u001b[1mruns/detect/train2\u001b[0m\n",
            "\n",
            "image 1/1 /content/PH-Ambulances-1/valid/images/S66XUD40FJAU_jpg.rf.f35ca036792b82d9e44c3e2f58e5f463.jpg: 640x640 1 Aambulance, 9.9ms\n",
            "Speed: 1.8ms preprocess, 9.9ms inference, 2.2ms postprocess per image at shape (1, 3, 640, 640)\n",
            "Results saved to \u001b[1mruns/detect/train2\u001b[0m\n",
            "\n",
            "image 1/1 /content/PH-Ambulances-1/valid/images/S5N7DVMF41AU_jpg.rf.7aa591c4b89a14ff7b4519f668572029.jpg: 640x640 1 Aambulance, 14.8ms\n",
            "Speed: 1.7ms preprocess, 14.8ms inference, 2.9ms postprocess per image at shape (1, 3, 640, 640)\n",
            "Results saved to \u001b[1mruns/detect/train2\u001b[0m\n",
            "\n",
            "image 1/1 /content/PH-Ambulances-1/valid/images/S4G3HTDYBGZV_jpg.rf.360a00b1747abf53b5efa87796d9ed93.jpg: 640x640 1 Aambulance, 12.2ms\n",
            "Speed: 2.1ms preprocess, 12.2ms inference, 2.4ms postprocess per image at shape (1, 3, 640, 640)\n",
            "Results saved to \u001b[1mruns/detect/train2\u001b[0m\n",
            "\n",
            "image 1/1 /content/PH-Ambulances-1/valid/images/NBAUVH2ZJD1C_jpg.rf.0dafc6f48586ef3dff1428c0538019da.jpg: 640x640 1 Aambulance, 15.7ms\n",
            "Speed: 3.7ms preprocess, 15.7ms inference, 2.5ms postprocess per image at shape (1, 3, 640, 640)\n",
            "Results saved to \u001b[1mruns/detect/train2\u001b[0m\n",
            "\n",
            "image 1/1 /content/PH-Ambulances-1/valid/images/S4CVBN3D0O25_jpg.rf.b8035386e272b4ebfd3eb331d17daab7.jpg: 640x640 3 Aambulances, 12.6ms\n",
            "Speed: 1.9ms preprocess, 12.6ms inference, 2.3ms postprocess per image at shape (1, 3, 640, 640)\n",
            "Results saved to \u001b[1mruns/detect/train2\u001b[0m\n",
            "\n",
            "image 1/1 /content/PH-Ambulances-1/valid/images/S15CIP2VW8JF_jpg.rf.22ced526577416bb72a45b34d067d7c1.jpg: 640x640 1 Aambulance, 13.3ms\n",
            "Speed: 1.8ms preprocess, 13.3ms inference, 2.7ms postprocess per image at shape (1, 3, 640, 640)\n",
            "Results saved to \u001b[1mruns/detect/train2\u001b[0m\n",
            "\n",
            "image 1/1 /content/PH-Ambulances-1/valid/images/S0VH9WYYMFDZ_jpg.rf.91b228cfe5cd2f61f0ae800534efac99.jpg: 640x640 1 Aambulance, 9.5ms\n",
            "Speed: 1.4ms preprocess, 9.5ms inference, 1.8ms postprocess per image at shape (1, 3, 640, 640)\n",
            "Results saved to \u001b[1mruns/detect/train2\u001b[0m\n",
            "\n",
            "image 1/1 /content/PH-Ambulances-1/valid/images/RZCLDEUA93HT_jpg.rf.bdd6393cda9701ba9f7573dee21a83e3.jpg: 640x640 1 Aambulance, 8.0ms\n",
            "Speed: 1.4ms preprocess, 8.0ms inference, 1.9ms postprocess per image at shape (1, 3, 640, 640)\n",
            "Results saved to \u001b[1mruns/detect/train2\u001b[0m\n",
            "\n",
            "image 1/1 /content/PH-Ambulances-1/valid/images/RZCLDEUA93HT_jpg.rf.9437d109ea96e0f77286fb2f6a5f225b.jpg: 640x640 1 Aambulance, 9.0ms\n",
            "Speed: 1.7ms preprocess, 9.0ms inference, 1.8ms postprocess per image at shape (1, 3, 640, 640)\n",
            "Results saved to \u001b[1mruns/detect/train2\u001b[0m\n",
            "\n",
            "image 1/1 /content/PH-Ambulances-1/valid/images/RYWVR05ZDEY5_jpg.rf.86cc6a66e542df2941dee283a2a0ef1c.jpg: 640x640 1 Aambulance, 8.0ms\n",
            "Speed: 1.5ms preprocess, 8.0ms inference, 1.8ms postprocess per image at shape (1, 3, 640, 640)\n",
            "Results saved to \u001b[1mruns/detect/train2\u001b[0m\n",
            "\n",
            "image 1/1 /content/PH-Ambulances-1/valid/images/RYWVR05ZDEY5_jpg.rf.76bfbbd510c62eff52821efc3e835ec4.jpg: 640x640 1 Aambulance, 8.0ms\n",
            "Speed: 1.5ms preprocess, 8.0ms inference, 1.8ms postprocess per image at shape (1, 3, 640, 640)\n",
            "Results saved to \u001b[1mruns/detect/train2\u001b[0m\n",
            "\n",
            "image 1/1 /content/PH-Ambulances-1/valid/images/RYW1TB1CWJXR_jpg.rf.6d8e3a7bac18120f43d33534cdf48cd2.jpg: 640x640 4 Aambulances, 8.0ms\n",
            "Speed: 1.4ms preprocess, 8.0ms inference, 1.8ms postprocess per image at shape (1, 3, 640, 640)\n",
            "Results saved to \u001b[1mruns/detect/train2\u001b[0m\n",
            "\n",
            "image 1/1 /content/PH-Ambulances-1/valid/images/RYOO2NMVM4OW_jpg.rf.cbece1f041a288ba21148022bf35359c.jpg: 640x640 1 Aambulance, 8.2ms\n",
            "Speed: 1.4ms preprocess, 8.2ms inference, 1.9ms postprocess per image at shape (1, 3, 640, 640)\n",
            "Results saved to \u001b[1mruns/detect/train2\u001b[0m\n",
            "\n",
            "image 1/1 /content/PH-Ambulances-1/valid/images/RYOO2NMVM4OW_jpg.rf.81376c93504c9df3c9ca2985a6acd058.jpg: 640x640 1 Aambulance, 7.8ms\n",
            "Speed: 1.4ms preprocess, 7.8ms inference, 2.0ms postprocess per image at shape (1, 3, 640, 640)\n",
            "Results saved to \u001b[1mruns/detect/train2\u001b[0m\n",
            "\n",
            "image 1/1 /content/PH-Ambulances-1/valid/images/RYOO2NMVM4OW_jpg.rf.6231e0cac140313700fdfb31a3c5de67.jpg: 640x640 1 Aambulance, 8.0ms\n",
            "Speed: 1.5ms preprocess, 8.0ms inference, 1.8ms postprocess per image at shape (1, 3, 640, 640)\n",
            "Results saved to \u001b[1mruns/detect/train2\u001b[0m\n",
            "\n",
            "image 1/1 /content/PH-Ambulances-1/valid/images/RXD91CASUT2O_jpg.rf.0c3a65ec499acf6e7478fa551b7679a1.jpg: 640x640 1 Aambulance, 7.8ms\n",
            "Speed: 1.4ms preprocess, 7.8ms inference, 1.8ms postprocess per image at shape (1, 3, 640, 640)\n",
            "Results saved to \u001b[1mruns/detect/train2\u001b[0m\n",
            "\n",
            "image 1/1 /content/PH-Ambulances-1/valid/images/RVXN2PISC24G_jpg.rf.95cdb95d5d2ff435d7782a5424287d3d.jpg: 640x640 1 Aambulance, 9.2ms\n",
            "Speed: 1.5ms preprocess, 9.2ms inference, 1.9ms postprocess per image at shape (1, 3, 640, 640)\n",
            "Results saved to \u001b[1mruns/detect/train2\u001b[0m\n",
            "\n",
            "image 1/1 /content/PH-Ambulances-1/valid/images/RVM76NFQJ7N6_jpg.rf.51987390cd67232b44cccab45afdc628.jpg: 640x640 1 Aambulance, 8.3ms\n",
            "Speed: 1.4ms preprocess, 8.3ms inference, 1.8ms postprocess per image at shape (1, 3, 640, 640)\n",
            "Results saved to \u001b[1mruns/detect/train2\u001b[0m\n",
            "\n",
            "image 1/1 /content/PH-Ambulances-1/valid/images/S35WBM1GR3ZG_jpg.rf.32659594f2b53c4dc3a94ee8e1deb644.jpg: 640x640 1 Aambulance, 7.6ms\n",
            "Speed: 1.4ms preprocess, 7.6ms inference, 1.7ms postprocess per image at shape (1, 3, 640, 640)\n",
            "Results saved to \u001b[1mruns/detect/train2\u001b[0m\n",
            "\n",
            "image 1/1 /content/PH-Ambulances-1/valid/images/N9YOK59KOGPH_jpg.rf.28081d2e8333c09a56cb2a037fca675b.jpg: 640x640 1 Aambulance, 7.8ms\n",
            "Speed: 1.4ms preprocess, 7.8ms inference, 1.8ms postprocess per image at shape (1, 3, 640, 640)\n",
            "Results saved to \u001b[1mruns/detect/train2\u001b[0m\n",
            "\n",
            "image 1/1 /content/PH-Ambulances-1/valid/images/N9FEJ14BXYE0_jpg.rf.e085e60d0bb19c9a92acc7e92052f51a.jpg: 640x640 1 Aambulance, 8.2ms\n",
            "Speed: 1.5ms preprocess, 8.2ms inference, 1.8ms postprocess per image at shape (1, 3, 640, 640)\n",
            "Results saved to \u001b[1mruns/detect/train2\u001b[0m\n",
            "\n",
            "image 1/1 /content/PH-Ambulances-1/valid/images/N96AW947SF2A_jpg.rf.898dc8f110bbc992e7edd32050e97932.jpg: 640x640 1 Aambulance, 8.1ms\n",
            "Speed: 1.4ms preprocess, 8.1ms inference, 2.1ms postprocess per image at shape (1, 3, 640, 640)\n",
            "Results saved to \u001b[1mruns/detect/train2\u001b[0m\n",
            "\n",
            "image 1/1 /content/PH-Ambulances-1/valid/images/J-79-_png_jpg.rf.9c8cdadc58ffac87fd7417035b3e5801.jpg: 640x640 1 truck, 8.2ms\n",
            "Speed: 1.4ms preprocess, 8.2ms inference, 1.8ms postprocess per image at shape (1, 3, 640, 640)\n",
            "Results saved to \u001b[1mruns/detect/train2\u001b[0m\n",
            "\n",
            "image 1/1 /content/PH-Ambulances-1/valid/images/J-71-_png_jpg.rf.92964fef8bdf2c57aec6a6ebb1dfe952.jpg: 640x640 1 truck, 7.9ms\n",
            "Speed: 1.4ms preprocess, 7.9ms inference, 1.8ms postprocess per image at shape (1, 3, 640, 640)\n",
            "Results saved to \u001b[1mruns/detect/train2\u001b[0m\n",
            "\n",
            "image 1/1 /content/PH-Ambulances-1/valid/images/J-71-_png_jpg.rf.78549e0e7646800c13d2be9e4b3a5dd7.jpg: 640x640 1 truck, 7.8ms\n",
            "Speed: 1.4ms preprocess, 7.8ms inference, 1.8ms postprocess per image at shape (1, 3, 640, 640)\n",
            "Results saved to \u001b[1mruns/detect/train2\u001b[0m\n",
            "\n",
            "image 1/1 /content/PH-Ambulances-1/valid/images/J-68-_png_jpg.rf.e1ec09e8c7aef1caa839c08c7c768a4b.jpg: 640x640 1 truck, 7.9ms\n",
            "Speed: 1.4ms preprocess, 7.9ms inference, 1.7ms postprocess per image at shape (1, 3, 640, 640)\n",
            "Results saved to \u001b[1mruns/detect/train2\u001b[0m\n",
            "\n",
            "image 1/1 /content/PH-Ambulances-1/valid/images/J-66-_png_jpg.rf.5192da84cc883c8797f4930bfa9030ff.jpg: 640x640 1 truck, 8.1ms\n",
            "Speed: 1.6ms preprocess, 8.1ms inference, 1.8ms postprocess per image at shape (1, 3, 640, 640)\n",
            "Results saved to \u001b[1mruns/detect/train2\u001b[0m\n",
            "\n",
            "image 1/1 /content/PH-Ambulances-1/valid/images/J-61-_png_jpg.rf.4aaec9a726b11ab7e5f5ba62adb49196.jpg: 640x640 1 truck, 8.0ms\n",
            "Speed: 1.4ms preprocess, 8.0ms inference, 1.8ms postprocess per image at shape (1, 3, 640, 640)\n",
            "Results saved to \u001b[1mruns/detect/train2\u001b[0m\n",
            "\n",
            "      Epoch    GPU_mem   box_loss   cls_loss   dfl_loss  Instances       Size\n",
            "       9/10      2.48G     0.7604     0.5324      1.471         16        640: 100%|██████████| 437/437 [02:22<00:00,  3.07it/s]\n",
            "                 Class     Images  Instances      Box(P          R      mAP50  mAP50-95): 100%|██████████| 63/63 [00:21<00:00,  2.96it/s]\n",
            "                   all       1998       2296      0.912      0.875      0.931      0.733\n",
            "\n",
            "image 1/1 /content/PH-Ambulances-1/valid/images/J-6-_png_jpg.rf.4aac11384654b61c660fa753d25fd5f5.jpg: 640x640 1 truck, 15.4ms\n",
            "Speed: 1.7ms preprocess, 15.4ms inference, 5.3ms postprocess per image at shape (1, 3, 640, 640)\n",
            "Results saved to \u001b[1mruns/detect/train2\u001b[0m\n",
            "\n",
            "image 1/1 /content/PH-Ambulances-1/valid/images/J-57-_png_jpg.rf.f8d6dc42c1b0369d1d3908439610354c.jpg: 640x640 1 truck, 14.4ms\n",
            "Speed: 1.8ms preprocess, 14.4ms inference, 2.3ms postprocess per image at shape (1, 3, 640, 640)\n",
            "Results saved to \u001b[1mruns/detect/train2\u001b[0m\n",
            "\n",
            "image 1/1 /content/PH-Ambulances-1/valid/images/J-55-_png_jpg.rf.8bba06ed18bc3cd5308c055a6bbec8b4.jpg: 640x640 1 truck, 10.9ms\n",
            "Speed: 1.8ms preprocess, 10.9ms inference, 2.0ms postprocess per image at shape (1, 3, 640, 640)\n",
            "Results saved to \u001b[1mruns/detect/train2\u001b[0m\n",
            "\n",
            "image 1/1 /content/PH-Ambulances-1/valid/images/J-45-_png_jpg.rf.9edda3d2b1929cdc5c0f83904055456a.jpg: 640x640 1 truck, 11.7ms\n",
            "Speed: 1.8ms preprocess, 11.7ms inference, 2.9ms postprocess per image at shape (1, 3, 640, 640)\n",
            "Results saved to \u001b[1mruns/detect/train2\u001b[0m\n",
            "\n",
            "image 1/1 /content/PH-Ambulances-1/valid/images/J-43-_png_jpg.rf.88679e619e74140f35088ddf5ab958a9.jpg: 640x640 1 truck, 14.0ms\n",
            "Speed: 1.8ms preprocess, 14.0ms inference, 2.7ms postprocess per image at shape (1, 3, 640, 640)\n",
            "Results saved to \u001b[1mruns/detect/train2\u001b[0m\n",
            "\n",
            "image 1/1 /content/PH-Ambulances-1/valid/images/J-41-_png_jpg.rf.1077f1bcce887ad1218e897fee86c828.jpg: 640x640 1 truck, 13.4ms\n",
            "Speed: 1.7ms preprocess, 13.4ms inference, 2.7ms postprocess per image at shape (1, 3, 640, 640)\n",
            "Results saved to \u001b[1mruns/detect/train2\u001b[0m\n",
            "\n",
            "image 1/1 /content/PH-Ambulances-1/valid/images/J-27-_png_jpg.rf.b3e3eafda3af4ab8bcd9baa8c09b5826.jpg: 640x640 1 truck, 10.5ms\n",
            "Speed: 1.6ms preprocess, 10.5ms inference, 2.3ms postprocess per image at shape (1, 3, 640, 640)\n",
            "Results saved to \u001b[1mruns/detect/train2\u001b[0m\n",
            "\n",
            "image 1/1 /content/PH-Ambulances-1/valid/images/J-21-_png_jpg.rf.bcc0029c0ea145660d02426815dc0018.jpg: 640x640 1 truck, 11.2ms\n",
            "Speed: 1.8ms preprocess, 11.2ms inference, 2.4ms postprocess per image at shape (1, 3, 640, 640)\n",
            "Results saved to \u001b[1mruns/detect/train2\u001b[0m\n",
            "\n",
            "image 1/1 /content/PH-Ambulances-1/valid/images/J-18-_png_jpg.rf.aba61c4aeeaa0928fa7c5d99a1015d18.jpg: 640x640 1 truck, 13.6ms\n",
            "Speed: 1.6ms preprocess, 13.6ms inference, 2.3ms postprocess per image at shape (1, 3, 640, 640)\n",
            "Results saved to \u001b[1mruns/detect/train2\u001b[0m\n",
            "\n",
            "image 1/1 /content/PH-Ambulances-1/valid/images/J-134-_png_jpg.rf.7140ea81b3c7cbc033a1256857e35e29.jpg: 640x640 1 Aambulance, 1 truck, 13.6ms\n",
            "Speed: 2.1ms preprocess, 13.6ms inference, 2.4ms postprocess per image at shape (1, 3, 640, 640)\n",
            "Results saved to \u001b[1mruns/detect/train2\u001b[0m\n",
            "\n",
            "image 1/1 /content/PH-Ambulances-1/valid/images/J-133-_png_jpg.rf.8374f5c5c488953582725998585ce9e0.jpg: 640x640 1 truck, 11.9ms\n",
            "Speed: 1.9ms preprocess, 11.9ms inference, 5.3ms postprocess per image at shape (1, 3, 640, 640)\n",
            "Results saved to \u001b[1mruns/detect/train2\u001b[0m\n",
            "\n",
            "image 1/1 /content/PH-Ambulances-1/valid/images/J-132-_png_jpg.rf.bc5a1653e26214a27a085285bd8e9fc6.jpg: 640x640 1 truck, 18.4ms\n",
            "Speed: 3.9ms preprocess, 18.4ms inference, 2.9ms postprocess per image at shape (1, 3, 640, 640)\n",
            "Results saved to \u001b[1mruns/detect/train2\u001b[0m\n",
            "\n",
            "image 1/1 /content/PH-Ambulances-1/valid/images/J-126-_png_jpg.rf.f83355815f50d047496171c471fe4050.jpg: 640x640 1 truck, 14.8ms\n",
            "Speed: 1.7ms preprocess, 14.8ms inference, 2.5ms postprocess per image at shape (1, 3, 640, 640)\n",
            "Results saved to \u001b[1mruns/detect/train2\u001b[0m\n",
            "\n",
            "image 1/1 /content/PH-Ambulances-1/valid/images/J-106-_png_jpg.rf.9e05d678c905961003baabda0c9c074c.jpg: 640x640 1 truck, 15.0ms\n",
            "Speed: 1.7ms preprocess, 15.0ms inference, 2.6ms postprocess per image at shape (1, 3, 640, 640)\n",
            "Results saved to \u001b[1mruns/detect/train2\u001b[0m\n",
            "\n",
            "image 1/1 /content/PH-Ambulances-1/valid/images/IZYDX026M7ZL_jpg.rf.975ae131b9205e52c3bb08d2b1e4d92c.jpg: 640x640 2 Aambulances, 13.6ms\n",
            "Speed: 1.7ms preprocess, 13.6ms inference, 2.4ms postprocess per image at shape (1, 3, 640, 640)\n",
            "Results saved to \u001b[1mruns/detect/train2\u001b[0m\n",
            "\n",
            "image 1/1 /content/PH-Ambulances-1/valid/images/IZXO9CTSC9SG_jpg.rf.e93c4f6bba250f8c027c656d5d353229.jpg: 640x640 1 Aambulance, 15.6ms\n",
            "Speed: 5.8ms preprocess, 15.6ms inference, 2.4ms postprocess per image at shape (1, 3, 640, 640)\n",
            "Results saved to \u001b[1mruns/detect/train2\u001b[0m\n",
            "\n",
            "image 1/1 /content/PH-Ambulances-1/valid/images/IXV04U2KRI6H_jpg.rf.d7efd44f8fa228384155c1d4c342496e.jpg: 640x640 1 Aambulance, 1 truck, 13.5ms\n",
            "Speed: 1.9ms preprocess, 13.5ms inference, 2.4ms postprocess per image at shape (1, 3, 640, 640)\n",
            "Results saved to \u001b[1mruns/detect/train2\u001b[0m\n",
            "\n",
            "image 1/1 /content/PH-Ambulances-1/valid/images/IXHCDUDC3W89_jpg.rf.724b63b4886e9d7f74c54ff4a4434743.jpg: 640x640 1 Aambulance, 14.8ms\n",
            "Speed: 1.8ms preprocess, 14.8ms inference, 4.6ms postprocess per image at shape (1, 3, 640, 640)\n",
            "Results saved to \u001b[1mruns/detect/train2\u001b[0m\n",
            "\n",
            "image 1/1 /content/PH-Ambulances-1/valid/images/IWUDR17000SJ_jpg.rf.060e7986ee1e0d6a829efaaf1b5ad60f.jpg: 640x640 1 Aambulance, 13.1ms\n",
            "Speed: 1.7ms preprocess, 13.1ms inference, 5.7ms postprocess per image at shape (1, 3, 640, 640)\n",
            "Results saved to \u001b[1mruns/detect/train2\u001b[0m\n",
            "\n",
            "image 1/1 /content/PH-Ambulances-1/valid/images/IWN6B1PRCKHL_jpg.rf.4617503b9630fcc7690a6c9ecd7898aa.jpg: 640x640 1 Aambulance, 10.4ms\n",
            "Speed: 5.1ms preprocess, 10.4ms inference, 2.3ms postprocess per image at shape (1, 3, 640, 640)\n",
            "Results saved to \u001b[1mruns/detect/train2\u001b[0m\n",
            "\n",
            "image 1/1 /content/PH-Ambulances-1/valid/images/IWHVK0A6LRQA_jpg.rf.78737816b44bddcfd144cd74851c07b0.jpg: 640x640 4 Aambulances, 12.5ms\n",
            "Speed: 1.8ms preprocess, 12.5ms inference, 2.6ms postprocess per image at shape (1, 3, 640, 640)\n",
            "Results saved to \u001b[1mruns/detect/train2\u001b[0m\n",
            "\n",
            "image 1/1 /content/PH-Ambulances-1/valid/images/J-84-_png_jpg.rf.478f82a37a3d7f518593401076e51df3.jpg: 640x640 1 Aambulance, 1 truck, 14.1ms\n",
            "Speed: 1.8ms preprocess, 14.1ms inference, 2.9ms postprocess per image at shape (1, 3, 640, 640)\n",
            "Results saved to \u001b[1mruns/detect/train2\u001b[0m\n",
            "\n",
            "image 1/1 /content/PH-Ambulances-1/valid/images/IR0JPB13LSFS_jpg.rf.114f4e3a36a74d82a35422cdab7e9a9c.jpg: 640x640 1 Aambulance, 8.6ms\n",
            "Speed: 1.7ms preprocess, 8.6ms inference, 2.0ms postprocess per image at shape (1, 3, 640, 640)\n",
            "Results saved to \u001b[1mruns/detect/train2\u001b[0m\n",
            "\n",
            "image 1/1 /content/PH-Ambulances-1/valid/images/J-9-_png_jpg.rf.854d51217b636d95781afef9a3fd9fb8.jpg: 640x640 1 Aambulance, 8.1ms\n",
            "Speed: 1.5ms preprocess, 8.1ms inference, 1.8ms postprocess per image at shape (1, 3, 640, 640)\n",
            "Results saved to \u001b[1mruns/detect/train2\u001b[0m\n",
            "\n",
            "image 1/1 /content/PH-Ambulances-1/valid/images/J01TH0PYDCRU_jpg.rf.91cc5489e8e7e135a768a4dcf64f0cc0.jpg: 640x640 1 Aambulance, 7.5ms\n",
            "Speed: 1.3ms preprocess, 7.5ms inference, 1.8ms postprocess per image at shape (1, 3, 640, 640)\n",
            "Results saved to \u001b[1mruns/detect/train2\u001b[0m\n",
            "\n",
            "image 1/1 /content/PH-Ambulances-1/valid/images/JXI0TQUBDC35_jpg.rf.b716f47969f4ecd8495bcd7f482a16d8.jpg: 640x640 17 Aambulances, 8.8ms\n",
            "Speed: 1.8ms preprocess, 8.8ms inference, 1.9ms postprocess per image at shape (1, 3, 640, 640)\n",
            "Results saved to \u001b[1mruns/detect/train2\u001b[0m\n",
            "\n",
            "image 1/1 /content/PH-Ambulances-1/valid/images/JWR73317X785_jpg.rf.cffd555c10e56e15ed396c695d69a801.jpg: 640x640 1 Aambulance, 8.1ms\n",
            "Speed: 1.3ms preprocess, 8.1ms inference, 1.8ms postprocess per image at shape (1, 3, 640, 640)\n",
            "Results saved to \u001b[1mruns/detect/train2\u001b[0m\n",
            "\n",
            "image 1/1 /content/PH-Ambulances-1/valid/images/JWR73317X785_jpg.rf.60ea687ddf758eb1cd86672f7d120fa8.jpg: 640x640 1 Aambulance, 7.6ms\n",
            "Speed: 1.4ms preprocess, 7.6ms inference, 2.0ms postprocess per image at shape (1, 3, 640, 640)\n",
            "Results saved to \u001b[1mruns/detect/train2\u001b[0m\n",
            "\n",
            "image 1/1 /content/PH-Ambulances-1/valid/images/JWR73317X785_jpg.rf.1e88ef9cf966be65ad1e73a3666d935b.jpg: 640x640 1 Aambulance, 7.6ms\n",
            "Speed: 1.3ms preprocess, 7.6ms inference, 1.8ms postprocess per image at shape (1, 3, 640, 640)\n",
            "Results saved to \u001b[1mruns/detect/train2\u001b[0m\n",
            "\n",
            "image 1/1 /content/PH-Ambulances-1/valid/images/JWAJCLEWRT4P_jpg.rf.c2df954c609fca85d5ee8bb4afd6a77f.jpg: 640x640 1 Aambulance, 8.0ms\n",
            "Speed: 1.5ms preprocess, 8.0ms inference, 1.9ms postprocess per image at shape (1, 3, 640, 640)\n",
            "Results saved to \u001b[1mruns/detect/train2\u001b[0m\n",
            "\n",
            "image 1/1 /content/PH-Ambulances-1/valid/images/JVA44QUD6AXV_jpg.rf.cb1b4291426f096279ea65191563334a.jpg: 640x640 1 Aambulance, 13.0ms\n",
            "Speed: 1.7ms preprocess, 13.0ms inference, 2.7ms postprocess per image at shape (1, 3, 640, 640)\n",
            "Results saved to \u001b[1mruns/detect/train2\u001b[0m\n",
            "\n",
            "image 1/1 /content/PH-Ambulances-1/valid/images/JURCZ6JXS0QW_jpg.rf.d51f78ca674be7797807d3192c87ccfc.jpg: 640x640 1 Aambulance, 9.1ms\n",
            "Speed: 1.5ms preprocess, 9.1ms inference, 1.8ms postprocess per image at shape (1, 3, 640, 640)\n",
            "Results saved to \u001b[1mruns/detect/train2\u001b[0m\n",
            "\n",
            "      Epoch    GPU_mem   box_loss   cls_loss   dfl_loss  Instances       Size\n",
            "      10/10      2.46G     0.7221     0.5023      1.435         21        640: 100%|██████████| 437/437 [02:21<00:00,  3.09it/s]\n",
            "                 Class     Images  Instances      Box(P          R      mAP50  mAP50-95): 100%|██████████| 63/63 [00:22<00:00,  2.81it/s]\n",
            "                   all       1998       2296      0.939      0.874      0.938      0.752\n",
            "\n",
            "image 1/1 /content/PH-Ambulances-1/valid/images/JQN9CL06DX6D_jpg.rf.2e183312165692a9a66f93f748d8903d.jpg: 640x640 1 Aambulance, 22.6ms\n",
            "Speed: 2.1ms preprocess, 22.6ms inference, 2.6ms postprocess per image at shape (1, 3, 640, 640)\n",
            "Results saved to \u001b[1mruns/detect/train2\u001b[0m\n",
            "\n",
            "image 1/1 /content/PH-Ambulances-1/valid/images/JKOTL7ZP9QM4_jpg.rf.0b3b930db26b3708ea586337d84440bf.jpg: 640x640 1 Aambulance, 11.0ms\n",
            "Speed: 1.8ms preprocess, 11.0ms inference, 2.3ms postprocess per image at shape (1, 3, 640, 640)\n",
            "Results saved to \u001b[1mruns/detect/train2\u001b[0m\n",
            "\n",
            "image 1/1 /content/PH-Ambulances-1/valid/images/JINBEI-TOPIC_jpg.rf.cd4250ccdfb087e1065f71b841adc6e4.jpg: 640x640 1 truck, 9.3ms\n",
            "Speed: 1.6ms preprocess, 9.3ms inference, 2.8ms postprocess per image at shape (1, 3, 640, 640)\n",
            "Results saved to \u001b[1mruns/detect/train2\u001b[0m\n",
            "\n",
            "image 1/1 /content/PH-Ambulances-1/valid/images/JIKTFPIXB17K_jpg.rf.3590be86dbf28e9e17bd4d1e2f0c5a69.jpg: 640x640 1 Aambulance, 7.8ms\n",
            "Speed: 1.4ms preprocess, 7.8ms inference, 1.8ms postprocess per image at shape (1, 3, 640, 640)\n",
            "Results saved to \u001b[1mruns/detect/train2\u001b[0m\n",
            "\n",
            "image 1/1 /content/PH-Ambulances-1/valid/images/JDXG6D6HHGFI_jpg.rf.cf6676d39c63f8479f248af222063208.jpg: 640x640 1 Aambulance, 8.0ms\n",
            "Speed: 1.4ms preprocess, 8.0ms inference, 1.8ms postprocess per image at shape (1, 3, 640, 640)\n",
            "Results saved to \u001b[1mruns/detect/train2\u001b[0m\n",
            "\n",
            "image 1/1 /content/PH-Ambulances-1/valid/images/JDXG6D6HHGFI_jpg.rf.72e076a2e17111d34c419d6660502d1a.jpg: 640x640 1 Aambulance, 8.7ms\n",
            "Speed: 1.8ms preprocess, 8.7ms inference, 1.8ms postprocess per image at shape (1, 3, 640, 640)\n",
            "Results saved to \u001b[1mruns/detect/train2\u001b[0m\n",
            "\n",
            "image 1/1 /content/PH-Ambulances-1/valid/images/JCXOH2BMD6GI_jpg.rf.f5be5d39ee5fbc7cc99be4ed0b71309b.jpg: 640x640 1 Aambulance, 8.0ms\n",
            "Speed: 1.5ms preprocess, 8.0ms inference, 1.8ms postprocess per image at shape (1, 3, 640, 640)\n",
            "Results saved to \u001b[1mruns/detect/train2\u001b[0m\n",
            "\n",
            "image 1/1 /content/PH-Ambulances-1/valid/images/JCXOH2BMD6GI_jpg.rf.81a164f7b1216103232a37ae7272983c.jpg: 640x640 1 Aambulance, 7.5ms\n",
            "Speed: 1.5ms preprocess, 7.5ms inference, 1.9ms postprocess per image at shape (1, 3, 640, 640)\n",
            "Results saved to \u001b[1mruns/detect/train2\u001b[0m\n",
            "\n",
            "image 1/1 /content/PH-Ambulances-1/valid/images/JBQJI63HIILN_jpg.rf.153c2f8316e4ba029978677e86dfd83e.jpg: 640x640 1 Aambulance, 8.0ms\n",
            "Speed: 1.4ms preprocess, 8.0ms inference, 1.8ms postprocess per image at shape (1, 3, 640, 640)\n",
            "Results saved to \u001b[1mruns/detect/train2\u001b[0m\n",
            "\n",
            "image 1/1 /content/PH-Ambulances-1/valid/images/JBMKC6T5DPRP_jpg.rf.f6d5ef58fe8be08547f78f5ac23f9bf0.jpg: 640x640 1 Aambulance, 8.6ms\n",
            "Speed: 1.5ms preprocess, 8.6ms inference, 1.9ms postprocess per image at shape (1, 3, 640, 640)\n",
            "Results saved to \u001b[1mruns/detect/train2\u001b[0m\n",
            "\n",
            "image 1/1 /content/PH-Ambulances-1/valid/images/JBJSS13XXUZ1_jpg.rf.3aad667d397a40bbfd9f900b8c56acad.jpg: 640x640 1 Aambulance, 8.4ms\n",
            "Speed: 1.4ms preprocess, 8.4ms inference, 1.9ms postprocess per image at shape (1, 3, 640, 640)\n",
            "Results saved to \u001b[1mruns/detect/train2\u001b[0m\n",
            "\n",
            "image 1/1 /content/PH-Ambulances-1/valid/images/J9NMN7E8PXUS_jpg.rf.9aeea7d1b021afa979f9699e4001eeb2.jpg: 640x640 1 Aambulance, 11.5ms\n",
            "Speed: 1.8ms preprocess, 11.5ms inference, 2.2ms postprocess per image at shape (1, 3, 640, 640)\n",
            "Results saved to \u001b[1mruns/detect/train2\u001b[0m\n",
            "\n",
            "image 1/1 /content/PH-Ambulances-1/valid/images/J95OXUVNAV6Q_jpg.rf.96c1837539dd7492d114fd97b12e7c35.jpg: 640x640 1 Aambulance, 10.7ms\n",
            "Speed: 1.7ms preprocess, 10.7ms inference, 2.3ms postprocess per image at shape (1, 3, 640, 640)\n",
            "Results saved to \u001b[1mruns/detect/train2\u001b[0m\n",
            "\n",
            "image 1/1 /content/PH-Ambulances-1/valid/images/J7O9TK63MW8S_jpg.rf.d7cf9086170b41fb4ca66a58e33bb0e3.jpg: 640x640 1 Aambulance, 10.6ms\n",
            "Speed: 1.8ms preprocess, 10.6ms inference, 2.6ms postprocess per image at shape (1, 3, 640, 640)\n",
            "Results saved to \u001b[1mruns/detect/train2\u001b[0m\n",
            "\n",
            "image 1/1 /content/PH-Ambulances-1/valid/images/J7O9TK63MW8S_jpg.rf.5891da64cdaaf71c788c385e83407ad2.jpg: 640x640 1 Aambulance, 10.5ms\n",
            "Speed: 1.7ms preprocess, 10.5ms inference, 2.4ms postprocess per image at shape (1, 3, 640, 640)\n",
            "Results saved to \u001b[1mruns/detect/train2\u001b[0m\n",
            "\n",
            "image 1/1 /content/PH-Ambulances-1/valid/images/J77QU237F9KA_jpg.rf.548658dca1e2ff558337308b9403df96.jpg: 640x640 1 Aambulance, 9.9ms\n",
            "Speed: 2.7ms preprocess, 9.9ms inference, 2.3ms postprocess per image at shape (1, 3, 640, 640)\n",
            "Results saved to \u001b[1mruns/detect/train2\u001b[0m\n",
            "\n",
            "image 1/1 /content/PH-Ambulances-1/valid/images/J63DPTC8ZHNK_jpg.rf.a0fcc0bbd2f26057947a22e92a9a9de7.jpg: 640x640 1 Aambulance, 13.5ms\n",
            "Speed: 2.1ms preprocess, 13.5ms inference, 2.3ms postprocess per image at shape (1, 3, 640, 640)\n",
            "Results saved to \u001b[1mruns/detect/train2\u001b[0m\n",
            "\n",
            "image 1/1 /content/PH-Ambulances-1/valid/images/J54ZLC193X1A_jpg.rf.629ab6cc62ab301fca2eb51966e80c64.jpg: 640x640 1 Aambulance, 12.0ms\n",
            "Speed: 1.8ms preprocess, 12.0ms inference, 2.6ms postprocess per image at shape (1, 3, 640, 640)\n",
            "Results saved to \u001b[1mruns/detect/train2\u001b[0m\n",
            "\n",
            "image 1/1 /content/PH-Ambulances-1/valid/images/J0YH9RKZKYBC_jpg.rf.413cb927b9f7635c0e88fc799d16a372.jpg: 640x640 1 Aambulance, 13.8ms\n",
            "Speed: 3.9ms preprocess, 13.8ms inference, 2.7ms postprocess per image at shape (1, 3, 640, 640)\n",
            "Results saved to \u001b[1mruns/detect/train2\u001b[0m\n",
            "\n",
            "image 1/1 /content/PH-Ambulances-1/valid/images/J01TH0PYDCRU_jpg.rf.f831759a8783d9cb5561ac482104ea4c.jpg: 640x640 1 Aambulance, 15.7ms\n",
            "Speed: 1.9ms preprocess, 15.7ms inference, 2.8ms postprocess per image at shape (1, 3, 640, 640)\n",
            "Results saved to \u001b[1mruns/detect/train2\u001b[0m\n",
            "\n",
            "image 1/1 /content/PH-Ambulances-1/valid/images/J-96-_png_jpg.rf.ce68d7c3520a7af02142317f5a60c970.jpg: 640x640 1 truck, 14.3ms\n",
            "Speed: 1.9ms preprocess, 14.3ms inference, 2.9ms postprocess per image at shape (1, 3, 640, 640)\n",
            "Results saved to \u001b[1mruns/detect/train2\u001b[0m\n",
            "\n",
            "image 1/1 /content/PH-Ambulances-1/valid/images/IQTPX4QJB3JA_jpg.rf.414b77c50f8828dfb820fa9e07ff2302.jpg: 640x640 1 Aambulance, 8.6ms\n",
            "Speed: 1.5ms preprocess, 8.6ms inference, 1.9ms postprocess per image at shape (1, 3, 640, 640)\n",
            "Results saved to \u001b[1mruns/detect/train2\u001b[0m\n",
            "\n",
            "image 1/1 /content/PH-Ambulances-1/valid/images/IPEKSYZFJD1I_jpg.rf.ecfd3606ac79cb2f15522fd206c6fc6b.jpg: 640x640 1 Aambulance, 7.8ms\n",
            "Speed: 1.5ms preprocess, 7.8ms inference, 1.8ms postprocess per image at shape (1, 3, 640, 640)\n",
            "Results saved to \u001b[1mruns/detect/train2\u001b[0m\n",
            "\n",
            "image 1/1 /content/PH-Ambulances-1/valid/images/IN2312OI9IOS_jpg.rf.d4ddfe7988f25956871d4308a2018f56.jpg: 640x640 2 Aambulances, 8.7ms\n",
            "Speed: 2.1ms preprocess, 8.7ms inference, 1.9ms postprocess per image at shape (1, 3, 640, 640)\n",
            "Results saved to \u001b[1mruns/detect/train2\u001b[0m\n",
            "\n",
            "image 1/1 /content/PH-Ambulances-1/valid/images/I-22-_png_jpg.rf.4f285cedaa24dcdc79bf40af67978e6d.jpg: 640x640 1 truck, 8.1ms\n",
            "Speed: 1.6ms preprocess, 8.1ms inference, 1.8ms postprocess per image at shape (1, 3, 640, 640)\n",
            "Results saved to \u001b[1mruns/detect/train2\u001b[0m\n",
            "\n",
            "image 1/1 /content/PH-Ambulances-1/valid/images/I-21-_png_jpg.rf.a7bc44e4040586f5f2bacc4bb2d00059.jpg: 640x640 1 truck, 10.0ms\n",
            "Speed: 1.6ms preprocess, 10.0ms inference, 2.7ms postprocess per image at shape (1, 3, 640, 640)\n",
            "Results saved to \u001b[1mruns/detect/train2\u001b[0m\n",
            "\n",
            "image 1/1 /content/PH-Ambulances-1/valid/images/I-20-_png_jpg.rf.76937e3cd142ae1864e86ec6a037a3a9.jpg: 640x640 1 truck, 7.9ms\n",
            "Speed: 1.5ms preprocess, 7.9ms inference, 1.8ms postprocess per image at shape (1, 3, 640, 640)\n",
            "Results saved to \u001b[1mruns/detect/train2\u001b[0m\n",
            "\n",
            "image 1/1 /content/PH-Ambulances-1/valid/images/I-20-_png_jpg.rf.18575504a41bf4b43dea7d459f7521ee.jpg: 640x640 1 truck, 7.8ms\n",
            "Speed: 1.5ms preprocess, 7.8ms inference, 1.8ms postprocess per image at shape (1, 3, 640, 640)\n",
            "Results saved to \u001b[1mruns/detect/train2\u001b[0m\n",
            "\n",
            "image 1/1 /content/PH-Ambulances-1/valid/images/I-12-_png_jpg.rf.fc937c041edb53de58a0257ed776b7a2.jpg: 640x640 1 truck, 7.8ms\n",
            "Speed: 1.4ms preprocess, 7.8ms inference, 1.8ms postprocess per image at shape (1, 3, 640, 640)\n",
            "Results saved to \u001b[1mruns/detect/train2\u001b[0m\n",
            "\n",
            "image 1/1 /content/PH-Ambulances-1/valid/images/HZ7NHOYBWX0M_jpg.rf.d0ba37019dea48f003b14acb784f93bc.jpg: 640x640 1 Aambulance, 7.7ms\n",
            "Speed: 1.4ms preprocess, 7.7ms inference, 1.7ms postprocess per image at shape (1, 3, 640, 640)\n",
            "Results saved to \u001b[1mruns/detect/train2\u001b[0m\n",
            "\n",
            "image 1/1 /content/PH-Ambulances-1/valid/images/HZ0G69XONQXV_jpg.rf.13f19a8d7c683ce5ff5ad1169c479595.jpg: 640x640 2 Aambulances, 7.9ms\n",
            "Speed: 1.4ms preprocess, 7.9ms inference, 1.8ms postprocess per image at shape (1, 3, 640, 640)\n",
            "Results saved to \u001b[1mruns/detect/train2\u001b[0m\n",
            "\n",
            "image 1/1 /content/PH-Ambulances-1/valid/images/HVD06QOR6UD1_jpg.rf.2897430fdc5fc583fadb40d23db27ef5.jpg: 640x640 1 Aambulance, 10.6ms\n",
            "Speed: 1.8ms preprocess, 10.6ms inference, 2.7ms postprocess per image at shape (1, 3, 640, 640)\n",
            "Results saved to \u001b[1mruns/detect/train2\u001b[0m\n",
            "\n",
            "10 epochs completed in 0.478 hours.\n",
            "Optimizer stripped from kecilin-tech-assessment/train3/weights/last.pt, 6.2MB\n",
            "Optimizer stripped from kecilin-tech-assessment/train3/weights/best.pt, 6.2MB\n",
            "\n",
            "Validating kecilin-tech-assessment/train3/weights/best.pt...\n",
            "Ultralytics YOLOv8.0.186 🚀 Python-3.10.12 torch-2.1.0+cu121 CUDA:0 (Tesla T4, 15102MiB)\n",
            "Model summary (fused): 168 layers, 3006233 parameters, 0 gradients\n",
            "                 Class     Images  Instances      Box(P          R      mAP50  mAP50-95): 100%|██████████| 63/63 [00:25<00:00,  2.45it/s]\n",
            "                   all       1998       2296       0.94      0.873      0.938      0.752\n",
            "            Aambulance       1998       1980      0.946      0.865      0.951      0.705\n",
            "                 truck       1998        316      0.933      0.882      0.925      0.799\n",
            "Speed: 0.3ms preprocess, 2.4ms inference, 0.0ms loss, 2.2ms postprocess per image\n",
            "Results saved to \u001b[1mkecilin-tech-assessment/train3\u001b[0m\n",
            "\n",
            "image 1/1 /content/PH-Ambulances-1/valid/images/HUB7AMCWTJ8N_jpg.rf.6e2c1a280e6b9acde18749dcb7e813d1.jpg: 640x640 4 Aambulances, 21.3ms\n",
            "Speed: 1.9ms preprocess, 21.3ms inference, 2.5ms postprocess per image at shape (1, 3, 640, 640)\n",
            "Results saved to \u001b[1mruns/detect/train2\u001b[0m\n",
            "\n",
            "image 1/1 /content/PH-Ambulances-1/valid/images/HUB7AMCWTJ8N_jpg.rf.408e5bb8ef62de1a512419c8a4fbdcc2.jpg: 640x640 2 Aambulances, 27.5ms\n",
            "Speed: 3.9ms preprocess, 27.5ms inference, 2.9ms postprocess per image at shape (1, 3, 640, 640)\n",
            "Results saved to \u001b[1mruns/detect/train2\u001b[0m\n",
            "\n",
            "image 1/1 /content/PH-Ambulances-1/valid/images/HUB7AMCWTJ8N_jpg.rf.08cbc8b2fa58786a343659ea0e0fa14b.jpg: 640x640 2 Aambulances, 10.9ms\n",
            "Speed: 1.8ms preprocess, 10.9ms inference, 2.4ms postprocess per image at shape (1, 3, 640, 640)\n",
            "Results saved to \u001b[1mruns/detect/train2\u001b[0m\n",
            "\n",
            "image 1/1 /content/PH-Ambulances-1/valid/images/HTB1584MQVXXXXcTXVXXq6xXFXXXy_jpg.rf.af440fc165f58bdccd0dae6a3599f01d.jpg: 640x640 1 truck, 10.9ms\n",
            "Speed: 2.0ms preprocess, 10.9ms inference, 2.3ms postprocess per image at shape (1, 3, 640, 640)\n",
            "Results saved to \u001b[1mruns/detect/train2\u001b[0m\n",
            "\n",
            "image 1/1 /content/PH-Ambulances-1/valid/images/HRSU88BPETCE_jpg.rf.da8462631f1ebe353ba61be4cad8cec3.jpg: 640x640 2 Aambulances, 13.5ms\n",
            "Speed: 1.7ms preprocess, 13.5ms inference, 2.9ms postprocess per image at shape (1, 3, 640, 640)\n",
            "Results saved to \u001b[1mruns/detect/train2\u001b[0m\n",
            "\n",
            "image 1/1 /content/PH-Ambulances-1/valid/images/HRSU88BPETCE_jpg.rf.0f2ba39c1ddfa73736794fc9bd0349e9.jpg: 640x640 2 Aambulances, 14.4ms\n",
            "Speed: 1.8ms preprocess, 14.4ms inference, 2.8ms postprocess per image at shape (1, 3, 640, 640)\n",
            "Results saved to \u001b[1mruns/detect/train2\u001b[0m\n",
            "\n",
            "image 1/1 /content/PH-Ambulances-1/valid/images/HQTSOC5R9612_jpg.rf.fd236018d7966794e2559cff0bec4529.jpg: 640x640 1 Aambulance, 8.0ms\n",
            "Speed: 1.6ms preprocess, 8.0ms inference, 1.9ms postprocess per image at shape (1, 3, 640, 640)\n",
            "Results saved to \u001b[1mruns/detect/train2\u001b[0m\n",
            "\n",
            "image 1/1 /content/PH-Ambulances-1/valid/images/HP1X5Y7WKFIW_jpg.rf.bd902e6fb93526bd6cf697ad12694be8.jpg: 640x640 1 Aambulance, 7.8ms\n",
            "Speed: 1.5ms preprocess, 7.8ms inference, 1.8ms postprocess per image at shape (1, 3, 640, 640)\n",
            "Results saved to \u001b[1mruns/detect/train2\u001b[0m\n",
            "\n",
            "image 1/1 /content/PH-Ambulances-1/valid/images/HO90P9L62WMB_jpg.rf.f89295730725a09e7fb0866c0da4a0ed.jpg: 640x640 1 Aambulance, 8.1ms\n",
            "Speed: 1.4ms preprocess, 8.1ms inference, 1.8ms postprocess per image at shape (1, 3, 640, 640)\n",
            "Results saved to \u001b[1mruns/detect/train2\u001b[0m\n",
            "\n",
            "image 1/1 /content/PH-Ambulances-1/valid/images/HN8JOVDKHUSY_jpg.rf.fba6e0c1d3cc150f13e740e214ff8a84.jpg: 640x640 1 Aambulance, 8.2ms\n",
            "Speed: 1.5ms preprocess, 8.2ms inference, 1.8ms postprocess per image at shape (1, 3, 640, 640)\n",
            "Results saved to \u001b[1mruns/detect/train2\u001b[0m\n",
            "\n",
            "image 1/1 /content/PH-Ambulances-1/valid/images/HMJ7VUW7PLUE_jpg.rf.0ddebc30e5cdad76a00d994da0b9a091.jpg: 640x640 1 Aambulance, 8.0ms\n",
            "Speed: 1.4ms preprocess, 8.0ms inference, 1.8ms postprocess per image at shape (1, 3, 640, 640)\n",
            "Results saved to \u001b[1mruns/detect/train2\u001b[0m\n",
            "\n",
            "image 1/1 /content/PH-Ambulances-1/valid/images/HMJ7VUW7PLUE_jpg.rf.034bb44cb414f698940091d3ff7334ea.jpg: 640x640 1 Aambulance, 7.7ms\n",
            "Speed: 1.4ms preprocess, 7.7ms inference, 1.7ms postprocess per image at shape (1, 3, 640, 640)\n",
            "Results saved to \u001b[1mruns/detect/train2\u001b[0m\n",
            "\n",
            "image 1/1 /content/PH-Ambulances-1/valid/images/HLUSN3J1OPXA_jpg.rf.26f825d6780f77f2b8482106694e4436.jpg: 640x640 1 Aambulance, 7.9ms\n",
            "Speed: 1.4ms preprocess, 7.9ms inference, 1.8ms postprocess per image at shape (1, 3, 640, 640)\n",
            "Results saved to \u001b[1mruns/detect/train2\u001b[0m\n",
            "\n",
            "image 1/1 /content/PH-Ambulances-1/valid/images/HKDFQ2ODPQP2_jpg.rf.6a0ffe589f7692f0804f7d646fb60a5f.jpg: 640x640 1 Aambulance, 9.4ms\n",
            "Speed: 1.8ms preprocess, 9.4ms inference, 2.2ms postprocess per image at shape (1, 3, 640, 640)\n",
            "Results saved to \u001b[1mruns/detect/train2\u001b[0m\n",
            "\n",
            "image 1/1 /content/PH-Ambulances-1/valid/images/HEPATYMFD9N9_jpg.rf.f6d0ade51605488c4a29a7465c6b0921.jpg: 640x640 2 Aambulances, 7.8ms\n",
            "Speed: 1.4ms preprocess, 7.8ms inference, 1.8ms postprocess per image at shape (1, 3, 640, 640)\n",
            "Results saved to \u001b[1mruns/detect/train2\u001b[0m\n",
            "\n",
            "image 1/1 /content/PH-Ambulances-1/valid/images/HD1FUMQLBJ9W_jpg.rf.fcea0550a3b2b5fa5d3aac515d67404c.jpg: 640x640 1 Aambulance, 11.3ms\n",
            "Speed: 1.4ms preprocess, 11.3ms inference, 1.8ms postprocess per image at shape (1, 3, 640, 640)\n",
            "Results saved to \u001b[1mruns/detect/train2\u001b[0m\n",
            "\n",
            "image 1/1 /content/PH-Ambulances-1/valid/images/HD1FUMQLBJ9W_jpg.rf.194b608e8935918047f160314e6ac03b.jpg: 640x640 2 Aambulances, 8.9ms\n",
            "Speed: 1.4ms preprocess, 8.9ms inference, 1.9ms postprocess per image at shape (1, 3, 640, 640)\n",
            "Results saved to \u001b[1mruns/detect/train2\u001b[0m\n",
            "\n",
            "image 1/1 /content/PH-Ambulances-1/valid/images/HC1UWQGUDFB7_jpg.rf.cb37036bfabdaa61ae77873f9204e7fa.jpg: 640x640 1 Aambulance, 10.5ms\n",
            "Speed: 1.9ms preprocess, 10.5ms inference, 2.3ms postprocess per image at shape (1, 3, 640, 640)\n",
            "Results saved to \u001b[1mruns/detect/train2\u001b[0m\n",
            "\n",
            "image 1/1 /content/PH-Ambulances-1/valid/images/HC1UWQGUDFB7_jpg.rf.0634a04a64b11a16b8f39d70db5ef84c.jpg: 640x640 1 Aambulance, 10.1ms\n",
            "Speed: 1.7ms preprocess, 10.1ms inference, 2.9ms postprocess per image at shape (1, 3, 640, 640)\n",
            "Results saved to \u001b[1mruns/detect/train2\u001b[0m\n",
            "\n",
            "image 1/1 /content/PH-Ambulances-1/valid/images/I-24-_png_jpg.rf.a302efbee8f64807c94a5805a8634b4a.jpg: 640x640 1 truck, 10.1ms\n",
            "Speed: 1.7ms preprocess, 10.1ms inference, 2.3ms postprocess per image at shape (1, 3, 640, 640)\n",
            "Results saved to \u001b[1mruns/detect/train2\u001b[0m\n",
            "\n",
            "image 1/1 /content/PH-Ambulances-1/valid/images/I-33-_png_jpg.rf.36759ced7bb52c146442b72f9d24edf4.jpg: 640x640 1 truck, 10.2ms\n",
            "Speed: 1.6ms preprocess, 10.2ms inference, 2.2ms postprocess per image at shape (1, 3, 640, 640)\n",
            "Results saved to \u001b[1mruns/detect/train2\u001b[0m\n",
            "\n",
            "image 1/1 /content/PH-Ambulances-1/valid/images/I-34-_png_jpg.rf.a5fc4d7a664737751c29357b03d6626c.jpg: 640x640 1 truck, 10.8ms\n",
            "Speed: 1.7ms preprocess, 10.8ms inference, 2.2ms postprocess per image at shape (1, 3, 640, 640)\n",
            "Results saved to \u001b[1mruns/detect/train2\u001b[0m\n",
            "\n",
            "image 1/1 /content/PH-Ambulances-1/valid/images/I-35-_png_jpg.rf.1cceb5d56e4fa8da7bd42c22a8dc0a39.jpg: 640x640 1 truck, 9.5ms\n",
            "Speed: 1.6ms preprocess, 9.5ms inference, 2.3ms postprocess per image at shape (1, 3, 640, 640)\n",
            "Results saved to \u001b[1mruns/detect/train2\u001b[0m\n",
            "\n",
            "image 1/1 /content/PH-Ambulances-1/valid/images/IN2312OI9IOS_jpg.rf.9c0fa6054c176015664db9d2a30067f2.jpg: 640x640 3 Aambulances, 14.7ms\n",
            "Speed: 1.8ms preprocess, 14.7ms inference, 3.0ms postprocess per image at shape (1, 3, 640, 640)\n",
            "Results saved to \u001b[1mruns/detect/train2\u001b[0m\n",
            "\n",
            "image 1/1 /content/PH-Ambulances-1/valid/images/IMG_0564_jpg.rf.c72284997d0877249dc751cf6af23122.jpg: 640x640 1 Aambulance, 10.7ms\n",
            "Speed: 1.7ms preprocess, 10.7ms inference, 2.3ms postprocess per image at shape (1, 3, 640, 640)\n",
            "Results saved to \u001b[1mruns/detect/train2\u001b[0m\n",
            "\n",
            "image 1/1 /content/PH-Ambulances-1/valid/images/ILZG6SSTQE0C_jpg.rf.46bbffb58f2ce299078a6f88168897f5.jpg: 640x640 1 Aambulance, 11.5ms\n",
            "Speed: 1.9ms preprocess, 11.5ms inference, 2.4ms postprocess per image at shape (1, 3, 640, 640)\n",
            "Results saved to \u001b[1mruns/detect/train2\u001b[0m\n",
            "\n",
            "image 1/1 /content/PH-Ambulances-1/valid/images/IK82I8QZOO8C_jpg.rf.12aba1ff0ade1e77e74fa6dfb8f6060f.jpg: 640x640 1 Aambulance, 15.1ms\n",
            "Speed: 1.9ms preprocess, 15.1ms inference, 3.1ms postprocess per image at shape (1, 3, 640, 640)\n",
            "Results saved to \u001b[1mruns/detect/train2\u001b[0m\n",
            "\n",
            "image 1/1 /content/PH-Ambulances-1/valid/images/IHOS3C0GHMXS_jpg.rf.b52a71f6713f38d330c7f48fb2a59185.jpg: 640x640 1 Aambulance, 15.7ms\n",
            "Speed: 2.3ms preprocess, 15.7ms inference, 2.9ms postprocess per image at shape (1, 3, 640, 640)\n",
            "Results saved to \u001b[1mruns/detect/train2\u001b[0m\n",
            "\n",
            "image 1/1 /content/PH-Ambulances-1/valid/images/IHLOFIV0LNXC_jpg.rf.e690db0716fe0dc49e820966624e32d5.jpg: 640x640 1 Aambulance, 8.5ms\n",
            "Speed: 1.5ms preprocess, 8.5ms inference, 1.9ms postprocess per image at shape (1, 3, 640, 640)\n",
            "Results saved to \u001b[1mruns/detect/train2\u001b[0m\n",
            "\n",
            "image 1/1 /content/PH-Ambulances-1/valid/images/IHLOFIV0LNXC_jpg.rf.8605ee27bd284f73f8bdf2ad09c9929c.jpg: 640x640 1 Aambulance, 9.9ms\n",
            "Speed: 1.5ms preprocess, 9.9ms inference, 1.8ms postprocess per image at shape (1, 3, 640, 640)\n",
            "Results saved to \u001b[1mruns/detect/train2\u001b[0m\n",
            "\n",
            "image 1/1 /content/PH-Ambulances-1/valid/images/IHGH8Y8G14NC_jpg.rf.1a0bb519e0dfcc8c04214ef72015a13d.jpg: 640x640 1 Aambulance, 8.0ms\n",
            "Speed: 1.4ms preprocess, 8.0ms inference, 1.8ms postprocess per image at shape (1, 3, 640, 640)\n",
            "Results saved to \u001b[1mruns/detect/train2\u001b[0m\n",
            "\n",
            "image 1/1 /content/PH-Ambulances-1/valid/images/IDC64X7S75HZ_jpg.rf.63f7d994ab6bbf020a70fbcd10cb882e.jpg: 640x640 1 Aambulance, 8.0ms\n",
            "Speed: 1.5ms preprocess, 8.0ms inference, 1.9ms postprocess per image at shape (1, 3, 640, 640)\n",
            "Results saved to \u001b[1mruns/detect/train2\u001b[0m\n",
            "Ultralytics YOLOv8.0.186 🚀 Python-3.10.12 torch-2.1.0+cu121 CUDA:0 (Tesla T4, 15102MiB)\n",
            "Model summary (fused): 168 layers, 3006233 parameters, 0 gradients\n",
            "\u001b[34m\u001b[1mval: \u001b[0mScanning /content/PH-Ambulances-1/valid/labels.cache... 1998 images, 29 backgrounds, 0 corrupt: 100%|██████████| 1998/1998 [00:00<?, ?it/s]\n",
            "WARNING ⚠️ Box and segment counts should be equal, but got len(segments) = 1, len(boxes) = 2296. To resolve this only boxes will be used and all segments will be removed. To avoid this please supply either a detect or segment dataset, not a detect-segment mixed dataset.\n",
            "                 Class     Images  Instances      Box(P          R      mAP50  mAP50-95):  11%|█         | 14/125 [00:10<00:23,  4.66it/s]\u001b[34m\u001b[1mwandb\u001b[0m: \u001b[33mWARNING\u001b[0m Step only supports monotonically increasing values, use define_metric to set a custom x axis. For details see: https://wandb.me/define-metric\n",
            "\u001b[34m\u001b[1mwandb\u001b[0m: \u001b[33mWARNING\u001b[0m (User provided step: 10 is less than current step: 11. Dropping entry: {'results': {'_type': 'image-file', 'sha256': '5168ee6333bc74485965f6ba4f548c1599155bbf4dd23f9c8f99ed109c908108', 'size': 284058, 'path': 'media/images/results_11_5168ee6333bc74485965.png', 'format': 'png', 'width': 2400, 'height': 1200}, '_timestamp': 1709988295.0747209}).\n",
            "                 Class     Images  Instances      Box(P          R      mAP50  mAP50-95): 100%|██████████| 125/125 [00:36<00:00,  3.46it/s]\n",
            "                   all       1998       2296      0.939      0.874      0.938      0.752\n",
            "            Aambulance       1998       1980      0.945      0.865      0.951      0.705\n",
            "                 truck       1998        316      0.933      0.883      0.925      0.798\n",
            "\n",
            "image 1/1 /content/PH-Ambulances-1/valid/images/008CY5SRHBLM_jpg.rf.9d5200b85865cfb42ad09f8b476f326a.jpg: 640x640 1 Aambulance, 35.1ms\n",
            "Speed: 3.9ms preprocess, 35.1ms inference, 7.7ms postprocess per image at shape (1, 3, 640, 640)\n",
            "Results saved to \u001b[1mruns/detect/train2\u001b[0m\n",
            "\n",
            "image 1/1 /content/PH-Ambulances-1/valid/images/PhilippineAmbulance10_png_jpg.rf.0685a1c7285200a6905ef36d7d8ee3f4.jpg: 640x640 4 Aambulances, 15.6ms\n",
            "Speed: 1.9ms preprocess, 15.6ms inference, 3.1ms postprocess per image at shape (1, 3, 640, 640)\n",
            "Results saved to \u001b[1mruns/detect/train2\u001b[0m\n",
            "\n",
            "image 1/1 /content/PH-Ambulances-1/valid/images/PZW2GCU82CAU_jpg.rf.b4a7b0158c73d0c79291685bccd42030.jpg: 640x640 2 Aambulances, 15.2ms\n",
            "Speed: 1.9ms preprocess, 15.2ms inference, 5.1ms postprocess per image at shape (1, 3, 640, 640)\n",
            "Results saved to \u001b[1mruns/detect/train2\u001b[0m\n",
            "\n",
            "image 1/1 /content/PH-Ambulances-1/valid/images/PZG4QKP0MHGL_jpg.rf.3a710898c02bb36dd50149fb095f0d98.jpg: 640x640 1 Aambulance, 13.2ms\n",
            "Speed: 1.7ms preprocess, 13.2ms inference, 2.6ms postprocess per image at shape (1, 3, 640, 640)\n",
            "Results saved to \u001b[1mruns/detect/train2\u001b[0m\n",
            "\n",
            "image 1/1 /content/PH-Ambulances-1/valid/images/PWLTU7DWPA22_jpg.rf.5a3ba1c518bce62d53e02d5e2452e5f7.jpg: 640x640 1 Aambulance, 8.6ms\n",
            "Speed: 1.5ms preprocess, 8.6ms inference, 2.0ms postprocess per image at shape (1, 3, 640, 640)\n",
            "Results saved to \u001b[1mruns/detect/train2\u001b[0m\n",
            "\n",
            "image 1/1 /content/PH-Ambulances-1/valid/images/PVAMCAFA4O7J_jpg.rf.64dc28064bfefea903a1cd0eed1bc4e7.jpg: 640x640 1 Aambulance, 10.0ms\n",
            "Speed: 1.4ms preprocess, 10.0ms inference, 2.7ms postprocess per image at shape (1, 3, 640, 640)\n",
            "Results saved to \u001b[1mruns/detect/train2\u001b[0m\n",
            "\n",
            "image 1/1 /content/PH-Ambulances-1/valid/images/PTIORNH6UH09_jpg.rf.6331df8e05d0288662a57cc356fbcc40.jpg: 640x640 1 Aambulance, 8.8ms\n",
            "Speed: 1.8ms preprocess, 8.8ms inference, 1.8ms postprocess per image at shape (1, 3, 640, 640)\n",
            "Results saved to \u001b[1mruns/detect/train2\u001b[0m\n",
            "\n",
            "image 1/1 /content/PH-Ambulances-1/valid/images/PT1SVXQINQHO_jpg.rf.931ec739604f3ecbd54853c0909db352.jpg: 640x640 1 Aambulance, 8.5ms\n",
            "Speed: 1.4ms preprocess, 8.5ms inference, 1.8ms postprocess per image at shape (1, 3, 640, 640)\n",
            "Results saved to \u001b[1mruns/detect/train2\u001b[0m\n",
            "\n",
            "image 1/1 /content/PH-Ambulances-1/valid/images/PT1SVXQINQHO_jpg.rf.1565a8213c3d56c0c61dd755711a7a2b.jpg: 640x640 1 Aambulance, 8.4ms\n",
            "Speed: 1.5ms preprocess, 8.4ms inference, 1.9ms postprocess per image at shape (1, 3, 640, 640)\n",
            "Results saved to \u001b[1mruns/detect/train2\u001b[0m\n",
            "\n",
            "image 1/1 /content/PH-Ambulances-1/valid/images/PQH38B2J3YSE_jpg.rf.fc8a2733c72fec48b10ffe8c1bc4d41b.jpg: 640x640 1 Aambulance, 8.4ms\n",
            "Speed: 1.7ms preprocess, 8.4ms inference, 1.8ms postprocess per image at shape (1, 3, 640, 640)\n",
            "Results saved to \u001b[1mruns/detect/train2\u001b[0m\n",
            "\n",
            "image 1/1 /content/PH-Ambulances-1/valid/images/PONHEEF87VA9_jpg.rf.e870d87da9da5c54a34fbc03fc3d11e5.jpg: 640x640 1 Aambulance, 8.1ms\n",
            "Speed: 1.4ms preprocess, 8.1ms inference, 1.8ms postprocess per image at shape (1, 3, 640, 640)\n",
            "Results saved to \u001b[1mruns/detect/train2\u001b[0m\n",
            "\n",
            "image 1/1 /content/PH-Ambulances-1/valid/images/PONHEEF87VA9_jpg.rf.6970e9fdff11bbb52f360d6af1541ef9.jpg: 640x640 1 Aambulance, 8.4ms\n",
            "Speed: 1.5ms preprocess, 8.4ms inference, 1.8ms postprocess per image at shape (1, 3, 640, 640)\n",
            "Results saved to \u001b[1mruns/detect/train2\u001b[0m\n",
            "\n",
            "image 1/1 /content/PH-Ambulances-1/valid/images/POII3JUWKXYN_jpg.rf.da0bb0bdb281be6f73ea1daca1dd8ef5.jpg: 640x640 1 Aambulance, 8.3ms\n",
            "Speed: 1.5ms preprocess, 8.3ms inference, 1.9ms postprocess per image at shape (1, 3, 640, 640)\n",
            "Results saved to \u001b[1mruns/detect/train2\u001b[0m\n",
            "\n",
            "image 1/1 /content/PH-Ambulances-1/valid/images/POII3JUWKXYN_jpg.rf.d582f0a2f170fcdd1125e3decfaee639.jpg: 640x640 1 Aambulance, 8.2ms\n",
            "Speed: 1.5ms preprocess, 8.2ms inference, 1.8ms postprocess per image at shape (1, 3, 640, 640)\n",
            "Results saved to \u001b[1mruns/detect/train2\u001b[0m\n",
            "\n",
            "image 1/1 /content/PH-Ambulances-1/valid/images/PNMRPUN2EJN2_jpg.rf.bdc2a9ca7375320bf4011b9a5faf2ea3.jpg: 640x640 3 Aambulances, 9.1ms\n",
            "Speed: 1.4ms preprocess, 9.1ms inference, 2.0ms postprocess per image at shape (1, 3, 640, 640)\n",
            "Results saved to \u001b[1mruns/detect/train2\u001b[0m\n",
            "\n",
            "image 1/1 /content/PH-Ambulances-1/valid/images/PLSIX61WGCEM_jpg.rf.d97faab19bece732d2b48cba1d09b5c4.jpg: 640x640 1 Aambulance, 8.5ms\n",
            "Speed: 1.4ms preprocess, 8.5ms inference, 1.8ms postprocess per image at shape (1, 3, 640, 640)\n",
            "Results saved to \u001b[1mruns/detect/train2\u001b[0m\n",
            "Speed: 0.5ms preprocess, 5.3ms inference, 0.0ms loss, 2.2ms postprocess per image\n",
            "Results saved to \u001b[1mkecilin-tech-assessment/val\u001b[0m\n"
          ]
        },
        {
          "data": {
            "text/html": [
              "Waiting for W&B process to finish... <strong style=\"color:green\">(success).</strong>"
            ],
            "text/plain": [
              "<IPython.core.display.HTML object>"
            ]
          },
          "metadata": {},
          "output_type": "display_data"
        },
        {
          "data": {
            "text/html": [
              "<style>\n",
              "    table.wandb td:nth-child(1) { padding: 0 10px; text-align: left ; width: auto;} td:nth-child(2) {text-align: left ; width: 100%}\n",
              "    .wandb-row { display: flex; flex-direction: row; flex-wrap: wrap; justify-content: flex-start; width: 100% }\n",
              "    .wandb-col { display: flex; flex-direction: column; flex-basis: 100%; flex: 1; padding: 10px; }\n",
              "    </style>\n",
              "<div class=\"wandb-row\"><div class=\"wandb-col\"><h3>Run history:</h3><br/><table class=\"wandb\"><tr><td>lr/pg0</td><td>▂▆█▇▇▆▅▃▂▁</td></tr><tr><td>lr/pg1</td><td>▂▆█▇▇▆▅▃▂▁</td></tr><tr><td>lr/pg2</td><td>▂▆█▇▇▆▅▃▂▁</td></tr><tr><td>metrics/mAP50(B)</td><td>▃▄▁▆▆▆▇███</td></tr><tr><td>metrics/mAP50-95(B)</td><td>▂▃▁▅▅▆▇▇▇█</td></tr><tr><td>metrics/precision(B)</td><td>▅▄▁▅▆▇▆▇▇█</td></tr><tr><td>metrics/recall(B)</td><td>▂▃▁▆▆▆▇███</td></tr><tr><td>model/GFLOPs</td><td>▁</td></tr><tr><td>model/parameters</td><td>▁</td></tr><tr><td>model/speed_PyTorch(ms)</td><td>▁</td></tr><tr><td>train/box_loss</td><td>██▇▆▅▄▄▂▂▁</td></tr><tr><td>train/cls_loss</td><td>█▄▃▂▂▂▂▁▁▁</td></tr><tr><td>train/dfl_loss</td><td>██▇▆▅▄▄▂▂▁</td></tr><tr><td>val/box_loss</td><td>▇▇█▄▄▄▃▂▂▁</td></tr><tr><td>val/cls_loss</td><td>█▅▆▃▃▂▂▂▁▁</td></tr><tr><td>val/dfl_loss</td><td>▆▆█▄▄▃▂▂▁▁</td></tr></table><br/></div><div class=\"wandb-col\"><h3>Run summary:</h3><br/><table class=\"wandb\"><tr><td>lr/pg0</td><td>0.0003</td></tr><tr><td>lr/pg1</td><td>0.0003</td></tr><tr><td>lr/pg2</td><td>0.0003</td></tr><tr><td>metrics/mAP50(B)</td><td>0.9377</td></tr><tr><td>metrics/mAP50-95(B)</td><td>0.75192</td></tr><tr><td>metrics/precision(B)</td><td>0.93971</td></tr><tr><td>metrics/recall(B)</td><td>0.87335</td></tr><tr><td>model/GFLOPs</td><td>0.0</td></tr><tr><td>model/parameters</td><td>3011433</td></tr><tr><td>model/speed_PyTorch(ms)</td><td>2.541</td></tr><tr><td>train/box_loss</td><td>0.72205</td></tr><tr><td>train/cls_loss</td><td>0.50235</td></tr><tr><td>train/dfl_loss</td><td>1.43473</td></tr><tr><td>val/box_loss</td><td>0.89624</td></tr><tr><td>val/cls_loss</td><td>0.54399</td></tr><tr><td>val/dfl_loss</td><td>1.49481</td></tr></table><br/></div></div>"
            ],
            "text/plain": [
              "<IPython.core.display.HTML object>"
            ]
          },
          "metadata": {},
          "output_type": "display_data"
        },
        {
          "data": {
            "text/html": [
              " View run <strong style=\"color:#cdcd00\">ethereal-waterfall-11</strong> at: <a href='https://wandb.ai/nodeflux-internship/kecilin-tech-assessment/runs/jeos7szf' target=\"_blank\">https://wandb.ai/nodeflux-internship/kecilin-tech-assessment/runs/jeos7szf</a><br/>Synced 5 W&B file(s), 19 media file(s), 382 artifact file(s) and 0 other file(s)"
            ],
            "text/plain": [
              "<IPython.core.display.HTML object>"
            ]
          },
          "metadata": {},
          "output_type": "display_data"
        },
        {
          "data": {
            "text/html": [
              "Find logs at: <code>./wandb/run-20240309_121456-jeos7szf/logs</code>"
            ],
            "text/plain": [
              "<IPython.core.display.HTML object>"
            ]
          },
          "metadata": {},
          "output_type": "display_data"
        }
      ],
      "source": [
        "# Initialize YOLO Model\n",
        "model = YOLO(\"yolov8n.pt\")\n",
        "\n",
        "# Add Weights & Biases callback for Ultralytics\n",
        "add_wandb_callback(model, enable_model_checkpointing=True)\n",
        "\n",
        "# Train/fine-tune model\n",
        "model.train(project=\"kecilin-tech-assessment\", data='/content/PH-Ambulances-1/new_data.yaml', epochs=10, device=[0])\n",
        "model.val()\n",
        "\n",
        "# Finish the W&B run\n",
        "wandb.finish()"
      ]
    },
    {
      "cell_type": "markdown",
      "metadata": {
        "id": "93eWzFxhw5Ot"
      },
      "source": [
        "# Model Evaluation"
      ]
    },
    {
      "cell_type": "markdown",
      "source": [
        "### Evaluate on test set"
      ],
      "metadata": {
        "id": "bh2FD2tj38wQ"
      }
    },
    {
      "cell_type": "code",
      "execution_count": 10,
      "metadata": {
        "id": "_6Hm3i4Pw5Ot"
      },
      "outputs": [],
      "source": [
        "model = YOLO('best.pt', task='detect')"
      ]
    },
    {
      "cell_type": "code",
      "execution_count": 11,
      "metadata": {
        "colab": {
          "base_uri": "https://localhost:8080/"
        },
        "id": "eXetfgvw0gpM",
        "outputId": "347c4c7c-a61f-4d0a-a2c3-8fd0c20fd6f5"
      },
      "outputs": [
        {
          "output_type": "stream",
          "name": "stderr",
          "text": [
            "Ultralytics YOLOv8.0.186 🚀 Python-3.10.12 torch-2.1.0+cu121 CUDA:0 (Tesla T4, 15102MiB)\n",
            "Model summary (fused): 168 layers, 3006233 parameters, 0 gradients\n",
            "Downloading https://ultralytics.com/assets/Arial.ttf to '/root/.config/Ultralytics/Arial.ttf'...\n",
            "100%|██████████| 755k/755k [00:00<00:00, 32.1MB/s]\n",
            "\u001b[34m\u001b[1mval: \u001b[0mScanning /content/PH-Ambulances-1/valid/labels... 1998 images, 28 backgrounds, 0 corrupt: 100%|██████████| 1998/1998 [00:01<00:00, 1510.88it/s]\n",
            "\u001b[34m\u001b[1mval: \u001b[0mNew cache created: /content/PH-Ambulances-1/valid/labels.cache\n",
            "WARNING ⚠️ Box and segment counts should be equal, but got len(segments) = 1, len(boxes) = 2297. To resolve this only boxes will be used and all segments will be removed. To avoid this please supply either a detect or segment dataset, not a detect-segment mixed dataset.\n",
            "                 Class     Images  Instances      Box(P          R      mAP50  mAP50-95): 100%|██████████| 125/125 [00:24<00:00,  5.15it/s]\n",
            "                   all       1998       2297      0.939      0.874      0.938      0.752\n",
            "            Aambulance       1998       1981      0.946      0.865      0.951      0.705\n",
            "                 truck       1998        316      0.933      0.883      0.925      0.798\n",
            "Speed: 0.5ms preprocess, 4.0ms inference, 0.0ms loss, 1.8ms postprocess per image\n",
            "Results saved to \u001b[1mruns/detect/val\u001b[0m\n"
          ]
        },
        {
          "output_type": "execute_result",
          "data": {
            "text/plain": [
              "ultralytics.utils.metrics.DetMetrics object with attributes:\n",
              "\n",
              "ap_class_index: array([0, 1])\n",
              "box: ultralytics.utils.metrics.Metric object\n",
              "confusion_matrix: <ultralytics.utils.metrics.ConfusionMatrix object at 0x7be67873a230>\n",
              "fitness: 0.7705049125298375\n",
              "keys: ['metrics/precision(B)', 'metrics/recall(B)', 'metrics/mAP50(B)', 'metrics/mAP50-95(B)']\n",
              "maps: array([    0.70542,     0.79838,      0.7519])\n",
              "names: {0: 'Aambulance', 1: 'truck', 2: 'object'}\n",
              "plot: True\n",
              "results_dict: {'metrics/precision(B)': 0.9392765761221349, 'metrics/recall(B)': 0.874065489236353, 'metrics/mAP50(B)': 0.9379743110228055, 'metrics/mAP50-95(B)': 0.7518972015861745, 'fitness': 0.7705049125298375}\n",
              "save_dir: PosixPath('runs/detect/val')\n",
              "speed: {'preprocess': 0.4949199783432114, 'inference': 3.970766210699224, 'loss': 0.0024647326082796665, 'postprocess': 1.8141656308560759}"
            ]
          },
          "metadata": {},
          "execution_count": 11
        }
      ],
      "source": [
        "model.val()"
      ]
    },
    {
      "cell_type": "markdown",
      "source": [
        "When I tested the model on test set, I got 93.7% mAP@50 and 75.1% map50-9@50-95.\n",
        "\n",
        "\n",
        "See the inference results here https://wandb.ai/nodeflux-internship/kecilin-tech-assessment/reports/Evaluate-on-test-set--Vmlldzo3MDk1MDUx?accessToken=3nd0lq2ii5rbtqp6h80rb6hw6828asm1jthkeompapkgk4cii9kbnuv7hoadge1a\n"
      ],
      "metadata": {
        "id": "N9nch27T3Tox"
      }
    },
    {
      "cell_type": "markdown",
      "source": [
        "> **Note**: From the wandb report above, we could see that the model might be biased towards detecting white trucks as ambulance."
      ],
      "metadata": {
        "id": "Mj6A1Fbc_w-M"
      }
    },
    {
      "cell_type": "markdown",
      "source": [
        "### WandB Tracking Results"
      ],
      "metadata": {
        "id": "DkmorRd54C86"
      }
    },
    {
      "cell_type": "markdown",
      "source": [
        "You can see the full report here: https://api.wandb.ai/links/nodeflux-internship/eiwjg81c"
      ],
      "metadata": {
        "id": "SsH3PZdp7FAb"
      }
    },
    {
      "cell_type": "markdown",
      "source": [
        "#### Confusion Matrix"
      ],
      "metadata": {
        "id": "b3H7GOmG4vpS"
      }
    },
    {
      "cell_type": "markdown",
      "source": [
        "![image.png](data:image/png;base64,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)"
      ],
      "metadata": {
        "id": "_y1h7Hmc4L_v"
      }
    },
    {
      "cell_type": "markdown",
      "source": [
        "#### mean Average Precision"
      ],
      "metadata": {
        "id": "gqhAfDv45U72"
      }
    },
    {
      "cell_type": "markdown",
      "source": [
        "![image.png](data:image/png;base64,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)"
      ],
      "metadata": {
        "id": "G-rjoAqg5LPW"
      }
    },
    {
      "cell_type": "markdown",
      "source": [
        "# Calculate Inference Speed"
      ],
      "metadata": {
        "id": "q-H53qT45ryn"
      }
    },
    {
      "cell_type": "code",
      "execution_count": null,
      "metadata": {
        "colab": {
          "base_uri": "https://localhost:8080/",
          "height": 709,
          "referenced_widgets": [
            "b2849ae7a0d64918b022749d8c1a87d5",
            "d8a9d3941b05413ca2fb9761bdfec3bb",
            "e3ba8927fd3645beab5e3ac2d4951c4f",
            "611799b672064285b26f74c9d170fdf9",
            "692356c44bc9495f813773be6647d096",
            "6b71f8dec17c43669417e6a900352e80",
            "c2eaaff20b0e41ecb25814009c099ebf",
            "6b052403c7d14238ae95ba4361183506"
          ]
        },
        "id": "9WGkhvfXSijI",
        "outputId": "e79cda1c-4904-48cb-bb1d-9655bcccd5c1"
      },
      "outputs": [
        {
          "data": {
            "text/html": [
              "Finishing last run (ID:85o1zfoc) before initializing another..."
            ],
            "text/plain": [
              "<IPython.core.display.HTML object>"
            ]
          },
          "metadata": {},
          "output_type": "display_data"
        },
        {
          "data": {
            "text/html": [
              "Waiting for W&B process to finish... <strong style=\"color:green\">(success).</strong>"
            ],
            "text/plain": [
              "<IPython.core.display.HTML object>"
            ]
          },
          "metadata": {},
          "output_type": "display_data"
        },
        {
          "data": {
            "application/vnd.jupyter.widget-view+json": {
              "model_id": "b2849ae7a0d64918b022749d8c1a87d5",
              "version_major": 2,
              "version_minor": 0
            },
            "text/plain": [
              "VBox(children=(Label(value='0.311 MB of 0.311 MB uploaded (0.000 MB deduped)\\r'), FloatProgress(value=1.0, max…"
            ]
          },
          "metadata": {},
          "output_type": "display_data"
        },
        {
          "data": {
            "text/html": [
              " View run <strong style=\"color:#cdcd00\">jolly-thunder-21</strong> at: <a href='https://wandb.ai/nodeflux-internship/kecilin-tech-assessment/runs/85o1zfoc' target=\"_blank\">https://wandb.ai/nodeflux-internship/kecilin-tech-assessment/runs/85o1zfoc</a><br/>Synced 5 W&B file(s), 1 media file(s), 3 artifact file(s) and 0 other file(s)"
            ],
            "text/plain": [
              "<IPython.core.display.HTML object>"
            ]
          },
          "metadata": {},
          "output_type": "display_data"
        },
        {
          "data": {
            "text/html": [
              "Find logs at: <code>./wandb/run-20240310_075427-85o1zfoc/logs</code>"
            ],
            "text/plain": [
              "<IPython.core.display.HTML object>"
            ]
          },
          "metadata": {},
          "output_type": "display_data"
        },
        {
          "data": {
            "text/html": [
              "Successfully finished last run (ID:85o1zfoc). Initializing new run:<br/>"
            ],
            "text/plain": [
              "<IPython.core.display.HTML object>"
            ]
          },
          "metadata": {},
          "output_type": "display_data"
        },
        {
          "data": {
            "text/html": [
              "wandb version 0.16.4 is available!  To upgrade, please run:\n",
              " $ pip install wandb --upgrade"
            ],
            "text/plain": [
              "<IPython.core.display.HTML object>"
            ]
          },
          "metadata": {},
          "output_type": "display_data"
        },
        {
          "data": {
            "text/html": [
              "Tracking run with wandb version 0.15.12"
            ],
            "text/plain": [
              "<IPython.core.display.HTML object>"
            ]
          },
          "metadata": {},
          "output_type": "display_data"
        },
        {
          "data": {
            "text/html": [
              "Run data is saved locally in <code>/content/wandb/run-20240310_080057-3n59nqnj</code>"
            ],
            "text/plain": [
              "<IPython.core.display.HTML object>"
            ]
          },
          "metadata": {},
          "output_type": "display_data"
        },
        {
          "data": {
            "text/html": [
              "Syncing run <strong><a href='https://wandb.ai/nodeflux-internship/kecilin-tech-assessment/runs/3n59nqnj' target=\"_blank\">unique-darkness-22</a></strong> to <a href='https://wandb.ai/nodeflux-internship/kecilin-tech-assessment' target=\"_blank\">Weights & Biases</a> (<a href='https://wandb.me/run' target=\"_blank\">docs</a>)<br/>"
            ],
            "text/plain": [
              "<IPython.core.display.HTML object>"
            ]
          },
          "metadata": {},
          "output_type": "display_data"
        },
        {
          "data": {
            "text/html": [
              " View project at <a href='https://wandb.ai/nodeflux-internship/kecilin-tech-assessment' target=\"_blank\">https://wandb.ai/nodeflux-internship/kecilin-tech-assessment</a>"
            ],
            "text/plain": [
              "<IPython.core.display.HTML object>"
            ]
          },
          "metadata": {},
          "output_type": "display_data"
        },
        {
          "data": {
            "text/html": [
              " View run at <a href='https://wandb.ai/nodeflux-internship/kecilin-tech-assessment/runs/3n59nqnj' target=\"_blank\">https://wandb.ai/nodeflux-internship/kecilin-tech-assessment/runs/3n59nqnj</a>"
            ],
            "text/plain": [
              "<IPython.core.display.HTML object>"
            ]
          },
          "metadata": {},
          "output_type": "display_data"
        },
        {
          "data": {
            "text/html": [
              "<button onClick=\"this.nextSibling.style.display='block';this.style.display='none';\">Display W&B run</button><iframe src='https://wandb.ai/nodeflux-internship/kecilin-tech-assessment/runs/3n59nqnj?jupyter=true' style='border:none;width:100%;height:420px;display:none;'></iframe>"
            ],
            "text/plain": [
              "<wandb.sdk.wandb_run.Run at 0x7c42f0e10b80>"
            ]
          },
          "execution_count": 13,
          "metadata": {},
          "output_type": "execute_result"
        }
      ],
      "source": [
        "wandb.init(project=\"kecilin-tech-assessment\", job_type=\"evaluation\")"
      ]
    },
    {
      "cell_type": "code",
      "execution_count": null,
      "metadata": {
        "id": "Y8iCmJYpw5Ou"
      },
      "outputs": [],
      "source": [
        "model_best = YOLO('/content/best.pt', task='detect')"
      ]
    },
    {
      "cell_type": "code",
      "execution_count": null,
      "metadata": {
        "colab": {
          "base_uri": "https://localhost:8080/",
          "height": 101,
          "referenced_widgets": [
            "d44a52bcbd874b709eafa45457856aa9",
            "b71b6f27f0f44383ba2e8d9b541dec75",
            "bbfddb3c5df74abca2ccf6885fe3c875",
            "53b1bf15ef2c46f08d6be392a39002db",
            "b2126c881d4e45dcae961c69be14f637",
            "d9dca7f3973a4496a8f2836628e49a09",
            "972f47f0504e4dae8de4c32a34743023",
            "4710430554f44a54bb68df8c4ff78c68",
            "9924385b30a741248b6bf1bb9e1b462c",
            "799c6388e1af417d8dd3f808e3052f3d",
            "db26068c72654b0ca98ec159da4c42cf"
          ]
        },
        "id": "5AIYedpzYy6R",
        "outputId": "31f10c76-ea50-4b26-9277-1da51d6580e2"
      },
      "outputs": [
        {
          "name": "stderr",
          "output_type": "stream",
          "text": [
            "\n",
            "0: 640x640 1 Aambulance, 1: 640x640 1 truck, 2: 640x640 1 Aambulance, 1 truck, 3: 640x640 3 Aambulances, 21.5ms\n",
            "Speed: 1.7ms preprocess, 5.4ms inference, 1.0ms postprocess per image at shape (1, 3, 640, 640)\n"
          ]
        },
        {
          "data": {
            "application/vnd.jupyter.widget-view+json": {
              "model_id": "d44a52bcbd874b709eafa45457856aa9",
              "version_major": 2,
              "version_minor": 0
            },
            "text/plain": [
              "  0%|          | 0/4 [00:00<?, ?it/s]"
            ]
          },
          "metadata": {},
          "output_type": "display_data"
        }
      ],
      "source": [
        "import glob\n",
        "test_img_paths = glob.glob(\"/content/test-images/*\")\n",
        "\n",
        "imgs = [Image.open(path) for path in test_img_paths]\n",
        "\n",
        "results = model_best(imgs)"
      ]
    },
    {
      "cell_type": "code",
      "execution_count": 17,
      "metadata": {
        "colab": {
          "base_uri": "https://localhost:8080/"
        },
        "id": "20yvojD1Y8Qu",
        "outputId": "bcf1fe32-d1b2-40dc-fca1-446af30219f3"
      },
      "outputs": [
        {
          "output_type": "stream",
          "name": "stdout",
          "text": [
            "/content/test-images/ambulance-2.jpeg\n",
            "{'preprocess': 2.891719341278076, 'inference': 24.649381637573242, 'postprocess': 1.3843774795532227}\n",
            "/content/test-images/trucks-1.jpeg\n",
            "{'preprocess': 2.891719341278076, 'inference': 24.649381637573242, 'postprocess': 1.3843774795532227}\n",
            "/content/test-images/trucks-2.jpeg\n",
            "{'preprocess': 2.891719341278076, 'inference': 24.649381637573242, 'postprocess': 1.3843774795532227}\n",
            "/content/test-images/ambulance-1.jpg\n",
            "{'preprocess': 2.891719341278076, 'inference': 24.649381637573242, 'postprocess': 1.3843774795532227}\n"
          ]
        }
      ],
      "source": [
        "for result in results:\n",
        "    print(result.path)\n",
        "    print(result.speed)"
      ]
    },
    {
      "cell_type": "markdown",
      "source": [
        "Here we get 24ms latency on inference"
      ],
      "metadata": {
        "id": "Gls-sFvR5y0V"
      }
    },
    {
      "cell_type": "markdown",
      "source": [
        "# Reduce Inference Speed"
      ],
      "metadata": {
        "id": "73D6BcSl6lEH"
      }
    },
    {
      "cell_type": "markdown",
      "source": [
        "\n",
        "### Quantize the model"
      ],
      "metadata": {
        "id": "XECaJUUh7SFq"
      }
    },
    {
      "cell_type": "markdown",
      "source": [
        "In this step, I will quickly quantize the model into int8 format."
      ],
      "metadata": {
        "id": "OCr4aSt66p1N"
      }
    },
    {
      "cell_type": "code",
      "execution_count": 18,
      "metadata": {
        "colab": {
          "base_uri": "https://localhost:8080/",
          "height": 244
        },
        "id": "_Q2VJ0QPZJaA",
        "outputId": "b6d0fdcd-8b04-4da4-8c7a-235e4e787ffb"
      },
      "outputs": [
        {
          "output_type": "stream",
          "name": "stderr",
          "text": [
            "Ultralytics YOLOv8.0.186 🚀 Python-3.10.12 torch-2.1.0+cu121 CPU (Intel Xeon 2.20GHz)\n",
            "\n",
            "\u001b[34m\u001b[1mPyTorch:\u001b[0m starting from '/content/best.pt' with input shape (1, 3, 640, 640) BCHW and output shape(s) (1, 7, 8400) (6.0 MB)\n",
            "\n",
            "\u001b[34m\u001b[1mTorchScript:\u001b[0m starting export with torch 2.1.0+cu121...\n",
            "\u001b[34m\u001b[1mTorchScript:\u001b[0m export success ✅ 2.9s, saved as '/content/best.torchscript' (11.9 MB)\n",
            "\n",
            "Export complete (4.5s)\n",
            "Results saved to \u001b[1m/content\u001b[0m\n",
            "Predict:         yolo predict task=detect model=/content/best.torchscript imgsz=640 int8 \n",
            "Validate:        yolo val task=detect model=/content/best.torchscript imgsz=640 data=/content/PH-Ambulances-1/new_data.yaml int8 \n",
            "Visualize:       https://netron.app\n"
          ]
        },
        {
          "output_type": "execute_result",
          "data": {
            "text/plain": [
              "'/content/best.torchscript'"
            ],
            "application/vnd.google.colaboratory.intrinsic+json": {
              "type": "string"
            }
          },
          "metadata": {},
          "execution_count": 18
        }
      ],
      "source": [
        "model_best.export(format='torchscript', int8=True)"
      ]
    },
    {
      "cell_type": "code",
      "execution_count": 19,
      "metadata": {
        "colab": {
          "base_uri": "https://localhost:8080/",
          "height": 225
        },
        "id": "c-8F6pUjSgMN",
        "outputId": "7944634d-8ccc-420c-ae47-733e38949898"
      },
      "outputs": [
        {
          "output_type": "display_data",
          "data": {
            "text/plain": [
              "<IPython.core.display.Javascript object>"
            ],
            "application/javascript": [
              "\n",
              "        window._wandbApiKey = new Promise((resolve, reject) => {\n",
              "            function loadScript(url) {\n",
              "            return new Promise(function(resolve, reject) {\n",
              "                let newScript = document.createElement(\"script\");\n",
              "                newScript.onerror = reject;\n",
              "                newScript.onload = resolve;\n",
              "                document.body.appendChild(newScript);\n",
              "                newScript.src = url;\n",
              "            });\n",
              "            }\n",
              "            loadScript(\"https://cdn.jsdelivr.net/npm/postmate/build/postmate.min.js\").then(() => {\n",
              "            const iframe = document.createElement('iframe')\n",
              "            iframe.style.cssText = \"width:0;height:0;border:none\"\n",
              "            document.body.appendChild(iframe)\n",
              "            const handshake = new Postmate({\n",
              "                container: iframe,\n",
              "                url: 'https://wandb.ai/authorize'\n",
              "            });\n",
              "            const timeout = setTimeout(() => reject(\"Couldn't auto authenticate\"), 5000)\n",
              "            handshake.then(function(child) {\n",
              "                child.on('authorize', data => {\n",
              "                    clearTimeout(timeout)\n",
              "                    resolve(data)\n",
              "                });\n",
              "            });\n",
              "            })\n",
              "        });\n",
              "    "
            ]
          },
          "metadata": {}
        },
        {
          "output_type": "stream",
          "name": "stderr",
          "text": [
            "\u001b[34m\u001b[1mwandb\u001b[0m: Logging into wandb.ai. (Learn how to deploy a W&B server locally: https://wandb.me/wandb-server)\n",
            "\u001b[34m\u001b[1mwandb\u001b[0m: You can find your API key in your browser here: https://wandb.ai/authorize\n",
            "wandb: Paste an API key from your profile and hit enter, or press ctrl+c to quit:"
          ]
        },
        {
          "name": "stdout",
          "output_type": "stream",
          "text": [
            " ··········\n"
          ]
        },
        {
          "output_type": "stream",
          "name": "stderr",
          "text": [
            "\u001b[34m\u001b[1mwandb\u001b[0m: Appending key for api.wandb.ai to your netrc file: /root/.netrc\n"
          ]
        },
        {
          "output_type": "display_data",
          "data": {
            "text/plain": [
              "<IPython.core.display.HTML object>"
            ],
            "text/html": [
              "wandb version 0.16.4 is available!  To upgrade, please run:\n",
              " $ pip install wandb --upgrade"
            ]
          },
          "metadata": {}
        },
        {
          "output_type": "display_data",
          "data": {
            "text/plain": [
              "<IPython.core.display.HTML object>"
            ],
            "text/html": [
              "Tracking run with wandb version 0.15.12"
            ]
          },
          "metadata": {}
        },
        {
          "output_type": "display_data",
          "data": {
            "text/plain": [
              "<IPython.core.display.HTML object>"
            ],
            "text/html": [
              "Run data is saved locally in <code>/content/wandb/run-20240310_103253-y0h609ed</code>"
            ]
          },
          "metadata": {}
        },
        {
          "output_type": "display_data",
          "data": {
            "text/plain": [
              "<IPython.core.display.HTML object>"
            ],
            "text/html": [
              "Syncing run <strong><a href='https://wandb.ai/nodeflux-internship/kecilin-tech-assessment/runs/y0h609ed' target=\"_blank\">true-music-25</a></strong> to <a href='https://wandb.ai/nodeflux-internship/kecilin-tech-assessment' target=\"_blank\">Weights & Biases</a> (<a href='https://wandb.me/run' target=\"_blank\">docs</a>)<br/>"
            ]
          },
          "metadata": {}
        },
        {
          "output_type": "display_data",
          "data": {
            "text/plain": [
              "<IPython.core.display.HTML object>"
            ],
            "text/html": [
              " View project at <a href='https://wandb.ai/nodeflux-internship/kecilin-tech-assessment' target=\"_blank\">https://wandb.ai/nodeflux-internship/kecilin-tech-assessment</a>"
            ]
          },
          "metadata": {}
        },
        {
          "output_type": "display_data",
          "data": {
            "text/plain": [
              "<IPython.core.display.HTML object>"
            ],
            "text/html": [
              " View run at <a href='https://wandb.ai/nodeflux-internship/kecilin-tech-assessment/runs/y0h609ed' target=\"_blank\">https://wandb.ai/nodeflux-internship/kecilin-tech-assessment/runs/y0h609ed</a>"
            ]
          },
          "metadata": {}
        },
        {
          "output_type": "execute_result",
          "data": {
            "text/plain": [
              "YOLO()"
            ]
          },
          "metadata": {},
          "execution_count": 19
        }
      ],
      "source": [
        "wandb.init(project=\"kecilin-tech-assessment\", job_type=\"evaluation\")\n",
        "\n",
        "model_int8 = YOLO('/content/best.torchscript', task='detect')\n",
        "add_wandb_callback(model_int8, enable_model_checkpointing=True)"
      ]
    },
    {
      "cell_type": "code",
      "execution_count": 20,
      "metadata": {
        "colab": {
          "base_uri": "https://localhost:8080/",
          "height": 118,
          "referenced_widgets": [
            "c3ee10a96d13455c8f015de49750369e",
            "227418cc6be847d18e940a0dbf300185",
            "04cedf4be59d46e09c3a8f7eeff43450",
            "1dfdc4caab1644fd9faabee8e9f089be",
            "453204342fae4c1a9516cda9164d5312",
            "040346f7e1244a7290a658b2cbd5586b",
            "9e676e64cf4d4502b477c4bd2042cbff",
            "7d08ecec77a846f8afa4393796168b94",
            "933c867713904112af096423cf0e30f0",
            "996892f47a234c7ba10c56eb5fea5a70",
            "c170fd5f56ba4f1f876ce03b62acc9e2"
          ]
        },
        "id": "a7g50M8RaMgG",
        "outputId": "f4c440b6-fc2b-46ee-d826-344eb5fd41e8"
      },
      "outputs": [
        {
          "output_type": "stream",
          "name": "stderr",
          "text": [
            "Loading /content/best.torchscript for TorchScript inference...\n",
            "\n",
            "0: 640x640 1 Aambulance, 1: 640x640 1 truck, 2: 640x640 1 Aambulance, 1 truck, 3: 640x640 3 Aambulances, 20.9ms\n",
            "Speed: 1.7ms preprocess, 5.2ms inference, 1.0ms postprocess per image at shape (1, 3, 640, 640)\n"
          ]
        },
        {
          "output_type": "display_data",
          "data": {
            "text/plain": [
              "  0%|          | 0/4 [00:00<?, ?it/s]"
            ],
            "application/vnd.jupyter.widget-view+json": {
              "version_major": 2,
              "version_minor": 0,
              "model_id": "c3ee10a96d13455c8f015de49750369e"
            }
          },
          "metadata": {}
        }
      ],
      "source": [
        "imgs = [Image.open(path) for path in test_img_paths]\n",
        "results = model_int8(imgs)"
      ]
    },
    {
      "cell_type": "code",
      "execution_count": 21,
      "metadata": {
        "colab": {
          "base_uri": "https://localhost:8080/"
        },
        "id": "P2LIaT0rWcos",
        "outputId": "9b247a08-ddd0-46a2-dc46-b0992136d7ef"
      },
      "outputs": [
        {
          "output_type": "stream",
          "name": "stdout",
          "text": [
            "/content/test-images/ambulance-2.jpeg\n",
            "{'preprocess': 1.7180442810058594, 'inference': 5.229592323303223, 'postprocess': 0.9919404983520508}\n",
            "/content/test-images/trucks-1.jpeg\n",
            "{'preprocess': 1.7180442810058594, 'inference': 5.229592323303223, 'postprocess': 0.9919404983520508}\n",
            "/content/test-images/trucks-2.jpeg\n",
            "{'preprocess': 1.7180442810058594, 'inference': 5.229592323303223, 'postprocess': 0.9919404983520508}\n",
            "/content/test-images/ambulance-1.jpg\n",
            "{'preprocess': 1.7180442810058594, 'inference': 5.229592323303223, 'postprocess': 0.9919404983520508}\n"
          ]
        }
      ],
      "source": [
        "for result in results:\n",
        "    print(result.path)\n",
        "    print(result.speed)"
      ]
    },
    {
      "cell_type": "markdown",
      "source": [
        "After quantization, we get 5ms on inference."
      ],
      "metadata": {
        "id": "GJ6R3zBfaOF6"
      }
    },
    {
      "cell_type": "markdown",
      "source": [
        "### Evaluate after quantization"
      ],
      "metadata": {
        "id": "8CoxoiUI7PzH"
      }
    },
    {
      "cell_type": "markdown",
      "source": [
        "Now let's test the model after quantizatoin"
      ],
      "metadata": {
        "id": "MYH6jwg87Yhb"
      }
    },
    {
      "cell_type": "code",
      "source": [
        "model_int8 = YOLO('/content/best.torchscript', task='detect')\n",
        "model_int8.val(data='/content/PH-Ambulances-1/new_data.yaml', imgsz=640)"
      ],
      "metadata": {
        "colab": {
          "base_uri": "https://localhost:8080/"
        },
        "id": "GC23AVk_7XZI",
        "outputId": "658cef2e-7263-4c17-af65-f3e643363036"
      },
      "execution_count": 29,
      "outputs": [
        {
          "output_type": "stream",
          "name": "stderr",
          "text": [
            "Ultralytics YOLOv8.0.186 🚀 Python-3.10.12 torch-2.1.0+cu121 CUDA:0 (Tesla T4, 15102MiB)\n",
            "Loading /content/best.torchscript for TorchScript inference...\n",
            "\u001b[34m\u001b[1mval: \u001b[0mScanning /content/PH-Ambulances-1/valid/labels.cache... 1998 images, 28 backgrounds, 0 corrupt: 100%|██████████| 1998/1998 [00:00<?, ?it/s]\n",
            "WARNING ⚠️ Box and segment counts should be equal, but got len(segments) = 1, len(boxes) = 2297. To resolve this only boxes will be used and all segments will be removed. To avoid this please supply either a detect or segment dataset, not a detect-segment mixed dataset.\n",
            "                 Class     Images  Instances      Box(P          R      mAP50  mAP50-95): 100%|██████████| 125/125 [00:25<00:00,  4.92it/s]\n",
            "                   all       1998       2297      0.926      0.882      0.937      0.763\n",
            "            Aambulance       1998       1981      0.935      0.879       0.95      0.712\n",
            "                 truck       1998        316      0.918      0.884      0.924      0.814\n",
            "Speed: 0.5ms preprocess, 3.5ms inference, 0.0ms loss, 2.0ms postprocess per image\n",
            "Results saved to \u001b[1mruns/detect/val4\u001b[0m\n"
          ]
        },
        {
          "output_type": "execute_result",
          "data": {
            "text/plain": [
              "ultralytics.utils.metrics.DetMetrics object with attributes:\n",
              "\n",
              "ap_class_index: array([0, 1])\n",
              "box: ultralytics.utils.metrics.Metric object\n",
              "confusion_matrix: <ultralytics.utils.metrics.ConfusionMatrix object at 0x7be5e8bf7af0>\n",
              "fitness: 0.7800316604589512\n",
              "keys: ['metrics/precision(B)', 'metrics/recall(B)', 'metrics/mAP50(B)', 'metrics/mAP50-95(B)']\n",
              "maps: array([    0.71156,     0.81372,     0.76264])\n",
              "names: {0: 'Aambulance', 1: 'truck', 2: 'object'}\n",
              "plot: True\n",
              "results_dict: {'metrics/precision(B)': 0.9263115112055731, 'metrics/recall(B)': 0.8817990125791239, 'metrics/mAP50(B)': 0.9365922935370529, 'metrics/mAP50-95(B)': 0.7626360345613843, 'fitness': 0.7800316604589512}\n",
              "save_dir: PosixPath('runs/detect/val4')\n",
              "speed: {'preprocess': 0.4792109624043599, 'inference': 3.451474674709805, 'loss': 0.001370369851052224, 'postprocess': 2.0100804301234216}"
            ]
          },
          "metadata": {},
          "execution_count": 29
        }
      ]
    },
    {
      "cell_type": "markdown",
      "source": [
        "Now we get 93.6% mAP@50 and 76.2% map50-9@50-95. A very similar performance with 5x the speed!"
      ],
      "metadata": {
        "id": "P-Gf9S7L7mgb"
      }
    }
  ],
  "metadata": {
    "accelerator": "GPU",
    "colab": {
      "gpuType": "T4",
      "provenance": []
    },
    "kernelspec": {
      "display_name": "Python 3 (ipykernel)",
      "language": "python",
      "name": "python3"
    },
    "language_info": {
      "codemirror_mode": {
        "name": "ipython",
        "version": 3
      },
      "file_extension": ".py",
      "mimetype": "text/x-python",
      "name": "python",
      "nbconvert_exporter": "python",
      "pygments_lexer": "ipython3",
      "version": "3.9.0"
    },
    "widgets": {
      "application/vnd.jupyter.widget-state+json": {
        "4710430554f44a54bb68df8c4ff78c68": {
          "model_module": "@jupyter-widgets/base",
          "model_module_version": "1.2.0",
          "model_name": "LayoutModel",
          "state": {
            "_model_module": "@jupyter-widgets/base",
            "_model_module_version": "1.2.0",
            "_model_name": "LayoutModel",
            "_view_count": null,
            "_view_module": "@jupyter-widgets/base",
            "_view_module_version": "1.2.0",
            "_view_name": "LayoutView",
            "align_content": null,
            "align_items": null,
            "align_self": null,
            "border": null,
            "bottom": null,
            "display": null,
            "flex": null,
            "flex_flow": null,
            "grid_area": null,
            "grid_auto_columns": null,
            "grid_auto_flow": null,
            "grid_auto_rows": null,
            "grid_column": null,
            "grid_gap": null,
            "grid_row": null,
            "grid_template_areas": null,
            "grid_template_columns": null,
            "grid_template_rows": null,
            "height": null,
            "justify_content": null,
            "justify_items": null,
            "left": null,
            "margin": null,
            "max_height": null,
            "max_width": null,
            "min_height": null,
            "min_width": null,
            "object_fit": null,
            "object_position": null,
            "order": null,
            "overflow": null,
            "overflow_x": null,
            "overflow_y": null,
            "padding": null,
            "right": null,
            "top": null,
            "visibility": null,
            "width": null
          }
        },
        "53b1bf15ef2c46f08d6be392a39002db": {
          "model_module": "@jupyter-widgets/controls",
          "model_module_version": "1.5.0",
          "model_name": "HTMLModel",
          "state": {
            "_dom_classes": [],
            "_model_module": "@jupyter-widgets/controls",
            "_model_module_version": "1.5.0",
            "_model_name": "HTMLModel",
            "_view_count": null,
            "_view_module": "@jupyter-widgets/controls",
            "_view_module_version": "1.5.0",
            "_view_name": "HTMLView",
            "description": "",
            "description_tooltip": null,
            "layout": "IPY_MODEL_799c6388e1af417d8dd3f808e3052f3d",
            "placeholder": "​",
            "style": "IPY_MODEL_db26068c72654b0ca98ec159da4c42cf",
            "value": " 4/4 [00:00&lt;00:00, 26.62it/s]"
          }
        },
        "611799b672064285b26f74c9d170fdf9": {
          "model_module": "@jupyter-widgets/base",
          "model_module_version": "1.2.0",
          "model_name": "LayoutModel",
          "state": {
            "_model_module": "@jupyter-widgets/base",
            "_model_module_version": "1.2.0",
            "_model_name": "LayoutModel",
            "_view_count": null,
            "_view_module": "@jupyter-widgets/base",
            "_view_module_version": "1.2.0",
            "_view_name": "LayoutView",
            "align_content": null,
            "align_items": null,
            "align_self": null,
            "border": null,
            "bottom": null,
            "display": null,
            "flex": null,
            "flex_flow": null,
            "grid_area": null,
            "grid_auto_columns": null,
            "grid_auto_flow": null,
            "grid_auto_rows": null,
            "grid_column": null,
            "grid_gap": null,
            "grid_row": null,
            "grid_template_areas": null,
            "grid_template_columns": null,
            "grid_template_rows": null,
            "height": null,
            "justify_content": null,
            "justify_items": null,
            "left": null,
            "margin": null,
            "max_height": null,
            "max_width": null,
            "min_height": null,
            "min_width": null,
            "object_fit": null,
            "object_position": null,
            "order": null,
            "overflow": null,
            "overflow_x": null,
            "overflow_y": null,
            "padding": null,
            "right": null,
            "top": null,
            "visibility": null,
            "width": null
          }
        },
        "692356c44bc9495f813773be6647d096": {
          "model_module": "@jupyter-widgets/base",
          "model_module_version": "1.2.0",
          "model_name": "LayoutModel",
          "state": {
            "_model_module": "@jupyter-widgets/base",
            "_model_module_version": "1.2.0",
            "_model_name": "LayoutModel",
            "_view_count": null,
            "_view_module": "@jupyter-widgets/base",
            "_view_module_version": "1.2.0",
            "_view_name": "LayoutView",
            "align_content": null,
            "align_items": null,
            "align_self": null,
            "border": null,
            "bottom": null,
            "display": null,
            "flex": null,
            "flex_flow": null,
            "grid_area": null,
            "grid_auto_columns": null,
            "grid_auto_flow": null,
            "grid_auto_rows": null,
            "grid_column": null,
            "grid_gap": null,
            "grid_row": null,
            "grid_template_areas": null,
            "grid_template_columns": null,
            "grid_template_rows": null,
            "height": null,
            "justify_content": null,
            "justify_items": null,
            "left": null,
            "margin": null,
            "max_height": null,
            "max_width": null,
            "min_height": null,
            "min_width": null,
            "object_fit": null,
            "object_position": null,
            "order": null,
            "overflow": null,
            "overflow_x": null,
            "overflow_y": null,
            "padding": null,
            "right": null,
            "top": null,
            "visibility": null,
            "width": null
          }
        },
        "6b052403c7d14238ae95ba4361183506": {
          "model_module": "@jupyter-widgets/controls",
          "model_module_version": "1.5.0",
          "model_name": "ProgressStyleModel",
          "state": {
            "_model_module": "@jupyter-widgets/controls",
            "_model_module_version": "1.5.0",
            "_model_name": "ProgressStyleModel",
            "_view_count": null,
            "_view_module": "@jupyter-widgets/base",
            "_view_module_version": "1.2.0",
            "_view_name": "StyleView",
            "bar_color": null,
            "description_width": ""
          }
        },
        "6b71f8dec17c43669417e6a900352e80": {
          "model_module": "@jupyter-widgets/controls",
          "model_module_version": "1.5.0",
          "model_name": "DescriptionStyleModel",
          "state": {
            "_model_module": "@jupyter-widgets/controls",
            "_model_module_version": "1.5.0",
            "_model_name": "DescriptionStyleModel",
            "_view_count": null,
            "_view_module": "@jupyter-widgets/base",
            "_view_module_version": "1.2.0",
            "_view_name": "StyleView",
            "description_width": ""
          }
        },
        "799c6388e1af417d8dd3f808e3052f3d": {
          "model_module": "@jupyter-widgets/base",
          "model_module_version": "1.2.0",
          "model_name": "LayoutModel",
          "state": {
            "_model_module": "@jupyter-widgets/base",
            "_model_module_version": "1.2.0",
            "_model_name": "LayoutModel",
            "_view_count": null,
            "_view_module": "@jupyter-widgets/base",
            "_view_module_version": "1.2.0",
            "_view_name": "LayoutView",
            "align_content": null,
            "align_items": null,
            "align_self": null,
            "border": null,
            "bottom": null,
            "display": null,
            "flex": null,
            "flex_flow": null,
            "grid_area": null,
            "grid_auto_columns": null,
            "grid_auto_flow": null,
            "grid_auto_rows": null,
            "grid_column": null,
            "grid_gap": null,
            "grid_row": null,
            "grid_template_areas": null,
            "grid_template_columns": null,
            "grid_template_rows": null,
            "height": null,
            "justify_content": null,
            "justify_items": null,
            "left": null,
            "margin": null,
            "max_height": null,
            "max_width": null,
            "min_height": null,
            "min_width": null,
            "object_fit": null,
            "object_position": null,
            "order": null,
            "overflow": null,
            "overflow_x": null,
            "overflow_y": null,
            "padding": null,
            "right": null,
            "top": null,
            "visibility": null,
            "width": null
          }
        },
        "972f47f0504e4dae8de4c32a34743023": {
          "model_module": "@jupyter-widgets/controls",
          "model_module_version": "1.5.0",
          "model_name": "DescriptionStyleModel",
          "state": {
            "_model_module": "@jupyter-widgets/controls",
            "_model_module_version": "1.5.0",
            "_model_name": "DescriptionStyleModel",
            "_view_count": null,
            "_view_module": "@jupyter-widgets/base",
            "_view_module_version": "1.2.0",
            "_view_name": "StyleView",
            "description_width": ""
          }
        },
        "9924385b30a741248b6bf1bb9e1b462c": {
          "model_module": "@jupyter-widgets/controls",
          "model_module_version": "1.5.0",
          "model_name": "ProgressStyleModel",
          "state": {
            "_model_module": "@jupyter-widgets/controls",
            "_model_module_version": "1.5.0",
            "_model_name": "ProgressStyleModel",
            "_view_count": null,
            "_view_module": "@jupyter-widgets/base",
            "_view_module_version": "1.2.0",
            "_view_name": "StyleView",
            "bar_color": null,
            "description_width": ""
          }
        },
        "b2126c881d4e45dcae961c69be14f637": {
          "model_module": "@jupyter-widgets/base",
          "model_module_version": "1.2.0",
          "model_name": "LayoutModel",
          "state": {
            "_model_module": "@jupyter-widgets/base",
            "_model_module_version": "1.2.0",
            "_model_name": "LayoutModel",
            "_view_count": null,
            "_view_module": "@jupyter-widgets/base",
            "_view_module_version": "1.2.0",
            "_view_name": "LayoutView",
            "align_content": null,
            "align_items": null,
            "align_self": null,
            "border": null,
            "bottom": null,
            "display": null,
            "flex": null,
            "flex_flow": null,
            "grid_area": null,
            "grid_auto_columns": null,
            "grid_auto_flow": null,
            "grid_auto_rows": null,
            "grid_column": null,
            "grid_gap": null,
            "grid_row": null,
            "grid_template_areas": null,
            "grid_template_columns": null,
            "grid_template_rows": null,
            "height": null,
            "justify_content": null,
            "justify_items": null,
            "left": null,
            "margin": null,
            "max_height": null,
            "max_width": null,
            "min_height": null,
            "min_width": null,
            "object_fit": null,
            "object_position": null,
            "order": null,
            "overflow": null,
            "overflow_x": null,
            "overflow_y": null,
            "padding": null,
            "right": null,
            "top": null,
            "visibility": null,
            "width": null
          }
        },
        "b2849ae7a0d64918b022749d8c1a87d5": {
          "model_module": "@jupyter-widgets/controls",
          "model_module_version": "1.5.0",
          "model_name": "VBoxModel",
          "state": {
            "_dom_classes": [],
            "_model_module": "@jupyter-widgets/controls",
            "_model_module_version": "1.5.0",
            "_model_name": "VBoxModel",
            "_view_count": null,
            "_view_module": "@jupyter-widgets/controls",
            "_view_module_version": "1.5.0",
            "_view_name": "VBoxView",
            "box_style": "",
            "children": [
              "IPY_MODEL_d8a9d3941b05413ca2fb9761bdfec3bb",
              "IPY_MODEL_e3ba8927fd3645beab5e3ac2d4951c4f"
            ],
            "layout": "IPY_MODEL_611799b672064285b26f74c9d170fdf9"
          }
        },
        "b71b6f27f0f44383ba2e8d9b541dec75": {
          "model_module": "@jupyter-widgets/controls",
          "model_module_version": "1.5.0",
          "model_name": "HTMLModel",
          "state": {
            "_dom_classes": [],
            "_model_module": "@jupyter-widgets/controls",
            "_model_module_version": "1.5.0",
            "_model_name": "HTMLModel",
            "_view_count": null,
            "_view_module": "@jupyter-widgets/controls",
            "_view_module_version": "1.5.0",
            "_view_name": "HTMLView",
            "description": "",
            "description_tooltip": null,
            "layout": "IPY_MODEL_d9dca7f3973a4496a8f2836628e49a09",
            "placeholder": "​",
            "style": "IPY_MODEL_972f47f0504e4dae8de4c32a34743023",
            "value": "100%"
          }
        },
        "bbfddb3c5df74abca2ccf6885fe3c875": {
          "model_module": "@jupyter-widgets/controls",
          "model_module_version": "1.5.0",
          "model_name": "FloatProgressModel",
          "state": {
            "_dom_classes": [],
            "_model_module": "@jupyter-widgets/controls",
            "_model_module_version": "1.5.0",
            "_model_name": "FloatProgressModel",
            "_view_count": null,
            "_view_module": "@jupyter-widgets/controls",
            "_view_module_version": "1.5.0",
            "_view_name": "ProgressView",
            "bar_style": "success",
            "description": "",
            "description_tooltip": null,
            "layout": "IPY_MODEL_4710430554f44a54bb68df8c4ff78c68",
            "max": 4,
            "min": 0,
            "orientation": "horizontal",
            "style": "IPY_MODEL_9924385b30a741248b6bf1bb9e1b462c",
            "value": 4
          }
        },
        "c2eaaff20b0e41ecb25814009c099ebf": {
          "model_module": "@jupyter-widgets/base",
          "model_module_version": "1.2.0",
          "model_name": "LayoutModel",
          "state": {
            "_model_module": "@jupyter-widgets/base",
            "_model_module_version": "1.2.0",
            "_model_name": "LayoutModel",
            "_view_count": null,
            "_view_module": "@jupyter-widgets/base",
            "_view_module_version": "1.2.0",
            "_view_name": "LayoutView",
            "align_content": null,
            "align_items": null,
            "align_self": null,
            "border": null,
            "bottom": null,
            "display": null,
            "flex": null,
            "flex_flow": null,
            "grid_area": null,
            "grid_auto_columns": null,
            "grid_auto_flow": null,
            "grid_auto_rows": null,
            "grid_column": null,
            "grid_gap": null,
            "grid_row": null,
            "grid_template_areas": null,
            "grid_template_columns": null,
            "grid_template_rows": null,
            "height": null,
            "justify_content": null,
            "justify_items": null,
            "left": null,
            "margin": null,
            "max_height": null,
            "max_width": null,
            "min_height": null,
            "min_width": null,
            "object_fit": null,
            "object_position": null,
            "order": null,
            "overflow": null,
            "overflow_x": null,
            "overflow_y": null,
            "padding": null,
            "right": null,
            "top": null,
            "visibility": null,
            "width": null
          }
        },
        "d44a52bcbd874b709eafa45457856aa9": {
          "model_module": "@jupyter-widgets/controls",
          "model_module_version": "1.5.0",
          "model_name": "HBoxModel",
          "state": {
            "_dom_classes": [],
            "_model_module": "@jupyter-widgets/controls",
            "_model_module_version": "1.5.0",
            "_model_name": "HBoxModel",
            "_view_count": null,
            "_view_module": "@jupyter-widgets/controls",
            "_view_module_version": "1.5.0",
            "_view_name": "HBoxView",
            "box_style": "",
            "children": [
              "IPY_MODEL_b71b6f27f0f44383ba2e8d9b541dec75",
              "IPY_MODEL_bbfddb3c5df74abca2ccf6885fe3c875",
              "IPY_MODEL_53b1bf15ef2c46f08d6be392a39002db"
            ],
            "layout": "IPY_MODEL_b2126c881d4e45dcae961c69be14f637"
          }
        },
        "d8a9d3941b05413ca2fb9761bdfec3bb": {
          "model_module": "@jupyter-widgets/controls",
          "model_module_version": "1.5.0",
          "model_name": "LabelModel",
          "state": {
            "_dom_classes": [],
            "_model_module": "@jupyter-widgets/controls",
            "_model_module_version": "1.5.0",
            "_model_name": "LabelModel",
            "_view_count": null,
            "_view_module": "@jupyter-widgets/controls",
            "_view_module_version": "1.5.0",
            "_view_name": "LabelView",
            "description": "",
            "description_tooltip": null,
            "layout": "IPY_MODEL_692356c44bc9495f813773be6647d096",
            "placeholder": "​",
            "style": "IPY_MODEL_6b71f8dec17c43669417e6a900352e80",
            "value": "0.311 MB of 0.325 MB uploaded (0.000 MB deduped)\r"
          }
        },
        "d9dca7f3973a4496a8f2836628e49a09": {
          "model_module": "@jupyter-widgets/base",
          "model_module_version": "1.2.0",
          "model_name": "LayoutModel",
          "state": {
            "_model_module": "@jupyter-widgets/base",
            "_model_module_version": "1.2.0",
            "_model_name": "LayoutModel",
            "_view_count": null,
            "_view_module": "@jupyter-widgets/base",
            "_view_module_version": "1.2.0",
            "_view_name": "LayoutView",
            "align_content": null,
            "align_items": null,
            "align_self": null,
            "border": null,
            "bottom": null,
            "display": null,
            "flex": null,
            "flex_flow": null,
            "grid_area": null,
            "grid_auto_columns": null,
            "grid_auto_flow": null,
            "grid_auto_rows": null,
            "grid_column": null,
            "grid_gap": null,
            "grid_row": null,
            "grid_template_areas": null,
            "grid_template_columns": null,
            "grid_template_rows": null,
            "height": null,
            "justify_content": null,
            "justify_items": null,
            "left": null,
            "margin": null,
            "max_height": null,
            "max_width": null,
            "min_height": null,
            "min_width": null,
            "object_fit": null,
            "object_position": null,
            "order": null,
            "overflow": null,
            "overflow_x": null,
            "overflow_y": null,
            "padding": null,
            "right": null,
            "top": null,
            "visibility": null,
            "width": null
          }
        },
        "db26068c72654b0ca98ec159da4c42cf": {
          "model_module": "@jupyter-widgets/controls",
          "model_module_version": "1.5.0",
          "model_name": "DescriptionStyleModel",
          "state": {
            "_model_module": "@jupyter-widgets/controls",
            "_model_module_version": "1.5.0",
            "_model_name": "DescriptionStyleModel",
            "_view_count": null,
            "_view_module": "@jupyter-widgets/base",
            "_view_module_version": "1.2.0",
            "_view_name": "StyleView",
            "description_width": ""
          }
        },
        "e3ba8927fd3645beab5e3ac2d4951c4f": {
          "model_module": "@jupyter-widgets/controls",
          "model_module_version": "1.5.0",
          "model_name": "FloatProgressModel",
          "state": {
            "_dom_classes": [],
            "_model_module": "@jupyter-widgets/controls",
            "_model_module_version": "1.5.0",
            "_model_name": "FloatProgressModel",
            "_view_count": null,
            "_view_module": "@jupyter-widgets/controls",
            "_view_module_version": "1.5.0",
            "_view_name": "ProgressView",
            "bar_style": "",
            "description": "",
            "description_tooltip": null,
            "layout": "IPY_MODEL_c2eaaff20b0e41ecb25814009c099ebf",
            "max": 1,
            "min": 0,
            "orientation": "horizontal",
            "style": "IPY_MODEL_6b052403c7d14238ae95ba4361183506",
            "value": 0.9561951007562591
          }
        },
        "c3ee10a96d13455c8f015de49750369e": {
          "model_module": "@jupyter-widgets/controls",
          "model_name": "HBoxModel",
          "model_module_version": "1.5.0",
          "state": {
            "_dom_classes": [],
            "_model_module": "@jupyter-widgets/controls",
            "_model_module_version": "1.5.0",
            "_model_name": "HBoxModel",
            "_view_count": null,
            "_view_module": "@jupyter-widgets/controls",
            "_view_module_version": "1.5.0",
            "_view_name": "HBoxView",
            "box_style": "",
            "children": [
              "IPY_MODEL_227418cc6be847d18e940a0dbf300185",
              "IPY_MODEL_04cedf4be59d46e09c3a8f7eeff43450",
              "IPY_MODEL_1dfdc4caab1644fd9faabee8e9f089be"
            ],
            "layout": "IPY_MODEL_453204342fae4c1a9516cda9164d5312"
          }
        },
        "227418cc6be847d18e940a0dbf300185": {
          "model_module": "@jupyter-widgets/controls",
          "model_name": "HTMLModel",
          "model_module_version": "1.5.0",
          "state": {
            "_dom_classes": [],
            "_model_module": "@jupyter-widgets/controls",
            "_model_module_version": "1.5.0",
            "_model_name": "HTMLModel",
            "_view_count": null,
            "_view_module": "@jupyter-widgets/controls",
            "_view_module_version": "1.5.0",
            "_view_name": "HTMLView",
            "description": "",
            "description_tooltip": null,
            "layout": "IPY_MODEL_040346f7e1244a7290a658b2cbd5586b",
            "placeholder": "​",
            "style": "IPY_MODEL_9e676e64cf4d4502b477c4bd2042cbff",
            "value": "100%"
          }
        },
        "04cedf4be59d46e09c3a8f7eeff43450": {
          "model_module": "@jupyter-widgets/controls",
          "model_name": "FloatProgressModel",
          "model_module_version": "1.5.0",
          "state": {
            "_dom_classes": [],
            "_model_module": "@jupyter-widgets/controls",
            "_model_module_version": "1.5.0",
            "_model_name": "FloatProgressModel",
            "_view_count": null,
            "_view_module": "@jupyter-widgets/controls",
            "_view_module_version": "1.5.0",
            "_view_name": "ProgressView",
            "bar_style": "success",
            "description": "",
            "description_tooltip": null,
            "layout": "IPY_MODEL_7d08ecec77a846f8afa4393796168b94",
            "max": 4,
            "min": 0,
            "orientation": "horizontal",
            "style": "IPY_MODEL_933c867713904112af096423cf0e30f0",
            "value": 4
          }
        },
        "1dfdc4caab1644fd9faabee8e9f089be": {
          "model_module": "@jupyter-widgets/controls",
          "model_name": "HTMLModel",
          "model_module_version": "1.5.0",
          "state": {
            "_dom_classes": [],
            "_model_module": "@jupyter-widgets/controls",
            "_model_module_version": "1.5.0",
            "_model_name": "HTMLModel",
            "_view_count": null,
            "_view_module": "@jupyter-widgets/controls",
            "_view_module_version": "1.5.0",
            "_view_name": "HTMLView",
            "description": "",
            "description_tooltip": null,
            "layout": "IPY_MODEL_996892f47a234c7ba10c56eb5fea5a70",
            "placeholder": "​",
            "style": "IPY_MODEL_c170fd5f56ba4f1f876ce03b62acc9e2",
            "value": " 4/4 [00:00&lt;00:00, 26.02it/s]"
          }
        },
        "453204342fae4c1a9516cda9164d5312": {
          "model_module": "@jupyter-widgets/base",
          "model_name": "LayoutModel",
          "model_module_version": "1.2.0",
          "state": {
            "_model_module": "@jupyter-widgets/base",
            "_model_module_version": "1.2.0",
            "_model_name": "LayoutModel",
            "_view_count": null,
            "_view_module": "@jupyter-widgets/base",
            "_view_module_version": "1.2.0",
            "_view_name": "LayoutView",
            "align_content": null,
            "align_items": null,
            "align_self": null,
            "border": null,
            "bottom": null,
            "display": null,
            "flex": null,
            "flex_flow": null,
            "grid_area": null,
            "grid_auto_columns": null,
            "grid_auto_flow": null,
            "grid_auto_rows": null,
            "grid_column": null,
            "grid_gap": null,
            "grid_row": null,
            "grid_template_areas": null,
            "grid_template_columns": null,
            "grid_template_rows": null,
            "height": null,
            "justify_content": null,
            "justify_items": null,
            "left": null,
            "margin": null,
            "max_height": null,
            "max_width": null,
            "min_height": null,
            "min_width": null,
            "object_fit": null,
            "object_position": null,
            "order": null,
            "overflow": null,
            "overflow_x": null,
            "overflow_y": null,
            "padding": null,
            "right": null,
            "top": null,
            "visibility": null,
            "width": null
          }
        },
        "040346f7e1244a7290a658b2cbd5586b": {
          "model_module": "@jupyter-widgets/base",
          "model_name": "LayoutModel",
          "model_module_version": "1.2.0",
          "state": {
            "_model_module": "@jupyter-widgets/base",
            "_model_module_version": "1.2.0",
            "_model_name": "LayoutModel",
            "_view_count": null,
            "_view_module": "@jupyter-widgets/base",
            "_view_module_version": "1.2.0",
            "_view_name": "LayoutView",
            "align_content": null,
            "align_items": null,
            "align_self": null,
            "border": null,
            "bottom": null,
            "display": null,
            "flex": null,
            "flex_flow": null,
            "grid_area": null,
            "grid_auto_columns": null,
            "grid_auto_flow": null,
            "grid_auto_rows": null,
            "grid_column": null,
            "grid_gap": null,
            "grid_row": null,
            "grid_template_areas": null,
            "grid_template_columns": null,
            "grid_template_rows": null,
            "height": null,
            "justify_content": null,
            "justify_items": null,
            "left": null,
            "margin": null,
            "max_height": null,
            "max_width": null,
            "min_height": null,
            "min_width": null,
            "object_fit": null,
            "object_position": null,
            "order": null,
            "overflow": null,
            "overflow_x": null,
            "overflow_y": null,
            "padding": null,
            "right": null,
            "top": null,
            "visibility": null,
            "width": null
          }
        },
        "9e676e64cf4d4502b477c4bd2042cbff": {
          "model_module": "@jupyter-widgets/controls",
          "model_name": "DescriptionStyleModel",
          "model_module_version": "1.5.0",
          "state": {
            "_model_module": "@jupyter-widgets/controls",
            "_model_module_version": "1.5.0",
            "_model_name": "DescriptionStyleModel",
            "_view_count": null,
            "_view_module": "@jupyter-widgets/base",
            "_view_module_version": "1.2.0",
            "_view_name": "StyleView",
            "description_width": ""
          }
        },
        "7d08ecec77a846f8afa4393796168b94": {
          "model_module": "@jupyter-widgets/base",
          "model_name": "LayoutModel",
          "model_module_version": "1.2.0",
          "state": {
            "_model_module": "@jupyter-widgets/base",
            "_model_module_version": "1.2.0",
            "_model_name": "LayoutModel",
            "_view_count": null,
            "_view_module": "@jupyter-widgets/base",
            "_view_module_version": "1.2.0",
            "_view_name": "LayoutView",
            "align_content": null,
            "align_items": null,
            "align_self": null,
            "border": null,
            "bottom": null,
            "display": null,
            "flex": null,
            "flex_flow": null,
            "grid_area": null,
            "grid_auto_columns": null,
            "grid_auto_flow": null,
            "grid_auto_rows": null,
            "grid_column": null,
            "grid_gap": null,
            "grid_row": null,
            "grid_template_areas": null,
            "grid_template_columns": null,
            "grid_template_rows": null,
            "height": null,
            "justify_content": null,
            "justify_items": null,
            "left": null,
            "margin": null,
            "max_height": null,
            "max_width": null,
            "min_height": null,
            "min_width": null,
            "object_fit": null,
            "object_position": null,
            "order": null,
            "overflow": null,
            "overflow_x": null,
            "overflow_y": null,
            "padding": null,
            "right": null,
            "top": null,
            "visibility": null,
            "width": null
          }
        },
        "933c867713904112af096423cf0e30f0": {
          "model_module": "@jupyter-widgets/controls",
          "model_name": "ProgressStyleModel",
          "model_module_version": "1.5.0",
          "state": {
            "_model_module": "@jupyter-widgets/controls",
            "_model_module_version": "1.5.0",
            "_model_name": "ProgressStyleModel",
            "_view_count": null,
            "_view_module": "@jupyter-widgets/base",
            "_view_module_version": "1.2.0",
            "_view_name": "StyleView",
            "bar_color": null,
            "description_width": ""
          }
        },
        "996892f47a234c7ba10c56eb5fea5a70": {
          "model_module": "@jupyter-widgets/base",
          "model_name": "LayoutModel",
          "model_module_version": "1.2.0",
          "state": {
            "_model_module": "@jupyter-widgets/base",
            "_model_module_version": "1.2.0",
            "_model_name": "LayoutModel",
            "_view_count": null,
            "_view_module": "@jupyter-widgets/base",
            "_view_module_version": "1.2.0",
            "_view_name": "LayoutView",
            "align_content": null,
            "align_items": null,
            "align_self": null,
            "border": null,
            "bottom": null,
            "display": null,
            "flex": null,
            "flex_flow": null,
            "grid_area": null,
            "grid_auto_columns": null,
            "grid_auto_flow": null,
            "grid_auto_rows": null,
            "grid_column": null,
            "grid_gap": null,
            "grid_row": null,
            "grid_template_areas": null,
            "grid_template_columns": null,
            "grid_template_rows": null,
            "height": null,
            "justify_content": null,
            "justify_items": null,
            "left": null,
            "margin": null,
            "max_height": null,
            "max_width": null,
            "min_height": null,
            "min_width": null,
            "object_fit": null,
            "object_position": null,
            "order": null,
            "overflow": null,
            "overflow_x": null,
            "overflow_y": null,
            "padding": null,
            "right": null,
            "top": null,
            "visibility": null,
            "width": null
          }
        },
        "c170fd5f56ba4f1f876ce03b62acc9e2": {
          "model_module": "@jupyter-widgets/controls",
          "model_name": "DescriptionStyleModel",
          "model_module_version": "1.5.0",
          "state": {
            "_model_module": "@jupyter-widgets/controls",
            "_model_module_version": "1.5.0",
            "_model_name": "DescriptionStyleModel",
            "_view_count": null,
            "_view_module": "@jupyter-widgets/base",
            "_view_module_version": "1.2.0",
            "_view_name": "StyleView",
            "description_width": ""
          }
        }
      }
    }
  },
  "nbformat": 4,
  "nbformat_minor": 0
}